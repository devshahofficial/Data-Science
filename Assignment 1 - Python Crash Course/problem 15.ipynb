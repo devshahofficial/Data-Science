{
 "cells": [
  {
   "cell_type": "code",
   "execution_count": 2,
   "metadata": {
    "collapsed": true
   },
   "outputs": [],
   "source": [
    "# importing packages\n",
    "\n",
    "import pandas as pd\n",
    "from matplotlib import pyplot as plt"
   ]
  },
  {
   "cell_type": "code",
   "execution_count": 3,
   "outputs": [],
   "source": [
    "# loading dataset\n",
    "loan_dataset = pd.read_excel('loan.xlsx', index_col=0)"
   ],
   "metadata": {
    "collapsed": false,
    "pycharm": {
     "name": "#%%\n"
    }
   }
  },
  {
   "cell_type": "code",
   "execution_count": 4,
   "outputs": [
    {
     "data": {
      "text/plain": "           Age  Time_at_address Res_status  Telephone Occupation Job_status  \\\nSex                                                                           \nM    50.750000            0.585      owner      given  unemploye  unemploye   \nM    19.670000           10.000       rent  not_given   labourer  governmen   \nF    52.830002           15.000      owner      given  creative_  private_s   \nM    22.670000            2.540       rent  not_given  creative_  governmen   \nM    29.250000           13.000      owner      given     driver  governmen   \n\n     Time_employed  Time_bank Liab_ref Acc_ref  Home_Expn  Balance Decision  \nSex                                                                          \nM                0          0        f   given        145        0   reject  \nM                0          0        t   given        140        0   reject  \nF                5         14        f   given          0     2200   accept  \nM                2          0        f   given          0        0   accept  \nM                0          0        f   given        228        0   reject  ",
      "text/html": "<div>\n<style scoped>\n    .dataframe tbody tr th:only-of-type {\n        vertical-align: middle;\n    }\n\n    .dataframe tbody tr th {\n        vertical-align: top;\n    }\n\n    .dataframe thead th {\n        text-align: right;\n    }\n</style>\n<table border=\"1\" class=\"dataframe\">\n  <thead>\n    <tr style=\"text-align: right;\">\n      <th></th>\n      <th>Age</th>\n      <th>Time_at_address</th>\n      <th>Res_status</th>\n      <th>Telephone</th>\n      <th>Occupation</th>\n      <th>Job_status</th>\n      <th>Time_employed</th>\n      <th>Time_bank</th>\n      <th>Liab_ref</th>\n      <th>Acc_ref</th>\n      <th>Home_Expn</th>\n      <th>Balance</th>\n      <th>Decision</th>\n    </tr>\n    <tr>\n      <th>Sex</th>\n      <th></th>\n      <th></th>\n      <th></th>\n      <th></th>\n      <th></th>\n      <th></th>\n      <th></th>\n      <th></th>\n      <th></th>\n      <th></th>\n      <th></th>\n      <th></th>\n      <th></th>\n    </tr>\n  </thead>\n  <tbody>\n    <tr>\n      <th>M</th>\n      <td>50.750000</td>\n      <td>0.585</td>\n      <td>owner</td>\n      <td>given</td>\n      <td>unemploye</td>\n      <td>unemploye</td>\n      <td>0</td>\n      <td>0</td>\n      <td>f</td>\n      <td>given</td>\n      <td>145</td>\n      <td>0</td>\n      <td>reject</td>\n    </tr>\n    <tr>\n      <th>M</th>\n      <td>19.670000</td>\n      <td>10.000</td>\n      <td>rent</td>\n      <td>not_given</td>\n      <td>labourer</td>\n      <td>governmen</td>\n      <td>0</td>\n      <td>0</td>\n      <td>t</td>\n      <td>given</td>\n      <td>140</td>\n      <td>0</td>\n      <td>reject</td>\n    </tr>\n    <tr>\n      <th>F</th>\n      <td>52.830002</td>\n      <td>15.000</td>\n      <td>owner</td>\n      <td>given</td>\n      <td>creative_</td>\n      <td>private_s</td>\n      <td>5</td>\n      <td>14</td>\n      <td>f</td>\n      <td>given</td>\n      <td>0</td>\n      <td>2200</td>\n      <td>accept</td>\n    </tr>\n    <tr>\n      <th>M</th>\n      <td>22.670000</td>\n      <td>2.540</td>\n      <td>rent</td>\n      <td>not_given</td>\n      <td>creative_</td>\n      <td>governmen</td>\n      <td>2</td>\n      <td>0</td>\n      <td>f</td>\n      <td>given</td>\n      <td>0</td>\n      <td>0</td>\n      <td>accept</td>\n    </tr>\n    <tr>\n      <th>M</th>\n      <td>29.250000</td>\n      <td>13.000</td>\n      <td>owner</td>\n      <td>given</td>\n      <td>driver</td>\n      <td>governmen</td>\n      <td>0</td>\n      <td>0</td>\n      <td>f</td>\n      <td>given</td>\n      <td>228</td>\n      <td>0</td>\n      <td>reject</td>\n    </tr>\n  </tbody>\n</table>\n</div>"
     },
     "execution_count": 4,
     "metadata": {},
     "output_type": "execute_result"
    }
   ],
   "source": [
    "loan_dataset.head()\n",
    "# by default head loads first five entries"
   ],
   "metadata": {
    "collapsed": false,
    "pycharm": {
     "name": "#%%\n"
    }
   }
  },
  {
   "cell_type": "code",
   "execution_count": 5,
   "outputs": [
    {
     "name": "stdout",
     "output_type": "stream",
     "text": [
      "Mean =  31.51016316713987\n"
     ]
    }
   ],
   "source": [
    "age = loan_dataset['Age']\n",
    "loan_age_mean =  age.mean(axis=0)\n",
    "print('Mean = ' , loan_age_mean)"
   ],
   "metadata": {
    "collapsed": false,
    "pycharm": {
     "name": "#%%\n"
    }
   }
  },
  {
   "cell_type": "code",
   "execution_count": 6,
   "outputs": [
    {
     "name": "stdout",
     "output_type": "stream",
     "text": [
      "Variance =  140.27074594116948\n"
     ]
    }
   ],
   "source": [
    "loan_age_variance =  age.var(axis=0)\n",
    "print('Variance = ' , loan_age_variance)"
   ],
   "metadata": {
    "collapsed": false,
    "pycharm": {
     "name": "#%%\n"
    }
   }
  },
  {
   "cell_type": "code",
   "execution_count": 7,
   "outputs": [
    {
     "name": "stdout",
     "output_type": "stream",
     "text": [
      "Correlation between Age and Time_at_address =  0.21734150131364385\n"
     ]
    }
   ],
   "source": [
    "# finding correlation between Age and Time_at_address\n",
    "time_at_address = loan_dataset['Time_at_address']\n",
    "correlation_btw_age_time = age.corr(time_at_address)\n",
    "print('Correlation between Age and Time_at_address = ' , correlation_btw_age_time)"
   ],
   "metadata": {
    "collapsed": false,
    "pycharm": {
     "name": "#%%\n"
    }
   }
  },
  {
   "cell_type": "code",
   "execution_count": 8,
   "outputs": [
    {
     "name": "stdout",
     "output_type": "stream",
     "text": [
      "p(Decision = reject | Occupation = Unemployed)\n",
      "\n"
     ]
    },
    {
     "data": {
      "text/plain": "Occupation  creative_  driver  executive  guard_etc  labourer   manager  \\\nDecision                                                                  \naccept       0.478261    0.25        0.6   0.228571  0.285714  0.392857   \nreject       0.521739    0.75        0.4   0.771429  0.714286  0.607143   \n\nOccupation  office_st  productio  professio     sales  semi_pro  unemploye  \nDecision                                                                    \naccept       0.632653   0.488889   0.809524  0.387097      0.75   0.133333  \nreject       0.367347   0.511111   0.190476  0.612903      0.25   0.866667  ",
      "text/html": "<div>\n<style scoped>\n    .dataframe tbody tr th:only-of-type {\n        vertical-align: middle;\n    }\n\n    .dataframe tbody tr th {\n        vertical-align: top;\n    }\n\n    .dataframe thead th {\n        text-align: right;\n    }\n</style>\n<table border=\"1\" class=\"dataframe\">\n  <thead>\n    <tr style=\"text-align: right;\">\n      <th>Occupation</th>\n      <th>creative_</th>\n      <th>driver</th>\n      <th>executive</th>\n      <th>guard_etc</th>\n      <th>labourer</th>\n      <th>manager</th>\n      <th>office_st</th>\n      <th>productio</th>\n      <th>professio</th>\n      <th>sales</th>\n      <th>semi_pro</th>\n      <th>unemploye</th>\n    </tr>\n    <tr>\n      <th>Decision</th>\n      <th></th>\n      <th></th>\n      <th></th>\n      <th></th>\n      <th></th>\n      <th></th>\n      <th></th>\n      <th></th>\n      <th></th>\n      <th></th>\n      <th></th>\n      <th></th>\n    </tr>\n  </thead>\n  <tbody>\n    <tr>\n      <th>accept</th>\n      <td>0.478261</td>\n      <td>0.25</td>\n      <td>0.6</td>\n      <td>0.228571</td>\n      <td>0.285714</td>\n      <td>0.392857</td>\n      <td>0.632653</td>\n      <td>0.488889</td>\n      <td>0.809524</td>\n      <td>0.387097</td>\n      <td>0.75</td>\n      <td>0.133333</td>\n    </tr>\n    <tr>\n      <th>reject</th>\n      <td>0.521739</td>\n      <td>0.75</td>\n      <td>0.4</td>\n      <td>0.771429</td>\n      <td>0.714286</td>\n      <td>0.607143</td>\n      <td>0.367347</td>\n      <td>0.511111</td>\n      <td>0.190476</td>\n      <td>0.612903</td>\n      <td>0.25</td>\n      <td>0.866667</td>\n    </tr>\n  </tbody>\n</table>\n</div>"
     },
     "execution_count": 8,
     "metadata": {},
     "output_type": "execute_result"
    }
   ],
   "source": [
    "decision = loan_dataset['Decision']\n",
    "occupation = loan_dataset['Occupation']\n",
    "\n",
    "# finding conditional probability p(Decision = reject | Occupation = Unemployed)\n",
    "conditional_probability_decision_occupation = pd.crosstab(decision, occupation, normalize='columns')\n",
    "\n",
    "print('p(Decision = reject | Occupation = Unemployed)'+'\\n')\n",
    "conditional_probability_decision_occupation"
   ],
   "metadata": {
    "collapsed": false,
    "pycharm": {
     "name": "#%%\n"
    }
   }
  },
  {
   "cell_type": "code",
   "execution_count": 9,
   "outputs": [
    {
     "data": {
      "text/plain": "<AxesSubplot:xlabel='status', ylabel='frequency'>"
     },
     "execution_count": 9,
     "metadata": {},
     "output_type": "execute_result"
    },
    {
     "data": {
      "text/plain": "<Figure size 432x288 with 1 Axes>",
      "image/png": "[encoded data removed]"
     },
     "metadata": {
      "needs_background": "light"
     },
     "output_type": "display_data"
    }
   ],
   "source": [
    "fig, ax = plt.subplots()\n",
    "\n",
    "# df['numbers'].value_counts().plot(ax=ax, kind='bar', xlabel='numbers', ylabel='frequency')\n",
    "loan_dataset['Job_status'].value_counts().plot(ax=ax, kind='bar', xlabel='status', ylabel='frequency')"
   ],
   "metadata": {
    "collapsed": false,
    "pycharm": {
     "name": "#%%\n"
    }
   }
  },
  {
   "cell_type": "code",
   "execution_count": null,
   "outputs": [],
   "source": [],
   "metadata": {
    "collapsed": false,
    "pycharm": {
     "name": "#%%\n"
    }
   }
  }
 ],
 "metadata": {
  "kernelspec": {
   "display_name": "Python 3",
   "language": "python",
   "name": "python3"
  },
  "language_info": {
   "codemirror_mode": {
    "name": "ipython",
    "version": 2
   },
   "file_extension": ".py",
   "mimetype": "text/x-python",
   "name": "python",
   "nbconvert_exporter": "python",
   "pygments_lexer": "ipython2",
   "version": "2.7.6"
  }
 },
 "nbformat": 4,
 "nbformat_minor": 0
}