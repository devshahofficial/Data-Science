{
 "cells": [
  {
   "cell_type": "code",
   "execution_count": 1,
   "metadata": {
    "collapsed": true
   },
   "outputs": [],
   "source": [
    "# imports\n",
    "import pandas as pd\n",
    "from scipy.stats import chi2_contingency"
   ]
  },
  {
   "cell_type": "code",
   "execution_count": 2,
   "outputs": [],
   "source": [
    "# selecting relevant features is important when it comes to data analysis\n",
    "# Chi square test and ANOVA are popular feature selection techniques\n",
    "# I've tried covering detailed explanation of Chi square for this assessment\n",
    "\n",
    "# loading the datasets\n",
    "loan_dataset = pd.read_excel('loan.xlsx')"
   ],
   "metadata": {
    "collapsed": false,
    "pycharm": {
     "name": "#%%\n"
    }
   }
  },
  {
   "cell_type": "code",
   "execution_count": 3,
   "outputs": [
    {
     "data": {
      "text/plain": "  Sex        Age  Time_at_address Res_status  Telephone Occupation Job_status  \\\n0   M  50.750000            0.585      owner      given  unemploye  unemploye   \n1   M  19.670000           10.000       rent  not_given   labourer  governmen   \n2   F  52.830002           15.000      owner      given  creative_  private_s   \n3   M  22.670000            2.540       rent  not_given  creative_  governmen   \n4   M  29.250000           13.000      owner      given     driver  governmen   \n5   F  16.080000            0.335      owner      given  unemploye  unemploye   \n6   M  23.170000           11.125      owner      given  professio  governmen   \n7   F  27.580000            3.000      owner      given    manager  private_s   \n8   F  19.170000            5.415      owner      given  guard_etc  governmen   \n9   F  27.250000            0.290      owner      given    manager  governmen   \n\n   Time_employed  Time_bank Liab_ref Acc_ref  Home_Expn  Balance Decision  \n0              0          0        f   given        145        0   reject  \n1              0          0        t   given        140        0   reject  \n2              5         14        f   given          0     2200   accept  \n3              2          0        f   given          0        0   accept  \n4              0          0        f   given        228        0   reject  \n5              0          1        f   given        160      126   reject  \n6              0          1        f   given        100        0   accept  \n7              2          1        t   given        280       10   reject  \n8              0          0        f   given         80      484   reject  \n9              0          1        t   given        272      108   reject  ",
      "text/html": "<div>\n<style scoped>\n    .dataframe tbody tr th:only-of-type {\n        vertical-align: middle;\n    }\n\n    .dataframe tbody tr th {\n        vertical-align: top;\n    }\n\n    .dataframe thead th {\n        text-align: right;\n    }\n</style>\n<table border=\"1\" class=\"dataframe\">\n  <thead>\n    <tr style=\"text-align: right;\">\n      <th></th>\n      <th>Sex</th>\n      <th>Age</th>\n      <th>Time_at_address</th>\n      <th>Res_status</th>\n      <th>Telephone</th>\n      <th>Occupation</th>\n      <th>Job_status</th>\n      <th>Time_employed</th>\n      <th>Time_bank</th>\n      <th>Liab_ref</th>\n      <th>Acc_ref</th>\n      <th>Home_Expn</th>\n      <th>Balance</th>\n      <th>Decision</th>\n    </tr>\n  </thead>\n  <tbody>\n    <tr>\n      <th>0</th>\n      <td>M</td>\n      <td>50.750000</td>\n      <td>0.585</td>\n      <td>owner</td>\n      <td>given</td>\n      <td>unemploye</td>\n      <td>unemploye</td>\n      <td>0</td>\n      <td>0</td>\n      <td>f</td>\n      <td>given</td>\n      <td>145</td>\n      <td>0</td>\n      <td>reject</td>\n    </tr>\n    <tr>\n      <th>1</th>\n      <td>M</td>\n      <td>19.670000</td>\n      <td>10.000</td>\n      <td>rent</td>\n      <td>not_given</td>\n      <td>labourer</td>\n      <td>governmen</td>\n      <td>0</td>\n      <td>0</td>\n      <td>t</td>\n      <td>given</td>\n      <td>140</td>\n      <td>0</td>\n      <td>reject</td>\n    </tr>\n    <tr>\n      <th>2</th>\n      <td>F</td>\n      <td>52.830002</td>\n      <td>15.000</td>\n      <td>owner</td>\n      <td>given</td>\n      <td>creative_</td>\n      <td>private_s</td>\n      <td>5</td>\n      <td>14</td>\n      <td>f</td>\n      <td>given</td>\n      <td>0</td>\n      <td>2200</td>\n      <td>accept</td>\n    </tr>\n    <tr>\n      <th>3</th>\n      <td>M</td>\n      <td>22.670000</td>\n      <td>2.540</td>\n      <td>rent</td>\n      <td>not_given</td>\n      <td>creative_</td>\n      <td>governmen</td>\n      <td>2</td>\n      <td>0</td>\n      <td>f</td>\n      <td>given</td>\n      <td>0</td>\n      <td>0</td>\n      <td>accept</td>\n    </tr>\n    <tr>\n      <th>4</th>\n      <td>M</td>\n      <td>29.250000</td>\n      <td>13.000</td>\n      <td>owner</td>\n      <td>given</td>\n      <td>driver</td>\n      <td>governmen</td>\n      <td>0</td>\n      <td>0</td>\n      <td>f</td>\n      <td>given</td>\n      <td>228</td>\n      <td>0</td>\n      <td>reject</td>\n    </tr>\n    <tr>\n      <th>5</th>\n      <td>F</td>\n      <td>16.080000</td>\n      <td>0.335</td>\n      <td>owner</td>\n      <td>given</td>\n      <td>unemploye</td>\n      <td>unemploye</td>\n      <td>0</td>\n      <td>1</td>\n      <td>f</td>\n      <td>given</td>\n      <td>160</td>\n      <td>126</td>\n      <td>reject</td>\n    </tr>\n    <tr>\n      <th>6</th>\n      <td>M</td>\n      <td>23.170000</td>\n      <td>11.125</td>\n      <td>owner</td>\n      <td>given</td>\n      <td>professio</td>\n      <td>governmen</td>\n      <td>0</td>\n      <td>1</td>\n      <td>f</td>\n      <td>given</td>\n      <td>100</td>\n      <td>0</td>\n      <td>accept</td>\n    </tr>\n    <tr>\n      <th>7</th>\n      <td>F</td>\n      <td>27.580000</td>\n      <td>3.000</td>\n      <td>owner</td>\n      <td>given</td>\n      <td>manager</td>\n      <td>private_s</td>\n      <td>2</td>\n      <td>1</td>\n      <td>t</td>\n      <td>given</td>\n      <td>280</td>\n      <td>10</td>\n      <td>reject</td>\n    </tr>\n    <tr>\n      <th>8</th>\n      <td>F</td>\n      <td>19.170000</td>\n      <td>5.415</td>\n      <td>owner</td>\n      <td>given</td>\n      <td>guard_etc</td>\n      <td>governmen</td>\n      <td>0</td>\n      <td>0</td>\n      <td>f</td>\n      <td>given</td>\n      <td>80</td>\n      <td>484</td>\n      <td>reject</td>\n    </tr>\n    <tr>\n      <th>9</th>\n      <td>F</td>\n      <td>27.250000</td>\n      <td>0.290</td>\n      <td>owner</td>\n      <td>given</td>\n      <td>manager</td>\n      <td>governmen</td>\n      <td>0</td>\n      <td>1</td>\n      <td>t</td>\n      <td>given</td>\n      <td>272</td>\n      <td>108</td>\n      <td>reject</td>\n    </tr>\n  </tbody>\n</table>\n</div>"
     },
     "execution_count": 3,
     "metadata": {},
     "output_type": "execute_result"
    }
   ],
   "source": [
    "# basic data loading and analysis for the next few cells\n",
    "loan_dataset.head(10)"
   ],
   "metadata": {
    "collapsed": false,
    "pycharm": {
     "name": "#%%\n"
    }
   }
  },
  {
   "cell_type": "code",
   "execution_count": 4,
   "outputs": [],
   "source": [
    "# encoding categorical data to numbers\n",
    "\n",
    "# encoder = LabelEncoder()\n",
    "# loan_dataset['Sex'] = encoder.fit_transform(loan_dataset['Sex'])\n",
    "# loan_dataset['Res_status'] = encoder.fit_transform(loan_dataset['Res_status'])\n",
    "# loan_dataset['Telephone'] = encoder.fit_transform(loan_dataset['Telephone'])\n",
    "# loan_dataset['Occupation'] = encoder.fit_transform(loan_dataset['Occupation'])\n",
    "# loan_dataset['Job_status'] = encoder.fit_transform(loan_dataset['Job_status'])\n",
    "# loan_dataset['Liab_ref'] = encoder.fit_transform(loan_dataset['Liab_ref'])\n",
    "# loan_dataset['Acc_ref'] = encoder.fit_transform(loan_dataset['Acc_ref'])\n",
    "# loan_dataset['Decision'] = encoder.fit_transform(loan_dataset['Decision'])"
   ],
   "metadata": {
    "collapsed": false,
    "pycharm": {
     "name": "#%%\n"
    }
   }
  },
  {
   "cell_type": "code",
   "execution_count": 5,
   "outputs": [
    {
     "name": "stdout",
     "output_type": "stream",
     "text": [
      "Decision    accept  reject\n",
      "Res_status                \n",
      "owner          161     171\n",
      "rent            31      66 \n",
      "\n"
     ]
    },
    {
     "data": {
      "text/plain": "(7.645830831133978,\n 0.005690368175836289,\n 1,\n array([[148.58741259, 183.41258741],\n        [ 43.41258741,  53.58741259]]))"
     },
     "execution_count": 5,
     "metadata": {},
     "output_type": "execute_result"
    }
   ],
   "source": [
    "# we've been using chi_contingency over chisquare test is the Null Hypothesis\n",
    "# i.e., calculating a significant difference between 2 groups\n",
    "\n",
    "crosstable_Res_status = pd.crosstab(loan_dataset['Res_status'], loan_dataset['Decision'])\n",
    "\n",
    "print(crosstable_Res_status, '\\n')\n",
    "\n",
    "chi_val_Res_status, p_val_Res_status, df_Res_status, exp_Res_status = chi2_contingency(crosstable_Res_status)\n",
    "chi_val_Res_status, p_val_Res_status, df_Res_status, exp_Res_status\n",
    "################################"
   ],
   "metadata": {
    "collapsed": false,
    "pycharm": {
     "name": "#%%\n"
    }
   }
  },
  {
   "cell_type": "code",
   "execution_count": 7,
   "outputs": [
    {
     "name": "stdout",
     "output_type": "stream",
     "text": [
      "Decision   accept  reject\n",
      "Telephone                \n",
      "given         161     171\n",
      "not_given      31      66 \n",
      "\n"
     ]
    },
    {
     "data": {
      "text/plain": "(7.645830831133978,\n 0.005690368175836289,\n 1,\n array([[148.58741259, 183.41258741],\n        [ 43.41258741,  53.58741259]]))"
     },
     "execution_count": 7,
     "metadata": {},
     "output_type": "execute_result"
    }
   ],
   "source": [
    "crosstable_Telephone = pd.crosstab(loan_dataset['Telephone'], loan_dataset['Decision'])\n",
    "\n",
    "print(crosstable_Telephone, '\\n')\n",
    "\n",
    "chi_val_Telephone, p_val_Telephone, df_Telephone, exp_Telephone = chi2_contingency(crosstable_Telephone)\n",
    "chi_val_Telephone, p_val_Telephone, df_Telephone, exp_Telephone\n",
    "################################"
   ],
   "metadata": {
    "collapsed": false,
    "pycharm": {
     "name": "#%%\n"
    }
   }
  },
  {
   "cell_type": "code",
   "execution_count": 7,
   "outputs": [
    {
     "name": "stdout",
     "output_type": "stream",
     "text": [
      "Decision    accept  reject\n",
      "Occupation                \n",
      "creative_       44      48\n",
      "driver           4      12\n",
      "executive       12       8\n",
      "guard_etc        8      27\n",
      "labourer        12      30\n",
      "manager         11      17\n",
      "office_st       31      18\n",
      "productio       22      23\n",
      "professio       17       4\n",
      "sales           12      19\n",
      "semi_pro        15       5\n",
      "unemploye        4      26 \n",
      "\n"
     ]
    },
    {
     "data": {
      "text/plain": "(54.399272667846525,\n 9.980070508394483e-08,\n 11,\n array([[41.17482517, 50.82517483],\n        [ 7.16083916,  8.83916084],\n        [ 8.95104895, 11.04895105],\n        [15.66433566, 19.33566434],\n        [18.7972028 , 23.2027972 ],\n        [12.53146853, 15.46853147],\n        [21.93006993, 27.06993007],\n        [20.13986014, 24.86013986],\n        [ 9.3986014 , 11.6013986 ],\n        [13.87412587, 17.12587413],\n        [ 8.95104895, 11.04895105],\n        [13.42657343, 16.57342657]]))"
     },
     "execution_count": 7,
     "metadata": {},
     "output_type": "execute_result"
    }
   ],
   "source": [
    "crosstable_Occupation = pd.crosstab(loan_dataset['Occupation'], loan_dataset['Decision'])\n",
    "\n",
    "print(crosstable_Occupation, '\\n')\n",
    "\n",
    "chi_val_Occupation, p_val_Occupation, df_Occupation, exp_Occupation = chi2_contingency(crosstable_Occupation)\n",
    "chi_val_Occupation, p_val_Occupation, df_Occupation, exp_Occupation\n",
    "################################"
   ],
   "metadata": {
    "collapsed": false,
    "pycharm": {
     "name": "#%%\n"
    }
   }
  },
  {
   "cell_type": "code",
   "execution_count": 9,
   "outputs": [
    {
     "name": "stdout",
     "output_type": "stream",
     "text": [
      "Decision    accept  reject\n",
      "Job_status                \n",
      "governmen       50      32\n",
      "military         0       1\n",
      "private_s      114     151\n",
      "retired          6       2\n",
      "self_empl       16      21\n",
      "student          2       3\n",
      "unemploye        4      27 \n",
      "\n"
     ]
    },
    {
     "data": {
      "text/plain": "(25.619055363910597,\n 0.0002621149847778766,\n 6,\n array([[ 36.6993007 ,  45.3006993 ],\n        [  0.44755245,   0.55244755],\n        [118.6013986 , 146.3986014 ],\n        [  3.58041958,   4.41958042],\n        [ 16.55944056,  20.44055944],\n        [  2.23776224,   2.76223776],\n        [ 13.87412587,  17.12587413]]))"
     },
     "execution_count": 9,
     "metadata": {},
     "output_type": "execute_result"
    }
   ],
   "source": [
    "crosstable_Job_status = pd.crosstab(loan_dataset['Job_status'], loan_dataset['Decision'])\n",
    "\n",
    "print(crosstable_Job_status, '\\n')\n",
    "\n",
    "chi_val_Job_status, p_val_Job_status, df_Job_status, exp_Job_status = chi2_contingency(crosstable_Job_status)\n",
    "chi_val_Job_status, p_val_Job_status, df_Job_status, exp_Job_status\n",
    "################################"
   ],
   "metadata": {
    "collapsed": false,
    "pycharm": {
     "name": "#%%\n"
    }
   }
  },
  {
   "cell_type": "code",
   "execution_count": 10,
   "outputs": [
    {
     "name": "stdout",
     "output_type": "stream",
     "text": [
      "Decision  accept  reject\n",
      "Liab_ref                \n",
      "f             97     136\n",
      "t             95     101 \n",
      "\n"
     ]
    },
    {
     "data": {
      "text/plain": "(1.7463603456735195,\n 0.1863349426112134,\n 1,\n array([[104.27972028, 128.72027972],\n        [ 87.72027972, 108.27972028]]))"
     },
     "execution_count": 10,
     "metadata": {},
     "output_type": "execute_result"
    }
   ],
   "source": [
    "crosstable_Liab_ref = pd.crosstab(loan_dataset['Liab_ref'], loan_dataset['Decision'])\n",
    "\n",
    "print(crosstable_Liab_ref, '\\n')\n",
    "\n",
    "chi_val_Liab_ref, p_val_Liab_ref, df_Liab_ref, exp_Liab_ref = chi2_contingency(crosstable_Liab_ref)\n",
    "chi_val_Liab_ref, p_val_Liab_ref, df_Liab_ref, exp_Liab_ref\n",
    "################################"
   ],
   "metadata": {
    "collapsed": false,
    "pycharm": {
     "name": "#%%\n"
    }
   }
  },
  {
   "cell_type": "code",
   "execution_count": 11,
   "outputs": [
    {
     "name": "stdout",
     "output_type": "stream",
     "text": [
      "Decision   accept  reject\n",
      "Acc_ref                  \n",
      "given         184     214\n",
      "oth_inst_       8      23 \n",
      "\n"
     ]
    },
    {
     "data": {
      "text/plain": "(4.061563099061301,\n 0.04386987339959904,\n 1,\n array([[178.12587413, 219.87412587],\n        [ 13.87412587,  17.12587413]]))"
     },
     "execution_count": 11,
     "metadata": {},
     "output_type": "execute_result"
    }
   ],
   "source": [
    "crosstable_Acc_ref = pd.crosstab(loan_dataset['Acc_ref'], loan_dataset['Decision'])\n",
    "\n",
    "print(crosstable_Acc_ref, '\\n')\n",
    "\n",
    "chi_val_Acc_ref, p_val_Acc_ref, df_Acc_ref, exp_Acc_ref = chi2_contingency(crosstable_Acc_ref)\n",
    "chi_val_Acc_ref, p_val_Acc_ref, df_Acc_ref, exp_Acc_ref\n",
    "################################"
   ],
   "metadata": {
    "collapsed": false,
    "pycharm": {
     "name": "#%%\n"
    }
   }
  },
  {
   "cell_type": "code",
   "execution_count": null,
   "outputs": [],
   "source": [
    "\n"
   ],
   "metadata": {
    "collapsed": false,
    "pycharm": {
     "name": "#%%\n"
    }
   }
  }
 ],
 "metadata": {
  "kernelspec": {
   "display_name": "Python 3",
   "language": "python",
   "name": "python3"
  },
  "language_info": {
   "codemirror_mode": {
    "name": "ipython",
    "version": 2
   },
   "file_extension": ".py",
   "mimetype": "text/x-python",
   "name": "python",
   "nbconvert_exporter": "python",
   "pygments_lexer": "ipython2",
   "version": "2.7.6"
  }
 },
 "nbformat": 4,
 "nbformat_minor": 0
}