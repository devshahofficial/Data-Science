{
 "cells": [
  {
   "cell_type": "code",
   "execution_count": 1,
   "metadata": {},
   "outputs": [],
   "source": [
    "# Study the decision tree algorithm,\n",
    "# focusing on both entropy based information\n",
    "# gain and Gini index for splitting. Build\n",
    "# decision trees and random forests for the loan\n",
    "# datasets."
   ]
  },
  {
   "cell_type": "code",
   "execution_count": 2,
   "metadata": {
    "pycharm": {
     "name": "#%%\n"
    }
   },
   "outputs": [],
   "source": [
    "# all necessary imports\n",
    "\n",
    "import pandas as pd\n",
    "import numpy as np\n",
    "import seaborn as sns\n",
    "from sklearn import metrics\n",
    "from sklearn.ensemble import RandomForestClassifier\n",
    "from sklearn.tree import DecisionTreeClassifier\n",
    "from sklearn.metrics import confusion_matrix\n",
    "from sklearn.preprocessing import LabelEncoder\n",
    "from sklearn.preprocessing import OneHotEncoder\n",
    "from sklearn.model_selection import train_test_split\n",
    "from scipy.stats import linregress\n",
    "import matplotlib.pyplot as plt\n",
    "from sklearn import tree\n",
    "\n",
    "\n",
    "\n",
    "sns.set(style=\"white\")\n",
    "sns.set(style=\"whitegrid\", color_codes=True)"
   ]
  },
  {
   "cell_type": "code",
   "execution_count": 3,
   "metadata": {
    "pycharm": {
     "name": "#%%\n"
    }
   },
   "outputs": [
    {
     "data": {
      "text/plain": "  Sex        Age  Time_at_address Res_status  Telephone Occupation Job_status  \\\n0   M  50.750000            0.585      owner      given  unemploye  unemploye   \n1   M  19.670000           10.000       rent  not_given   labourer  governmen   \n2   F  52.830002           15.000      owner      given  creative_  private_s   \n3   M  22.670000            2.540       rent  not_given  creative_  governmen   \n4   M  29.250000           13.000      owner      given     driver  governmen   \n\n   Time_employed  Time_bank Liab_ref Acc_ref  Home_Expn  Balance Decision  \n0              0          0        f   given        145        0   reject  \n1              0          0        t   given        140        0   reject  \n2              5         14        f   given          0     2200   accept  \n3              2          0        f   given          0        0   accept  \n4              0          0        f   given        228        0   reject  ",
      "text/html": "<div>\n<style scoped>\n    .dataframe tbody tr th:only-of-type {\n        vertical-align: middle;\n    }\n\n    .dataframe tbody tr th {\n        vertical-align: top;\n    }\n\n    .dataframe thead th {\n        text-align: right;\n    }\n</style>\n<table border=\"1\" class=\"dataframe\">\n  <thead>\n    <tr style=\"text-align: right;\">\n      <th></th>\n      <th>Sex</th>\n      <th>Age</th>\n      <th>Time_at_address</th>\n      <th>Res_status</th>\n      <th>Telephone</th>\n      <th>Occupation</th>\n      <th>Job_status</th>\n      <th>Time_employed</th>\n      <th>Time_bank</th>\n      <th>Liab_ref</th>\n      <th>Acc_ref</th>\n      <th>Home_Expn</th>\n      <th>Balance</th>\n      <th>Decision</th>\n    </tr>\n  </thead>\n  <tbody>\n    <tr>\n      <th>0</th>\n      <td>M</td>\n      <td>50.750000</td>\n      <td>0.585</td>\n      <td>owner</td>\n      <td>given</td>\n      <td>unemploye</td>\n      <td>unemploye</td>\n      <td>0</td>\n      <td>0</td>\n      <td>f</td>\n      <td>given</td>\n      <td>145</td>\n      <td>0</td>\n      <td>reject</td>\n    </tr>\n    <tr>\n      <th>1</th>\n      <td>M</td>\n      <td>19.670000</td>\n      <td>10.000</td>\n      <td>rent</td>\n      <td>not_given</td>\n      <td>labourer</td>\n      <td>governmen</td>\n      <td>0</td>\n      <td>0</td>\n      <td>t</td>\n      <td>given</td>\n      <td>140</td>\n      <td>0</td>\n      <td>reject</td>\n    </tr>\n    <tr>\n      <th>2</th>\n      <td>F</td>\n      <td>52.830002</td>\n      <td>15.000</td>\n      <td>owner</td>\n      <td>given</td>\n      <td>creative_</td>\n      <td>private_s</td>\n      <td>5</td>\n      <td>14</td>\n      <td>f</td>\n      <td>given</td>\n      <td>0</td>\n      <td>2200</td>\n      <td>accept</td>\n    </tr>\n    <tr>\n      <th>3</th>\n      <td>M</td>\n      <td>22.670000</td>\n      <td>2.540</td>\n      <td>rent</td>\n      <td>not_given</td>\n      <td>creative_</td>\n      <td>governmen</td>\n      <td>2</td>\n      <td>0</td>\n      <td>f</td>\n      <td>given</td>\n      <td>0</td>\n      <td>0</td>\n      <td>accept</td>\n    </tr>\n    <tr>\n      <th>4</th>\n      <td>M</td>\n      <td>29.250000</td>\n      <td>13.000</td>\n      <td>owner</td>\n      <td>given</td>\n      <td>driver</td>\n      <td>governmen</td>\n      <td>0</td>\n      <td>0</td>\n      <td>f</td>\n      <td>given</td>\n      <td>228</td>\n      <td>0</td>\n      <td>reject</td>\n    </tr>\n  </tbody>\n</table>\n</div>"
     },
     "execution_count": 3,
     "metadata": {},
     "output_type": "execute_result"
    }
   ],
   "source": [
    "dataset = pd.read_excel('loan.xlsx')\n",
    "new_dataset = dataset\n",
    "dataset.head()"
   ]
  },
  {
   "cell_type": "code",
   "execution_count": 4,
   "metadata": {
    "pycharm": {
     "name": "#%%\n"
    }
   },
   "outputs": [
    {
     "data": {
      "text/plain": "              Age  Time_at_address  Time_employed   Time_bank   Home_Expn  \\\ncount  429.000000       429.000000     429.000000  429.000000  429.000000   \nmean    31.510163         4.650758       1.871795    2.279720  176.727273   \nstd     11.843595         4.804037       3.254023    3.966105  142.590659   \nmin     15.170000         0.000000       0.000000    0.000000    0.000000   \n25%     22.670000         1.000000       0.000000    0.000000   80.000000   \n50%     28.500000         2.750000       1.000000    0.000000  160.000000   \n75%     38.250000         7.000000       2.000000    3.000000  272.000000   \nmax     76.750000        25.209999      20.000000   23.000000  760.000000   \n\n            Balance  \ncount    429.000000  \nmean     898.382284  \nstd     3814.565340  \nmin        0.000000  \n25%        0.000000  \n50%       10.000000  \n75%      484.000000  \nmax    51100.000000  ",
      "text/html": "<div>\n<style scoped>\n    .dataframe tbody tr th:only-of-type {\n        vertical-align: middle;\n    }\n\n    .dataframe tbody tr th {\n        vertical-align: top;\n    }\n\n    .dataframe thead th {\n        text-align: right;\n    }\n</style>\n<table border=\"1\" class=\"dataframe\">\n  <thead>\n    <tr style=\"text-align: right;\">\n      <th></th>\n      <th>Age</th>\n      <th>Time_at_address</th>\n      <th>Time_employed</th>\n      <th>Time_bank</th>\n      <th>Home_Expn</th>\n      <th>Balance</th>\n    </tr>\n  </thead>\n  <tbody>\n    <tr>\n      <th>count</th>\n      <td>429.000000</td>\n      <td>429.000000</td>\n      <td>429.000000</td>\n      <td>429.000000</td>\n      <td>429.000000</td>\n      <td>429.000000</td>\n    </tr>\n    <tr>\n      <th>mean</th>\n      <td>31.510163</td>\n      <td>4.650758</td>\n      <td>1.871795</td>\n      <td>2.279720</td>\n      <td>176.727273</td>\n      <td>898.382284</td>\n    </tr>\n    <tr>\n      <th>std</th>\n      <td>11.843595</td>\n      <td>4.804037</td>\n      <td>3.254023</td>\n      <td>3.966105</td>\n      <td>142.590659</td>\n      <td>3814.565340</td>\n    </tr>\n    <tr>\n      <th>min</th>\n      <td>15.170000</td>\n      <td>0.000000</td>\n      <td>0.000000</td>\n      <td>0.000000</td>\n      <td>0.000000</td>\n      <td>0.000000</td>\n    </tr>\n    <tr>\n      <th>25%</th>\n      <td>22.670000</td>\n      <td>1.000000</td>\n      <td>0.000000</td>\n      <td>0.000000</td>\n      <td>80.000000</td>\n      <td>0.000000</td>\n    </tr>\n    <tr>\n      <th>50%</th>\n      <td>28.500000</td>\n      <td>2.750000</td>\n      <td>1.000000</td>\n      <td>0.000000</td>\n      <td>160.000000</td>\n      <td>10.000000</td>\n    </tr>\n    <tr>\n      <th>75%</th>\n      <td>38.250000</td>\n      <td>7.000000</td>\n      <td>2.000000</td>\n      <td>3.000000</td>\n      <td>272.000000</td>\n      <td>484.000000</td>\n    </tr>\n    <tr>\n      <th>max</th>\n      <td>76.750000</td>\n      <td>25.209999</td>\n      <td>20.000000</td>\n      <td>23.000000</td>\n      <td>760.000000</td>\n      <td>51100.000000</td>\n    </tr>\n  </tbody>\n</table>\n</div>"
     },
     "execution_count": 4,
     "metadata": {},
     "output_type": "execute_result"
    }
   ],
   "source": [
    "# data preprocessing for loan.xlsx file was done\n",
    "# in the previous assignment. The reference for preprocessing\n",
    "# has been taken from the previous assignment\n",
    "\n",
    "# dataset summary\n",
    "dataset.describe()"
   ]
  },
  {
   "cell_type": "code",
   "execution_count": 5,
   "metadata": {
    "pycharm": {
     "name": "#%%\n"
    }
   },
   "outputs": [
    {
     "data": {
      "text/plain": "Sex                0\nAge                0\nTime_at_address    0\nRes_status         0\nTelephone          0\nOccupation         0\nJob_status         0\nTime_employed      0\nTime_bank          0\nLiab_ref           0\nAcc_ref            0\nHome_Expn          0\nBalance            0\nDecision           0\ndtype: int64"
     },
     "execution_count": 5,
     "metadata": {},
     "output_type": "execute_result"
    }
   ],
   "source": [
    "# finding out null data => missing data\n",
    "dataset.isnull().sum()\n",
    "\n",
    "# inference => no missing data"
   ]
  },
  {
   "cell_type": "code",
   "execution_count": 6,
   "metadata": {
    "pycharm": {
     "name": "#%%\n"
    }
   },
   "outputs": [
    {
     "data": {
      "text/plain": "(429, 14)"
     },
     "execution_count": 6,
     "metadata": {},
     "output_type": "execute_result"
    }
   ],
   "source": [
    "dataset.shape\n",
    "\n",
    "# before calculating correlation, we shall one. hot encode Sex, Res_Status, Telephone, Occupation, Job Status, Acc_ref, Decision"
   ]
  },
  {
   "cell_type": "code",
   "execution_count": 7,
   "metadata": {
    "pycharm": {
     "name": "#%%\n"
    }
   },
   "outputs": [],
   "source": [
    "# one hot encoding\n",
    "onehot_encoder = OneHotEncoder(handle_unknown='ignore')\n",
    "\n",
    "# label encoder\n",
    "label_encoder = LabelEncoder()"
   ]
  },
  {
   "cell_type": "code",
   "execution_count": 8,
   "metadata": {
    "pycharm": {
     "name": "#%%\n"
    }
   },
   "outputs": [
    {
     "name": "stdout",
     "output_type": "stream",
     "text": [
      "Sex:  2\n"
     ]
    }
   ],
   "source": [
    "# sex\n",
    "print('Sex: ', dataset['Sex'].nunique())\n",
    "\n",
    "new_dataset['Sex'] = label_encoder.fit_transform(dataset['Sex'])"
   ]
  },
  {
   "cell_type": "code",
   "execution_count": 9,
   "metadata": {
    "pycharm": {
     "name": "#%%\n"
    }
   },
   "outputs": [
    {
     "name": "stdout",
     "output_type": "stream",
     "text": [
      "Res_status:  2\n"
     ]
    }
   ],
   "source": [
    "# Res_Status\n",
    "print('Res_status: ', dataset['Res_status'].nunique())\n",
    "\n",
    "dataset['Res_status'] = label_encoder.fit_transform(dataset['Res_status'])"
   ]
  },
  {
   "cell_type": "code",
   "execution_count": 10,
   "metadata": {
    "pycharm": {
     "name": "#%%\n"
    }
   },
   "outputs": [
    {
     "name": "stdout",
     "output_type": "stream",
     "text": [
      "Telephone:  2\n"
     ]
    }
   ],
   "source": [
    "# Telephone\n",
    "print('Telephone: ', dataset['Telephone'].nunique())\n",
    "\n",
    "dataset['Telephone'] = label_encoder.fit_transform(dataset['Telephone'])"
   ]
  },
  {
   "cell_type": "code",
   "execution_count": 11,
   "metadata": {
    "pycharm": {
     "name": "#%%\n"
    }
   },
   "outputs": [
    {
     "name": "stdout",
     "output_type": "stream",
     "text": [
      "Acc_ref:  2\n"
     ]
    }
   ],
   "source": [
    "# Acc_ref\n",
    "print('Acc_ref: ', dataset['Acc_ref'].nunique())\n",
    "\n",
    "dataset['Acc_ref'] = label_encoder.fit_transform(dataset['Acc_ref'])"
   ]
  },
  {
   "cell_type": "code",
   "execution_count": 12,
   "metadata": {},
   "outputs": [
    {
     "name": "stdout",
     "output_type": "stream",
     "text": [
      "Liab_ref:  2\n"
     ]
    }
   ],
   "source": [
    "# Liab_ref\n",
    "print('Liab_ref: ', dataset['Liab_ref'].nunique())\n",
    "\n",
    "dataset['Liab_ref'] = label_encoder.fit_transform(dataset['Liab_ref'])"
   ]
  },
  {
   "cell_type": "code",
   "execution_count": 13,
   "metadata": {
    "pycharm": {
     "name": "#%%\n"
    }
   },
   "outputs": [
    {
     "name": "stdout",
     "output_type": "stream",
     "text": [
      "object\n",
      "Decision:  2\n"
     ]
    }
   ],
   "source": [
    "# Decision\n",
    "print(dataset['Decision'].dtype)\n",
    "print('Decision: ', dataset['Decision'].nunique())\n",
    "\n",
    "dataset['Decision'] = label_encoder.fit_transform(dataset['Decision'])"
   ]
  },
  {
   "cell_type": "code",
   "execution_count": 14,
   "metadata": {
    "pycharm": {
     "name": "#%%\n"
    }
   },
   "outputs": [
    {
     "name": "stdout",
     "output_type": "stream",
     "text": [
      "Job_status:  ['unemploye' 'governmen' 'private_s' 'self_empl' 'retired' 'student'\n",
      " 'military']\n"
     ]
    }
   ],
   "source": [
    "# Job_status\n",
    "\n",
    "print('Job_status: ', dataset['Job_status'].unique())"
   ]
  },
  {
   "cell_type": "code",
   "execution_count": 15,
   "metadata": {
    "pycharm": {
     "name": "#%%\n"
    }
   },
   "outputs": [
    {
     "name": "stdout",
     "output_type": "stream",
     "text": [
      "Occupation:  ['unemploye' 'labourer' 'creative_' 'driver' 'professio' 'manager'\n",
      " 'guard_etc' 'executive' 'office_st' 'productio' 'semi_pro' 'sales']\n"
     ]
    }
   ],
   "source": [
    "# Occupation\n",
    "print('Occupation: ', dataset['Occupation'].unique())\n",
    "\n",
    "# dataset['Occupation'] = label_encoder.fit_transform(dataset['Res_Status'])"
   ]
  },
  {
   "cell_type": "code",
   "execution_count": 16,
   "metadata": {},
   "outputs": [],
   "source": [
    "features_array = onehot_encoder.fit_transform(dataset[['Job_status', 'Occupation']]).toarray()"
   ]
  },
  {
   "cell_type": "code",
   "execution_count": 17,
   "metadata": {},
   "outputs": [
    {
     "data": {
      "text/plain": "['governmen',\n 'military',\n 'private_s',\n 'retired',\n 'self_empl',\n 'student',\n 'unemploye',\n 'creative_',\n 'driver',\n 'executive',\n 'guard_etc',\n 'labourer',\n 'manager',\n 'office_st',\n 'productio',\n 'professio',\n 'sales',\n 'semi_pro',\n 'unemploye']"
     },
     "execution_count": 17,
     "metadata": {},
     "output_type": "execute_result"
    }
   ],
   "source": [
    "feature_labels = ['governmen', 'military', 'private_s', 'retired', 'self_empl',\n",
    "        'student', 'unemploye', 'creative_', 'driver', 'executive', 'guard_etc', 'labourer',\n",
    "        'manager', 'office_st', 'productio', 'professio', 'sales',\n",
    "        'semi_pro', 'unemploye']\n",
    "feature_labels"
   ]
  },
  {
   "cell_type": "code",
   "execution_count": 18,
   "metadata": {},
   "outputs": [],
   "source": [
    "features = pd.DataFrame(features_array, columns = feature_labels)"
   ]
  },
  {
   "cell_type": "code",
   "execution_count": 19,
   "metadata": {},
   "outputs": [],
   "source": [
    "dataset = pd.concat([dataset, features], axis=1)"
   ]
  },
  {
   "cell_type": "code",
   "execution_count": 20,
   "metadata": {},
   "outputs": [],
   "source": [
    "dataset.drop(['Occupation','Job_status'], axis=1, inplace=True)"
   ]
  },
  {
   "cell_type": "code",
   "execution_count": 21,
   "metadata": {},
   "outputs": [
    {
     "data": {
      "text/plain": "Index(['Sex', 'Age', 'Time_at_address', 'Res_status', 'Telephone',\n       'Time_employed', 'Time_bank', 'Liab_ref', 'Acc_ref', 'Home_Expn',\n       'Balance', 'Decision', 'governmen', 'military', 'private_s', 'retired',\n       'self_empl', 'student', 'unemploye', 'creative_', 'driver', 'executive',\n       'guard_etc', 'labourer', 'manager', 'office_st', 'productio',\n       'professio', 'sales', 'semi_pro', 'unemploye'],\n      dtype='object')"
     },
     "execution_count": 21,
     "metadata": {},
     "output_type": "execute_result"
    }
   ],
   "source": [
    "dataset.columns"
   ]
  },
  {
   "cell_type": "code",
   "execution_count": 22,
   "metadata": {},
   "outputs": [
    {
     "data": {
      "text/plain": "                      Sex       Age  Time_at_address  Res_status  Telephone  \\\nSex              1.000000  0.025167        -0.031594    0.121713   0.121713   \nAge              0.025167  1.000000         0.217342   -0.080265  -0.080265   \nTime_at_address -0.031594  0.217342         1.000000   -0.100614  -0.100614   \nRes_status       0.121713 -0.080265        -0.100614    1.000000   1.000000   \nTelephone        0.121713 -0.080265        -0.100614    1.000000   1.000000   \nTime_employed    0.077239  0.426890         0.278849   -0.074690  -0.074690   \nTime_bank       -0.072303  0.208736         0.202083   -0.132413  -0.132413   \nLiab_ref         0.010508  0.049109        -0.049978    0.018827   0.018827   \nAcc_ref          0.095826 -0.040445        -0.144258   -0.000201  -0.000201   \nHome_Expn        0.115355 -0.072254        -0.267470   -0.006477  -0.006477   \nBalance         -0.045248  0.101819         0.072235   -0.068829  -0.068829   \nDecision         0.052564 -0.181241        -0.163298    0.139104   0.139104   \ngovernmen       -0.071354  0.011700         0.032959    0.006508   0.006508   \nmilitary         0.033287 -0.054508        -0.022068   -0.026127  -0.026127   \nprivate_s        0.043589 -0.247584        -0.083958   -0.021999  -0.021999   \nretired          0.021153  0.309407         0.271421   -0.033319  -0.033319   \nself_empl        0.087138  0.114273        -0.058537   -0.007264  -0.007264   \nstudent         -0.018208 -0.076762         0.030354    0.045143   0.045143   \nunemploye       -0.077631  0.203320         0.020707    0.042843   0.042843   \ncreative_        0.092333 -0.100224        -0.043791    0.029843   0.029843   \ndriver           0.056538 -0.061793         0.036117    0.011242   0.011242   \nexecutive        0.033932  0.195693         0.194672   -0.013801  -0.013801   \nguard_etc        0.022947  0.028675        -0.074592   -0.059316  -0.059316   \nlabourer        -0.008220 -0.035318        -0.027105    0.103196   0.103196   \nmanager          0.141564  0.056127        -0.062565   -0.007468  -0.007468   \noffice_st       -0.239058 -0.085265         0.060743   -0.141542  -0.141542   \nproductio        0.089171 -0.025142         0.007001    0.015006   0.015006   \nprofessio       -0.028788 -0.008012        -0.023361    0.058154   0.058154   \nsales           -0.116177 -0.061906         0.018662   -0.043244  -0.043244   \nsemi_pro         0.057602 -0.002900        -0.069254    0.012631   0.012631   \nunemploye       -0.085110  0.210038         0.028853    0.048437   0.048437   \n\n                 Time_employed  Time_bank  Liab_ref   Acc_ref  Home_Expn  ...  \\\nSex                   0.077239  -0.072303  0.010508  0.095826   0.115355  ...   \nAge                   0.426890   0.208736  0.049109 -0.040445  -0.072254  ...   \nTime_at_address       0.278849   0.202083 -0.049978 -0.144258  -0.267470  ...   \nRes_status           -0.074690  -0.132413  0.018827 -0.000201  -0.006477  ...   \nTelephone            -0.074690  -0.132413  0.018827 -0.000201  -0.006477  ...   \nTime_employed         1.000000   0.291542  0.122561 -0.025000  -0.110933  ...   \nTime_bank             0.291542   1.000000  0.051000 -0.158334  -0.111761  ...   \nLiab_ref              0.122561   0.051000  1.000000  0.033197   0.127133  ...   \nAcc_ref              -0.025000  -0.158334  0.033197  1.000000   0.096426  ...   \nHome_Expn            -0.110933  -0.111761  0.127133  0.096426   1.000000  ...   \nBalance               0.112719   0.153435 -0.013128 -0.065739   0.080366  ...   \nDecision             -0.339833  -0.455942 -0.068508  0.106354   0.087311  ...   \ngovernmen             0.135908   0.097365 -0.041223 -0.066981   0.059496  ...   \nmilitary             -0.027837  -0.003413  0.052702 -0.013490  -0.005677  ...   \nprivate_s            -0.172712  -0.115185  0.037822  0.089868   0.035104  ...   \nretired               0.265212   0.155554 -0.022658 -0.038472  -0.149999  ...   \nself_empl             0.045330   0.030708  0.084938  0.010466   0.076962  ...   \nstudent              -0.042492  -0.035080 -0.012399 -0.030307  -0.043405  ...   \nunemploye            -0.047159  -0.031069 -0.093314 -0.043119  -0.142259  ...   \ncreative_            -0.005600   0.103602 -0.034575 -0.036148  -0.088680  ...   \ndriver               -0.064149  -0.085321  0.041735  0.135115  -0.032013  ...   \nexecutive             0.158402   0.070908 -0.047445  0.023691  -0.022788  ...   \nguard_etc            -0.048504  -0.079085  0.051444 -0.017403   0.070586  ...   \nlabourer             -0.076296  -0.102461  0.044265  0.029235  -0.024372  ...   \nmanager               0.085916  -0.004365  0.041821  0.254292   0.121765  ...   \noffice_st             0.045731   0.115238 -0.005693 -0.071914  -0.017424  ...   \nproductio            -0.005221  -0.035694  0.037271 -0.036777   0.048673  ...   \nprofessio             0.065455   0.030341  0.030484 -0.063317   0.112318  ...   \nsales                -0.080398  -0.087884 -0.057168 -0.077889  -0.049655  ...   \nsemi_pro              0.001919   0.042998 -0.003053 -0.019012   0.094591  ...   \nunemploye            -0.042615  -0.026283 -0.086354 -0.041226  -0.139506  ...   \n\n                 executive  guard_etc  labourer   manager  office_st  \\\nSex               0.033932   0.022947 -0.008220  0.141564  -0.239058   \nAge               0.195693   0.028675 -0.035318  0.056127  -0.085265   \nTime_at_address   0.194672  -0.074592 -0.027105 -0.062565   0.060743   \nRes_status       -0.013801  -0.059316  0.103196 -0.007468  -0.141542   \nTelephone        -0.013801  -0.059316  0.103196 -0.007468  -0.141542   \nTime_employed     0.158402  -0.048504 -0.076296  0.085916   0.045731   \nTime_bank         0.070908  -0.079085 -0.102461 -0.004365   0.115238   \nLiab_ref         -0.047445   0.051444  0.044265  0.041821  -0.005693   \nAcc_ref           0.023691  -0.017403  0.029235  0.254292  -0.071914   \nHome_Expn        -0.022788   0.070586 -0.024372  0.121765  -0.017424   \nBalance           0.153182  -0.025923 -0.053978 -0.023879  -0.008416   \nDecision         -0.067796   0.131258  0.107222  0.029066  -0.133674   \ngovernmen        -0.079377  -0.036600  0.019390 -0.080452   0.179558   \nmilitary         -0.010689  -0.014407 -0.015924 -0.012773  -0.017357   \nprivate_s        -0.190084  -0.203628  0.081608  0.130195  -0.004043   \nretired           0.623377  -0.041086 -0.045412 -0.036426  -0.049501   \nself_empl         0.010833   0.515114 -0.073270 -0.013948  -0.110322   \nstudent           0.491076  -0.032366 -0.035774 -0.028695  -0.038995   \nunemploye        -0.061715  -0.083181 -0.061647 -0.073747  -0.100218   \ncreative_        -0.115540  -0.155727 -0.172127 -0.138066  -0.187623   \ndriver           -0.043525  -0.058664 -0.064842 -0.052011  -0.070679   \nexecutive         1.000000  -0.065908 -0.072849 -0.058433  -0.079407   \nguard_etc        -0.065908   1.000000 -0.098187 -0.078758  -0.107027   \nlabourer         -0.072849  -0.098187  1.000000 -0.087051  -0.118297   \nmanager          -0.058433  -0.078758 -0.087051  1.000000  -0.094888   \noffice_st        -0.079407  -0.107027 -0.118297 -0.094888   1.000000   \nproductio        -0.075700  -0.102030 -0.112774 -0.090458  -0.122927   \nprofessio        -0.050169  -0.067618 -0.074739 -0.059950  -0.081468   \nsales            -0.061715  -0.083181 -0.091941 -0.073747  -0.100218   \nsemi_pro         -0.048900  -0.065908 -0.072849 -0.058433  -0.079407   \nunemploye        -0.060636  -0.081726 -0.090332 -0.072457  -0.098465   \n\n                 productio  professio     sales  semi_pro  unemploye  \nSex               0.089171  -0.028788 -0.116177  0.057602  -0.085110  \nAge              -0.025142  -0.008012 -0.061906 -0.002900   0.210038  \nTime_at_address   0.007001  -0.023361  0.018662 -0.069254   0.028853  \nRes_status        0.015006   0.058154 -0.043244  0.012631   0.048437  \nTelephone         0.015006   0.058154 -0.043244  0.012631   0.048437  \nTime_employed    -0.005221   0.065455 -0.080398  0.001919  -0.042615  \nTime_bank        -0.035694   0.030341 -0.087884  0.042998  -0.026283  \nLiab_ref          0.037271   0.030484 -0.057168 -0.003053  -0.086354  \nAcc_ref          -0.036777  -0.063317 -0.077889 -0.019012  -0.041226  \nHome_Expn         0.048673   0.112318 -0.049655  0.094591  -0.139506  \nBalance          -0.028536   0.004505 -0.028959  0.138420  -0.020692  \nDecision         -0.028458  -0.165153  0.033932 -0.134504   0.173276  \ngovernmen        -0.050329   0.191944 -0.089877  0.117460  -0.133296  \nmilitary         -0.016547  -0.010966 -0.013490 -0.010689  -0.013254  \nprivate_s         0.175375  -0.066073  0.163973 -0.030814  -0.348558  \nretired          -0.047189  -0.031274 -0.038472 -0.030483  -0.037799  \nself_empl        -0.105172  -0.069701 -0.053673 -0.028552  -0.084243  \nstudent          -0.037174  -0.024637 -0.030307 -0.024013  -0.029777  \nunemploye        -0.095539  -0.063317 -0.077889 -0.061715   0.982505  \ncreative_        -0.178863  -0.118538 -0.145820 -0.115540  -0.143269  \ndriver           -0.067379  -0.044654 -0.054932 -0.043525  -0.053971  \nexecutive        -0.075700  -0.050169 -0.061715 -0.048900  -0.060636  \nguard_etc        -0.102030  -0.067618 -0.083181 -0.065908  -0.081726  \nlabourer         -0.112774  -0.074739 -0.091941 -0.072849  -0.090332  \nmanager          -0.090458  -0.059950 -0.073747 -0.058433  -0.072457  \noffice_st        -0.122927  -0.081468 -0.100218 -0.079407  -0.098465  \nproductio         1.000000  -0.077664 -0.095539 -0.075700  -0.093867  \nprofessio        -0.077664   1.000000 -0.063317 -0.050169  -0.062209  \nsales            -0.095539  -0.063317  1.000000 -0.061715  -0.076527  \nsemi_pro         -0.075700  -0.050169 -0.061715  1.000000  -0.060636  \nunemploye        -0.093867  -0.062209 -0.076527 -0.060636   1.000000  \n\n[31 rows x 31 columns]",
      "text/html": "<div>\n<style scoped>\n    .dataframe tbody tr th:only-of-type {\n        vertical-align: middle;\n    }\n\n    .dataframe tbody tr th {\n        vertical-align: top;\n    }\n\n    .dataframe thead th {\n        text-align: right;\n    }\n</style>\n<table border=\"1\" class=\"dataframe\">\n  <thead>\n    <tr style=\"text-align: right;\">\n      <th></th>\n      <th>Sex</th>\n      <th>Age</th>\n      <th>Time_at_address</th>\n      <th>Res_status</th>\n      <th>Telephone</th>\n      <th>Time_employed</th>\n      <th>Time_bank</th>\n      <th>Liab_ref</th>\n      <th>Acc_ref</th>\n      <th>Home_Expn</th>\n      <th>...</th>\n      <th>executive</th>\n      <th>guard_etc</th>\n      <th>labourer</th>\n      <th>manager</th>\n      <th>office_st</th>\n      <th>productio</th>\n      <th>professio</th>\n      <th>sales</th>\n      <th>semi_pro</th>\n      <th>unemploye</th>\n    </tr>\n  </thead>\n  <tbody>\n    <tr>\n      <th>Sex</th>\n      <td>1.000000</td>\n      <td>0.025167</td>\n      <td>-0.031594</td>\n      <td>0.121713</td>\n      <td>0.121713</td>\n      <td>0.077239</td>\n      <td>-0.072303</td>\n      <td>0.010508</td>\n      <td>0.095826</td>\n      <td>0.115355</td>\n      <td>...</td>\n      <td>0.033932</td>\n      <td>0.022947</td>\n      <td>-0.008220</td>\n      <td>0.141564</td>\n      <td>-0.239058</td>\n      <td>0.089171</td>\n      <td>-0.028788</td>\n      <td>-0.116177</td>\n      <td>0.057602</td>\n      <td>-0.085110</td>\n    </tr>\n    <tr>\n      <th>Age</th>\n      <td>0.025167</td>\n      <td>1.000000</td>\n      <td>0.217342</td>\n      <td>-0.080265</td>\n      <td>-0.080265</td>\n      <td>0.426890</td>\n      <td>0.208736</td>\n      <td>0.049109</td>\n      <td>-0.040445</td>\n      <td>-0.072254</td>\n      <td>...</td>\n      <td>0.195693</td>\n      <td>0.028675</td>\n      <td>-0.035318</td>\n      <td>0.056127</td>\n      <td>-0.085265</td>\n      <td>-0.025142</td>\n      <td>-0.008012</td>\n      <td>-0.061906</td>\n      <td>-0.002900</td>\n      <td>0.210038</td>\n    </tr>\n    <tr>\n      <th>Time_at_address</th>\n      <td>-0.031594</td>\n      <td>0.217342</td>\n      <td>1.000000</td>\n      <td>-0.100614</td>\n      <td>-0.100614</td>\n      <td>0.278849</td>\n      <td>0.202083</td>\n      <td>-0.049978</td>\n      <td>-0.144258</td>\n      <td>-0.267470</td>\n      <td>...</td>\n      <td>0.194672</td>\n      <td>-0.074592</td>\n      <td>-0.027105</td>\n      <td>-0.062565</td>\n      <td>0.060743</td>\n      <td>0.007001</td>\n      <td>-0.023361</td>\n      <td>0.018662</td>\n      <td>-0.069254</td>\n      <td>0.028853</td>\n    </tr>\n    <tr>\n      <th>Res_status</th>\n      <td>0.121713</td>\n      <td>-0.080265</td>\n      <td>-0.100614</td>\n      <td>1.000000</td>\n      <td>1.000000</td>\n      <td>-0.074690</td>\n      <td>-0.132413</td>\n      <td>0.018827</td>\n      <td>-0.000201</td>\n      <td>-0.006477</td>\n      <td>...</td>\n      <td>-0.013801</td>\n      <td>-0.059316</td>\n      <td>0.103196</td>\n      <td>-0.007468</td>\n      <td>-0.141542</td>\n      <td>0.015006</td>\n      <td>0.058154</td>\n      <td>-0.043244</td>\n      <td>0.012631</td>\n      <td>0.048437</td>\n    </tr>\n    <tr>\n      <th>Telephone</th>\n      <td>0.121713</td>\n      <td>-0.080265</td>\n      <td>-0.100614</td>\n      <td>1.000000</td>\n      <td>1.000000</td>\n      <td>-0.074690</td>\n      <td>-0.132413</td>\n      <td>0.018827</td>\n      <td>-0.000201</td>\n      <td>-0.006477</td>\n      <td>...</td>\n      <td>-0.013801</td>\n      <td>-0.059316</td>\n      <td>0.103196</td>\n      <td>-0.007468</td>\n      <td>-0.141542</td>\n      <td>0.015006</td>\n      <td>0.058154</td>\n      <td>-0.043244</td>\n      <td>0.012631</td>\n      <td>0.048437</td>\n    </tr>\n    <tr>\n      <th>Time_employed</th>\n      <td>0.077239</td>\n      <td>0.426890</td>\n      <td>0.278849</td>\n      <td>-0.074690</td>\n      <td>-0.074690</td>\n      <td>1.000000</td>\n      <td>0.291542</td>\n      <td>0.122561</td>\n      <td>-0.025000</td>\n      <td>-0.110933</td>\n      <td>...</td>\n      <td>0.158402</td>\n      <td>-0.048504</td>\n      <td>-0.076296</td>\n      <td>0.085916</td>\n      <td>0.045731</td>\n      <td>-0.005221</td>\n      <td>0.065455</td>\n      <td>-0.080398</td>\n      <td>0.001919</td>\n      <td>-0.042615</td>\n    </tr>\n    <tr>\n      <th>Time_bank</th>\n      <td>-0.072303</td>\n      <td>0.208736</td>\n      <td>0.202083</td>\n      <td>-0.132413</td>\n      <td>-0.132413</td>\n      <td>0.291542</td>\n      <td>1.000000</td>\n      <td>0.051000</td>\n      <td>-0.158334</td>\n      <td>-0.111761</td>\n      <td>...</td>\n      <td>0.070908</td>\n      <td>-0.079085</td>\n      <td>-0.102461</td>\n      <td>-0.004365</td>\n      <td>0.115238</td>\n      <td>-0.035694</td>\n      <td>0.030341</td>\n      <td>-0.087884</td>\n      <td>0.042998</td>\n      <td>-0.026283</td>\n    </tr>\n    <tr>\n      <th>Liab_ref</th>\n      <td>0.010508</td>\n      <td>0.049109</td>\n      <td>-0.049978</td>\n      <td>0.018827</td>\n      <td>0.018827</td>\n      <td>0.122561</td>\n      <td>0.051000</td>\n      <td>1.000000</td>\n      <td>0.033197</td>\n      <td>0.127133</td>\n      <td>...</td>\n      <td>-0.047445</td>\n      <td>0.051444</td>\n      <td>0.044265</td>\n      <td>0.041821</td>\n      <td>-0.005693</td>\n      <td>0.037271</td>\n      <td>0.030484</td>\n      <td>-0.057168</td>\n      <td>-0.003053</td>\n      <td>-0.086354</td>\n    </tr>\n    <tr>\n      <th>Acc_ref</th>\n      <td>0.095826</td>\n      <td>-0.040445</td>\n      <td>-0.144258</td>\n      <td>-0.000201</td>\n      <td>-0.000201</td>\n      <td>-0.025000</td>\n      <td>-0.158334</td>\n      <td>0.033197</td>\n      <td>1.000000</td>\n      <td>0.096426</td>\n      <td>...</td>\n      <td>0.023691</td>\n      <td>-0.017403</td>\n      <td>0.029235</td>\n      <td>0.254292</td>\n      <td>-0.071914</td>\n      <td>-0.036777</td>\n      <td>-0.063317</td>\n      <td>-0.077889</td>\n      <td>-0.019012</td>\n      <td>-0.041226</td>\n    </tr>\n    <tr>\n      <th>Home_Expn</th>\n      <td>0.115355</td>\n      <td>-0.072254</td>\n      <td>-0.267470</td>\n      <td>-0.006477</td>\n      <td>-0.006477</td>\n      <td>-0.110933</td>\n      <td>-0.111761</td>\n      <td>0.127133</td>\n      <td>0.096426</td>\n      <td>1.000000</td>\n      <td>...</td>\n      <td>-0.022788</td>\n      <td>0.070586</td>\n      <td>-0.024372</td>\n      <td>0.121765</td>\n      <td>-0.017424</td>\n      <td>0.048673</td>\n      <td>0.112318</td>\n      <td>-0.049655</td>\n      <td>0.094591</td>\n      <td>-0.139506</td>\n    </tr>\n    <tr>\n      <th>Balance</th>\n      <td>-0.045248</td>\n      <td>0.101819</td>\n      <td>0.072235</td>\n      <td>-0.068829</td>\n      <td>-0.068829</td>\n      <td>0.112719</td>\n      <td>0.153435</td>\n      <td>-0.013128</td>\n      <td>-0.065739</td>\n      <td>0.080366</td>\n      <td>...</td>\n      <td>0.153182</td>\n      <td>-0.025923</td>\n      <td>-0.053978</td>\n      <td>-0.023879</td>\n      <td>-0.008416</td>\n      <td>-0.028536</td>\n      <td>0.004505</td>\n      <td>-0.028959</td>\n      <td>0.138420</td>\n      <td>-0.020692</td>\n    </tr>\n    <tr>\n      <th>Decision</th>\n      <td>0.052564</td>\n      <td>-0.181241</td>\n      <td>-0.163298</td>\n      <td>0.139104</td>\n      <td>0.139104</td>\n      <td>-0.339833</td>\n      <td>-0.455942</td>\n      <td>-0.068508</td>\n      <td>0.106354</td>\n      <td>0.087311</td>\n      <td>...</td>\n      <td>-0.067796</td>\n      <td>0.131258</td>\n      <td>0.107222</td>\n      <td>0.029066</td>\n      <td>-0.133674</td>\n      <td>-0.028458</td>\n      <td>-0.165153</td>\n      <td>0.033932</td>\n      <td>-0.134504</td>\n      <td>0.173276</td>\n    </tr>\n    <tr>\n      <th>governmen</th>\n      <td>-0.071354</td>\n      <td>0.011700</td>\n      <td>0.032959</td>\n      <td>0.006508</td>\n      <td>0.006508</td>\n      <td>0.135908</td>\n      <td>0.097365</td>\n      <td>-0.041223</td>\n      <td>-0.066981</td>\n      <td>0.059496</td>\n      <td>...</td>\n      <td>-0.079377</td>\n      <td>-0.036600</td>\n      <td>0.019390</td>\n      <td>-0.080452</td>\n      <td>0.179558</td>\n      <td>-0.050329</td>\n      <td>0.191944</td>\n      <td>-0.089877</td>\n      <td>0.117460</td>\n      <td>-0.133296</td>\n    </tr>\n    <tr>\n      <th>military</th>\n      <td>0.033287</td>\n      <td>-0.054508</td>\n      <td>-0.022068</td>\n      <td>-0.026127</td>\n      <td>-0.026127</td>\n      <td>-0.027837</td>\n      <td>-0.003413</td>\n      <td>0.052702</td>\n      <td>-0.013490</td>\n      <td>-0.005677</td>\n      <td>...</td>\n      <td>-0.010689</td>\n      <td>-0.014407</td>\n      <td>-0.015924</td>\n      <td>-0.012773</td>\n      <td>-0.017357</td>\n      <td>-0.016547</td>\n      <td>-0.010966</td>\n      <td>-0.013490</td>\n      <td>-0.010689</td>\n      <td>-0.013254</td>\n    </tr>\n    <tr>\n      <th>private_s</th>\n      <td>0.043589</td>\n      <td>-0.247584</td>\n      <td>-0.083958</td>\n      <td>-0.021999</td>\n      <td>-0.021999</td>\n      <td>-0.172712</td>\n      <td>-0.115185</td>\n      <td>0.037822</td>\n      <td>0.089868</td>\n      <td>0.035104</td>\n      <td>...</td>\n      <td>-0.190084</td>\n      <td>-0.203628</td>\n      <td>0.081608</td>\n      <td>0.130195</td>\n      <td>-0.004043</td>\n      <td>0.175375</td>\n      <td>-0.066073</td>\n      <td>0.163973</td>\n      <td>-0.030814</td>\n      <td>-0.348558</td>\n    </tr>\n    <tr>\n      <th>retired</th>\n      <td>0.021153</td>\n      <td>0.309407</td>\n      <td>0.271421</td>\n      <td>-0.033319</td>\n      <td>-0.033319</td>\n      <td>0.265212</td>\n      <td>0.155554</td>\n      <td>-0.022658</td>\n      <td>-0.038472</td>\n      <td>-0.149999</td>\n      <td>...</td>\n      <td>0.623377</td>\n      <td>-0.041086</td>\n      <td>-0.045412</td>\n      <td>-0.036426</td>\n      <td>-0.049501</td>\n      <td>-0.047189</td>\n      <td>-0.031274</td>\n      <td>-0.038472</td>\n      <td>-0.030483</td>\n      <td>-0.037799</td>\n    </tr>\n    <tr>\n      <th>self_empl</th>\n      <td>0.087138</td>\n      <td>0.114273</td>\n      <td>-0.058537</td>\n      <td>-0.007264</td>\n      <td>-0.007264</td>\n      <td>0.045330</td>\n      <td>0.030708</td>\n      <td>0.084938</td>\n      <td>0.010466</td>\n      <td>0.076962</td>\n      <td>...</td>\n      <td>0.010833</td>\n      <td>0.515114</td>\n      <td>-0.073270</td>\n      <td>-0.013948</td>\n      <td>-0.110322</td>\n      <td>-0.105172</td>\n      <td>-0.069701</td>\n      <td>-0.053673</td>\n      <td>-0.028552</td>\n      <td>-0.084243</td>\n    </tr>\n    <tr>\n      <th>student</th>\n      <td>-0.018208</td>\n      <td>-0.076762</td>\n      <td>0.030354</td>\n      <td>0.045143</td>\n      <td>0.045143</td>\n      <td>-0.042492</td>\n      <td>-0.035080</td>\n      <td>-0.012399</td>\n      <td>-0.030307</td>\n      <td>-0.043405</td>\n      <td>...</td>\n      <td>0.491076</td>\n      <td>-0.032366</td>\n      <td>-0.035774</td>\n      <td>-0.028695</td>\n      <td>-0.038995</td>\n      <td>-0.037174</td>\n      <td>-0.024637</td>\n      <td>-0.030307</td>\n      <td>-0.024013</td>\n      <td>-0.029777</td>\n    </tr>\n    <tr>\n      <th>unemploye</th>\n      <td>-0.077631</td>\n      <td>0.203320</td>\n      <td>0.020707</td>\n      <td>0.042843</td>\n      <td>0.042843</td>\n      <td>-0.047159</td>\n      <td>-0.031069</td>\n      <td>-0.093314</td>\n      <td>-0.043119</td>\n      <td>-0.142259</td>\n      <td>...</td>\n      <td>-0.061715</td>\n      <td>-0.083181</td>\n      <td>-0.061647</td>\n      <td>-0.073747</td>\n      <td>-0.100218</td>\n      <td>-0.095539</td>\n      <td>-0.063317</td>\n      <td>-0.077889</td>\n      <td>-0.061715</td>\n      <td>0.982505</td>\n    </tr>\n    <tr>\n      <th>creative_</th>\n      <td>0.092333</td>\n      <td>-0.100224</td>\n      <td>-0.043791</td>\n      <td>0.029843</td>\n      <td>0.029843</td>\n      <td>-0.005600</td>\n      <td>0.103602</td>\n      <td>-0.034575</td>\n      <td>-0.036148</td>\n      <td>-0.088680</td>\n      <td>...</td>\n      <td>-0.115540</td>\n      <td>-0.155727</td>\n      <td>-0.172127</td>\n      <td>-0.138066</td>\n      <td>-0.187623</td>\n      <td>-0.178863</td>\n      <td>-0.118538</td>\n      <td>-0.145820</td>\n      <td>-0.115540</td>\n      <td>-0.143269</td>\n    </tr>\n    <tr>\n      <th>driver</th>\n      <td>0.056538</td>\n      <td>-0.061793</td>\n      <td>0.036117</td>\n      <td>0.011242</td>\n      <td>0.011242</td>\n      <td>-0.064149</td>\n      <td>-0.085321</td>\n      <td>0.041735</td>\n      <td>0.135115</td>\n      <td>-0.032013</td>\n      <td>...</td>\n      <td>-0.043525</td>\n      <td>-0.058664</td>\n      <td>-0.064842</td>\n      <td>-0.052011</td>\n      <td>-0.070679</td>\n      <td>-0.067379</td>\n      <td>-0.044654</td>\n      <td>-0.054932</td>\n      <td>-0.043525</td>\n      <td>-0.053971</td>\n    </tr>\n    <tr>\n      <th>executive</th>\n      <td>0.033932</td>\n      <td>0.195693</td>\n      <td>0.194672</td>\n      <td>-0.013801</td>\n      <td>-0.013801</td>\n      <td>0.158402</td>\n      <td>0.070908</td>\n      <td>-0.047445</td>\n      <td>0.023691</td>\n      <td>-0.022788</td>\n      <td>...</td>\n      <td>1.000000</td>\n      <td>-0.065908</td>\n      <td>-0.072849</td>\n      <td>-0.058433</td>\n      <td>-0.079407</td>\n      <td>-0.075700</td>\n      <td>-0.050169</td>\n      <td>-0.061715</td>\n      <td>-0.048900</td>\n      <td>-0.060636</td>\n    </tr>\n    <tr>\n      <th>guard_etc</th>\n      <td>0.022947</td>\n      <td>0.028675</td>\n      <td>-0.074592</td>\n      <td>-0.059316</td>\n      <td>-0.059316</td>\n      <td>-0.048504</td>\n      <td>-0.079085</td>\n      <td>0.051444</td>\n      <td>-0.017403</td>\n      <td>0.070586</td>\n      <td>...</td>\n      <td>-0.065908</td>\n      <td>1.000000</td>\n      <td>-0.098187</td>\n      <td>-0.078758</td>\n      <td>-0.107027</td>\n      <td>-0.102030</td>\n      <td>-0.067618</td>\n      <td>-0.083181</td>\n      <td>-0.065908</td>\n      <td>-0.081726</td>\n    </tr>\n    <tr>\n      <th>labourer</th>\n      <td>-0.008220</td>\n      <td>-0.035318</td>\n      <td>-0.027105</td>\n      <td>0.103196</td>\n      <td>0.103196</td>\n      <td>-0.076296</td>\n      <td>-0.102461</td>\n      <td>0.044265</td>\n      <td>0.029235</td>\n      <td>-0.024372</td>\n      <td>...</td>\n      <td>-0.072849</td>\n      <td>-0.098187</td>\n      <td>1.000000</td>\n      <td>-0.087051</td>\n      <td>-0.118297</td>\n      <td>-0.112774</td>\n      <td>-0.074739</td>\n      <td>-0.091941</td>\n      <td>-0.072849</td>\n      <td>-0.090332</td>\n    </tr>\n    <tr>\n      <th>manager</th>\n      <td>0.141564</td>\n      <td>0.056127</td>\n      <td>-0.062565</td>\n      <td>-0.007468</td>\n      <td>-0.007468</td>\n      <td>0.085916</td>\n      <td>-0.004365</td>\n      <td>0.041821</td>\n      <td>0.254292</td>\n      <td>0.121765</td>\n      <td>...</td>\n      <td>-0.058433</td>\n      <td>-0.078758</td>\n      <td>-0.087051</td>\n      <td>1.000000</td>\n      <td>-0.094888</td>\n      <td>-0.090458</td>\n      <td>-0.059950</td>\n      <td>-0.073747</td>\n      <td>-0.058433</td>\n      <td>-0.072457</td>\n    </tr>\n    <tr>\n      <th>office_st</th>\n      <td>-0.239058</td>\n      <td>-0.085265</td>\n      <td>0.060743</td>\n      <td>-0.141542</td>\n      <td>-0.141542</td>\n      <td>0.045731</td>\n      <td>0.115238</td>\n      <td>-0.005693</td>\n      <td>-0.071914</td>\n      <td>-0.017424</td>\n      <td>...</td>\n      <td>-0.079407</td>\n      <td>-0.107027</td>\n      <td>-0.118297</td>\n      <td>-0.094888</td>\n      <td>1.000000</td>\n      <td>-0.122927</td>\n      <td>-0.081468</td>\n      <td>-0.100218</td>\n      <td>-0.079407</td>\n      <td>-0.098465</td>\n    </tr>\n    <tr>\n      <th>productio</th>\n      <td>0.089171</td>\n      <td>-0.025142</td>\n      <td>0.007001</td>\n      <td>0.015006</td>\n      <td>0.015006</td>\n      <td>-0.005221</td>\n      <td>-0.035694</td>\n      <td>0.037271</td>\n      <td>-0.036777</td>\n      <td>0.048673</td>\n      <td>...</td>\n      <td>-0.075700</td>\n      <td>-0.102030</td>\n      <td>-0.112774</td>\n      <td>-0.090458</td>\n      <td>-0.122927</td>\n      <td>1.000000</td>\n      <td>-0.077664</td>\n      <td>-0.095539</td>\n      <td>-0.075700</td>\n      <td>-0.093867</td>\n    </tr>\n    <tr>\n      <th>professio</th>\n      <td>-0.028788</td>\n      <td>-0.008012</td>\n      <td>-0.023361</td>\n      <td>0.058154</td>\n      <td>0.058154</td>\n      <td>0.065455</td>\n      <td>0.030341</td>\n      <td>0.030484</td>\n      <td>-0.063317</td>\n      <td>0.112318</td>\n      <td>...</td>\n      <td>-0.050169</td>\n      <td>-0.067618</td>\n      <td>-0.074739</td>\n      <td>-0.059950</td>\n      <td>-0.081468</td>\n      <td>-0.077664</td>\n      <td>1.000000</td>\n      <td>-0.063317</td>\n      <td>-0.050169</td>\n      <td>-0.062209</td>\n    </tr>\n    <tr>\n      <th>sales</th>\n      <td>-0.116177</td>\n      <td>-0.061906</td>\n      <td>0.018662</td>\n      <td>-0.043244</td>\n      <td>-0.043244</td>\n      <td>-0.080398</td>\n      <td>-0.087884</td>\n      <td>-0.057168</td>\n      <td>-0.077889</td>\n      <td>-0.049655</td>\n      <td>...</td>\n      <td>-0.061715</td>\n      <td>-0.083181</td>\n      <td>-0.091941</td>\n      <td>-0.073747</td>\n      <td>-0.100218</td>\n      <td>-0.095539</td>\n      <td>-0.063317</td>\n      <td>1.000000</td>\n      <td>-0.061715</td>\n      <td>-0.076527</td>\n    </tr>\n    <tr>\n      <th>semi_pro</th>\n      <td>0.057602</td>\n      <td>-0.002900</td>\n      <td>-0.069254</td>\n      <td>0.012631</td>\n      <td>0.012631</td>\n      <td>0.001919</td>\n      <td>0.042998</td>\n      <td>-0.003053</td>\n      <td>-0.019012</td>\n      <td>0.094591</td>\n      <td>...</td>\n      <td>-0.048900</td>\n      <td>-0.065908</td>\n      <td>-0.072849</td>\n      <td>-0.058433</td>\n      <td>-0.079407</td>\n      <td>-0.075700</td>\n      <td>-0.050169</td>\n      <td>-0.061715</td>\n      <td>1.000000</td>\n      <td>-0.060636</td>\n    </tr>\n    <tr>\n      <th>unemploye</th>\n      <td>-0.085110</td>\n      <td>0.210038</td>\n      <td>0.028853</td>\n      <td>0.048437</td>\n      <td>0.048437</td>\n      <td>-0.042615</td>\n      <td>-0.026283</td>\n      <td>-0.086354</td>\n      <td>-0.041226</td>\n      <td>-0.139506</td>\n      <td>...</td>\n      <td>-0.060636</td>\n      <td>-0.081726</td>\n      <td>-0.090332</td>\n      <td>-0.072457</td>\n      <td>-0.098465</td>\n      <td>-0.093867</td>\n      <td>-0.062209</td>\n      <td>-0.076527</td>\n      <td>-0.060636</td>\n      <td>1.000000</td>\n    </tr>\n  </tbody>\n</table>\n<p>31 rows × 31 columns</p>\n</div>"
     },
     "execution_count": 22,
     "metadata": {},
     "output_type": "execute_result"
    }
   ],
   "source": [
    "# data prepared for correlation\n",
    "\n",
    "corr = dataset.corr()\n",
    "corr"
   ]
  },
  {
   "cell_type": "code",
   "execution_count": 23,
   "metadata": {},
   "outputs": [],
   "source": [
    "# dropping columns based on correlations\n",
    "\n",
    "# also dropping Time_at_address as it plays trivial role in decision making\n",
    "\n",
    "dataset.drop(['Telephone', 'Time_at_address'], axis=1, inplace=True)"
   ]
  },
  {
   "cell_type": "code",
   "execution_count": 24,
   "metadata": {},
   "outputs": [
    {
     "data": {
      "text/plain": "Index(['Sex', 'Age', 'Res_status', 'Time_employed', 'Time_bank', 'Liab_ref',\n       'Acc_ref', 'Home_Expn', 'Balance', 'Decision', 'governmen', 'military',\n       'private_s', 'retired', 'self_empl', 'student', 'unemploye',\n       'creative_', 'driver', 'executive', 'guard_etc', 'labourer', 'manager',\n       'office_st', 'productio', 'professio', 'sales', 'semi_pro',\n       'unemploye'],\n      dtype='object')"
     },
     "execution_count": 24,
     "metadata": {},
     "output_type": "execute_result"
    }
   ],
   "source": [
    "dataset.columns\n",
    "\n",
    "# inference => we have 33 variables"
   ]
  },
  {
   "cell_type": "code",
   "execution_count": 24,
   "metadata": {},
   "outputs": [],
   "source": []
  },
  {
   "cell_type": "code",
   "execution_count": 25,
   "metadata": {},
   "outputs": [
    {
     "data": {
      "text/plain": "   Sex        Age  Res_status  Time_employed  Time_bank  Liab_ref  Acc_ref  \\\n0    1  50.750000           0              0          0         0        0   \n1    1  19.670000           1              0          0         1        0   \n2    0  52.830002           0              5         14         0        0   \n3    1  22.670000           1              2          0         0        0   \n4    1  29.250000           0              0          0         0        0   \n\n   Home_Expn  Balance  Decision  ...  executive  guard_etc  labourer  manager  \\\n0        145        0         1  ...        0.0        0.0       0.0      0.0   \n1        140        0         1  ...        0.0        0.0       1.0      0.0   \n2          0     2200         0  ...        0.0        0.0       0.0      0.0   \n3          0        0         0  ...        0.0        0.0       0.0      0.0   \n4        228        0         1  ...        0.0        0.0       0.0      0.0   \n\n   office_st  productio  professio  sales  semi_pro  unemploye  \n0        0.0        0.0        0.0    0.0       0.0        1.0  \n1        0.0        0.0        0.0    0.0       0.0        0.0  \n2        0.0        0.0        0.0    0.0       0.0        0.0  \n3        0.0        0.0        0.0    0.0       0.0        0.0  \n4        0.0        0.0        0.0    0.0       0.0        0.0  \n\n[5 rows x 29 columns]",
      "text/html": "<div>\n<style scoped>\n    .dataframe tbody tr th:only-of-type {\n        vertical-align: middle;\n    }\n\n    .dataframe tbody tr th {\n        vertical-align: top;\n    }\n\n    .dataframe thead th {\n        text-align: right;\n    }\n</style>\n<table border=\"1\" class=\"dataframe\">\n  <thead>\n    <tr style=\"text-align: right;\">\n      <th></th>\n      <th>Sex</th>\n      <th>Age</th>\n      <th>Res_status</th>\n      <th>Time_employed</th>\n      <th>Time_bank</th>\n      <th>Liab_ref</th>\n      <th>Acc_ref</th>\n      <th>Home_Expn</th>\n      <th>Balance</th>\n      <th>Decision</th>\n      <th>...</th>\n      <th>executive</th>\n      <th>guard_etc</th>\n      <th>labourer</th>\n      <th>manager</th>\n      <th>office_st</th>\n      <th>productio</th>\n      <th>professio</th>\n      <th>sales</th>\n      <th>semi_pro</th>\n      <th>unemploye</th>\n    </tr>\n  </thead>\n  <tbody>\n    <tr>\n      <th>0</th>\n      <td>1</td>\n      <td>50.750000</td>\n      <td>0</td>\n      <td>0</td>\n      <td>0</td>\n      <td>0</td>\n      <td>0</td>\n      <td>145</td>\n      <td>0</td>\n      <td>1</td>\n      <td>...</td>\n      <td>0.0</td>\n      <td>0.0</td>\n      <td>0.0</td>\n      <td>0.0</td>\n      <td>0.0</td>\n      <td>0.0</td>\n      <td>0.0</td>\n      <td>0.0</td>\n      <td>0.0</td>\n      <td>1.0</td>\n    </tr>\n    <tr>\n      <th>1</th>\n      <td>1</td>\n      <td>19.670000</td>\n      <td>1</td>\n      <td>0</td>\n      <td>0</td>\n      <td>1</td>\n      <td>0</td>\n      <td>140</td>\n      <td>0</td>\n      <td>1</td>\n      <td>...</td>\n      <td>0.0</td>\n      <td>0.0</td>\n      <td>1.0</td>\n      <td>0.0</td>\n      <td>0.0</td>\n      <td>0.0</td>\n      <td>0.0</td>\n      <td>0.0</td>\n      <td>0.0</td>\n      <td>0.0</td>\n    </tr>\n    <tr>\n      <th>2</th>\n      <td>0</td>\n      <td>52.830002</td>\n      <td>0</td>\n      <td>5</td>\n      <td>14</td>\n      <td>0</td>\n      <td>0</td>\n      <td>0</td>\n      <td>2200</td>\n      <td>0</td>\n      <td>...</td>\n      <td>0.0</td>\n      <td>0.0</td>\n      <td>0.0</td>\n      <td>0.0</td>\n      <td>0.0</td>\n      <td>0.0</td>\n      <td>0.0</td>\n      <td>0.0</td>\n      <td>0.0</td>\n      <td>0.0</td>\n    </tr>\n    <tr>\n      <th>3</th>\n      <td>1</td>\n      <td>22.670000</td>\n      <td>1</td>\n      <td>2</td>\n      <td>0</td>\n      <td>0</td>\n      <td>0</td>\n      <td>0</td>\n      <td>0</td>\n      <td>0</td>\n      <td>...</td>\n      <td>0.0</td>\n      <td>0.0</td>\n      <td>0.0</td>\n      <td>0.0</td>\n      <td>0.0</td>\n      <td>0.0</td>\n      <td>0.0</td>\n      <td>0.0</td>\n      <td>0.0</td>\n      <td>0.0</td>\n    </tr>\n    <tr>\n      <th>4</th>\n      <td>1</td>\n      <td>29.250000</td>\n      <td>0</td>\n      <td>0</td>\n      <td>0</td>\n      <td>0</td>\n      <td>0</td>\n      <td>228</td>\n      <td>0</td>\n      <td>1</td>\n      <td>...</td>\n      <td>0.0</td>\n      <td>0.0</td>\n      <td>0.0</td>\n      <td>0.0</td>\n      <td>0.0</td>\n      <td>0.0</td>\n      <td>0.0</td>\n      <td>0.0</td>\n      <td>0.0</td>\n      <td>0.0</td>\n    </tr>\n  </tbody>\n</table>\n<p>5 rows × 29 columns</p>\n</div>"
     },
     "execution_count": 25,
     "metadata": {},
     "output_type": "execute_result"
    }
   ],
   "source": [
    "dataset.head()"
   ]
  },
  {
   "cell_type": "code",
   "execution_count": 25,
   "metadata": {},
   "outputs": [],
   "source": []
  },
  {
   "cell_type": "code",
   "execution_count": 26,
   "metadata": {},
   "outputs": [],
   "source": [
    "X = dataset[['Sex', 'Age', 'Res_status', 'Time_employed', 'Time_bank', 'Liab_ref',\n",
    "       'Acc_ref', 'Home_Expn', 'Balance', 'governmen', 'military',\n",
    "       'private_s', 'retired', 'self_empl', 'student', 'unemploye',\n",
    "       'creative_', 'driver', 'executive', 'guard_etc', 'labourer', 'manager',\n",
    "       'office_st', 'productio', 'professio', 'sales', 'semi_pro',\n",
    "       'unemploye']]\n",
    "\n",
    "y = dataset[['Decision']]"
   ]
  },
  {
   "cell_type": "code",
   "execution_count": 27,
   "metadata": {},
   "outputs": [],
   "source": [
    "X_train, X_test, y_train, y_test = train_test_split(X, y, test_size=0.20)"
   ]
  },
  {
   "cell_type": "code",
   "execution_count": 28,
   "metadata": {},
   "outputs": [
    {
     "name": "stdout",
     "output_type": "stream",
     "text": [
      "entropy:  0.9463869463869464\n",
      "gini:  0.958041958041958\n"
     ]
    }
   ],
   "source": [
    "\n",
    "# applying decision tree classifier\n",
    "decision_tree_classifier_entropy = DecisionTreeClassifier(criterion = 'entropy', random_state=0)\n",
    "decision_tree_classifier_entropy = decision_tree_classifier_entropy.fit(X_train,y_train)\n",
    "\n",
    "decision_tree_classifier_gini = DecisionTreeClassifier(criterion = 'gini', random_state=0)\n",
    "decision_tree_classifier_gini = decision_tree_classifier_gini.fit(X_train,y_train)\n",
    "\n",
    "print(\"entropy: \", decision_tree_classifier_entropy.score(X, y))\n",
    "print(\"gini: \", decision_tree_classifier_gini.score(X, y))"
   ]
  },
  {
   "cell_type": "code",
   "execution_count": 29,
   "metadata": {},
   "outputs": [],
   "source": [
    "predictions_entropy = decision_tree_classifier_entropy.predict(X_test)\n",
    "predictions_gini = decision_tree_classifier_gini.predict(X_test)"
   ]
  },
  {
   "cell_type": "code",
   "execution_count": 29,
   "metadata": {},
   "outputs": [],
   "source": []
  },
  {
   "cell_type": "code",
   "execution_count": 30,
   "metadata": {},
   "outputs": [
    {
     "name": "stdout",
     "output_type": "stream",
     "text": [
      "Entropy:\n",
      "Mean Absolute Error: 0.26744186046511625\n",
      "Mean Squared Error: 0.26744186046511625\n",
      "Root Mean Squared Error: 0.517147812975281\n",
      "\n",
      "Gini:\n",
      "Mean Absolute Error: 0.20930232558139536\n",
      "Mean Squared Error: 0.20930232558139536\n",
      "Root Mean Squared Error: 0.457495710997814\n"
     ]
    }
   ],
   "source": [
    "# calculating the statistical metrics for entropy\n",
    "print(\"Entropy:\")\n",
    "print('Mean Absolute Error:', metrics.mean_absolute_error(y_test, predictions_entropy))\n",
    "print('Mean Squared Error:', metrics.mean_squared_error(y_test, predictions_entropy))\n",
    "print('Root Mean Squared Error:', np.sqrt(metrics.mean_squared_error(y_test, predictions_entropy)))\n",
    "\n",
    "\n",
    "# calculating the statistical metrics for Gini\n",
    "print(\"\\nGini:\")\n",
    "print('Mean Absolute Error:', metrics.mean_absolute_error(y_test, predictions_gini))\n",
    "print('Mean Squared Error:', metrics.mean_squared_error(y_test, predictions_gini))\n",
    "print('Root Mean Squared Error:', np.sqrt(metrics.mean_squared_error(y_test, predictions_gini)))"
   ]
  },
  {
   "cell_type": "code",
   "execution_count": 31,
   "metadata": {
    "scrolled": true
   },
   "outputs": [
    {
     "name": "stdout",
     "output_type": "stream",
     "text": [
      "\n",
      "Entropy\n",
      " [Text(0.6654094827586207, 0.96875, 'X[4] <= 2.5\\nentropy = 0.994\\nsamples = 343\\nvalue = [156, 187]'), Text(0.42564655172413796, 0.90625, 'X[3] <= 0.5\\nentropy = 0.885\\nsamples = 254\\nvalue = [77, 177]'), Text(0.25862068965517243, 0.84375, 'X[8] <= 5676.0\\nentropy = 0.716\\nsamples = 147\\nvalue = [29, 118]'), Text(0.2413793103448276, 0.78125, 'X[1] <= 18.0\\nentropy = 0.681\\nsamples = 144\\nvalue = [26, 118]'), Text(0.22413793103448276, 0.71875, 'entropy = 0.0\\nsamples = 14\\nvalue = [0, 14]'), Text(0.25862068965517243, 0.71875, 'X[7] <= 224.5\\nentropy = 0.722\\nsamples = 130\\nvalue = [26, 104]'), Text(0.1724137931034483, 0.65625, 'X[7] <= 104.0\\nentropy = 0.604\\nsamples = 88\\nvalue = [13, 75]'), Text(0.13793103448275862, 0.59375, 'X[28] <= 0.5\\nentropy = 0.888\\nsamples = 36\\nvalue = [11, 25]'), Text(0.1206896551724138, 0.53125, 'X[8] <= 722.0\\nentropy = 0.958\\nsamples = 29\\nvalue = [11, 18]'), Text(0.08620689655172414, 0.46875, 'X[1] <= 26.21\\nentropy = 0.904\\nsamples = 25\\nvalue = [8, 17]'), Text(0.06896551724137931, 0.40625, 'X[8] <= 0.5\\nentropy = 1.0\\nsamples = 16\\nvalue = [8, 8]'), Text(0.05172413793103448, 0.34375, 'X[7] <= 24.5\\nentropy = 0.845\\nsamples = 11\\nvalue = [8, 3]'), Text(0.034482758620689655, 0.28125, 'X[1] <= 21.5\\nentropy = 1.0\\nsamples = 6\\nvalue = [3, 3]'), Text(0.017241379310344827, 0.21875, 'entropy = 0.0\\nsamples = 2\\nvalue = [0, 2]'), Text(0.05172413793103448, 0.21875, 'X[26] <= 0.5\\nentropy = 0.811\\nsamples = 4\\nvalue = [3, 1]'), Text(0.034482758620689655, 0.15625, 'entropy = 0.0\\nsamples = 3\\nvalue = [3, 0]'), Text(0.06896551724137931, 0.15625, 'entropy = 0.0\\nsamples = 1\\nvalue = [0, 1]'), Text(0.06896551724137931, 0.28125, 'entropy = 0.0\\nsamples = 5\\nvalue = [5, 0]'), Text(0.08620689655172414, 0.34375, 'entropy = 0.0\\nsamples = 5\\nvalue = [0, 5]'), Text(0.10344827586206896, 0.40625, 'entropy = 0.0\\nsamples = 9\\nvalue = [0, 9]'), Text(0.15517241379310345, 0.46875, 'X[17] <= 0.5\\nentropy = 0.811\\nsamples = 4\\nvalue = [3, 1]'), Text(0.13793103448275862, 0.40625, 'entropy = 0.0\\nsamples = 3\\nvalue = [3, 0]'), Text(0.1724137931034483, 0.40625, 'entropy = 0.0\\nsamples = 1\\nvalue = [0, 1]'), Text(0.15517241379310345, 0.53125, 'entropy = 0.0\\nsamples = 7\\nvalue = [0, 7]'), Text(0.20689655172413793, 0.59375, 'X[8] <= 242.0\\nentropy = 0.235\\nsamples = 52\\nvalue = [2, 50]'), Text(0.1896551724137931, 0.53125, 'entropy = 0.0\\nsamples = 44\\nvalue = [0, 44]'), Text(0.22413793103448276, 0.53125, 'X[8] <= 350.0\\nentropy = 0.811\\nsamples = 8\\nvalue = [2, 6]'), Text(0.20689655172413793, 0.46875, 'entropy = 0.0\\nsamples = 2\\nvalue = [2, 0]'), Text(0.2413793103448276, 0.46875, 'entropy = 0.0\\nsamples = 6\\nvalue = [0, 6]'), Text(0.3448275862068966, 0.65625, 'X[19] <= 0.5\\nentropy = 0.893\\nsamples = 42\\nvalue = [13, 29]'), Text(0.3275862068965517, 0.59375, 'X[7] <= 239.5\\nentropy = 0.849\\nsamples = 40\\nvalue = [11, 29]'), Text(0.29310344827586204, 0.53125, 'X[21] <= 0.5\\nentropy = 0.811\\nsamples = 4\\nvalue = [3, 1]'), Text(0.27586206896551724, 0.46875, 'entropy = 0.0\\nsamples = 3\\nvalue = [3, 0]'), Text(0.3103448275862069, 0.46875, 'entropy = 0.0\\nsamples = 1\\nvalue = [0, 1]'), Text(0.3620689655172414, 0.53125, 'X[1] <= 34.295\\nentropy = 0.764\\nsamples = 36\\nvalue = [8, 28]'), Text(0.3448275862068966, 0.46875, 'X[13] <= 0.5\\nentropy = 0.904\\nsamples = 25\\nvalue = [8, 17]'), Text(0.3275862068965517, 0.40625, 'X[1] <= 22.625\\nentropy = 0.828\\nsamples = 23\\nvalue = [6, 17]'), Text(0.3103448275862069, 0.34375, 'entropy = 0.0\\nsamples = 6\\nvalue = [0, 6]'), Text(0.3448275862068966, 0.34375, 'X[21] <= 0.5\\nentropy = 0.937\\nsamples = 17\\nvalue = [6, 11]'), Text(0.3275862068965517, 0.28125, 'X[5] <= 0.5\\nentropy = 0.985\\nsamples = 14\\nvalue = [6, 8]'), Text(0.29310344827586204, 0.21875, 'X[8] <= 272.0\\nentropy = 0.918\\nsamples = 6\\nvalue = [4, 2]'), Text(0.27586206896551724, 0.15625, 'entropy = 0.0\\nsamples = 4\\nvalue = [4, 0]'), Text(0.3103448275862069, 0.15625, 'entropy = 0.0\\nsamples = 2\\nvalue = [0, 2]'), Text(0.3620689655172414, 0.21875, 'X[8] <= 5.0\\nentropy = 0.811\\nsamples = 8\\nvalue = [2, 6]'), Text(0.3448275862068966, 0.15625, 'entropy = 0.0\\nsamples = 4\\nvalue = [0, 4]'), Text(0.3793103448275862, 0.15625, 'X[0] <= 0.5\\nentropy = 1.0\\nsamples = 4\\nvalue = [2, 2]'), Text(0.3620689655172414, 0.09375, 'entropy = 0.0\\nsamples = 1\\nvalue = [0, 1]'), Text(0.39655172413793105, 0.09375, 'X[7] <= 295.0\\nentropy = 0.918\\nsamples = 3\\nvalue = [2, 1]'), Text(0.3793103448275862, 0.03125, 'entropy = 0.0\\nsamples = 2\\nvalue = [2, 0]'), Text(0.41379310344827586, 0.03125, 'entropy = 0.0\\nsamples = 1\\nvalue = [0, 1]'), Text(0.3620689655172414, 0.28125, 'entropy = 0.0\\nsamples = 3\\nvalue = [0, 3]'), Text(0.3620689655172414, 0.40625, 'entropy = 0.0\\nsamples = 2\\nvalue = [2, 0]'), Text(0.3793103448275862, 0.46875, 'entropy = 0.0\\nsamples = 11\\nvalue = [0, 11]'), Text(0.3620689655172414, 0.59375, 'entropy = 0.0\\nsamples = 2\\nvalue = [2, 0]'), Text(0.27586206896551724, 0.78125, 'entropy = 0.0\\nsamples = 3\\nvalue = [3, 0]'), Text(0.5926724137931034, 0.84375, 'X[7] <= 90.0\\nentropy = 0.992\\nsamples = 107\\nvalue = [48, 59]'), Text(0.46551724137931033, 0.78125, 'X[3] <= 6.0\\nentropy = 0.918\\nsamples = 27\\nvalue = [18, 9]'), Text(0.4482758620689655, 0.71875, 'X[1] <= 45.665\\nentropy = 0.985\\nsamples = 21\\nvalue = [12, 9]'), Text(0.43103448275862066, 0.65625, 'X[1] <= 21.915\\nentropy = 0.874\\nsamples = 17\\nvalue = [12, 5]'), Text(0.41379310344827586, 0.59375, 'entropy = 0.0\\nsamples = 4\\nvalue = [4, 0]'), Text(0.4482758620689655, 0.59375, 'X[4] <= 1.5\\nentropy = 0.961\\nsamples = 13\\nvalue = [8, 5]'), Text(0.43103448275862066, 0.53125, 'X[22] <= 0.5\\nentropy = 1.0\\nsamples = 10\\nvalue = [5, 5]'), Text(0.41379310344827586, 0.46875, 'X[8] <= 8.0\\nentropy = 0.954\\nsamples = 8\\nvalue = [5, 3]'), Text(0.39655172413793105, 0.40625, 'entropy = 0.0\\nsamples = 3\\nvalue = [3, 0]'), Text(0.43103448275862066, 0.40625, 'X[8] <= 439.0\\nentropy = 0.971\\nsamples = 5\\nvalue = [2, 3]'), Text(0.41379310344827586, 0.34375, 'entropy = 0.0\\nsamples = 3\\nvalue = [0, 3]'), Text(0.4482758620689655, 0.34375, 'entropy = 0.0\\nsamples = 2\\nvalue = [2, 0]'), Text(0.4482758620689655, 0.46875, 'entropy = 0.0\\nsamples = 2\\nvalue = [0, 2]'), Text(0.46551724137931033, 0.53125, 'entropy = 0.0\\nsamples = 3\\nvalue = [3, 0]'), Text(0.46551724137931033, 0.65625, 'entropy = 0.0\\nsamples = 4\\nvalue = [0, 4]'), Text(0.4827586206896552, 0.71875, 'entropy = 0.0\\nsamples = 6\\nvalue = [6, 0]'), Text(0.7198275862068966, 0.78125, 'X[7] <= 499.5\\nentropy = 0.954\\nsamples = 80\\nvalue = [30, 50]'), Text(0.7025862068965517, 0.71875, 'X[8] <= 2201.5\\nentropy = 0.935\\nsamples = 77\\nvalue = [27, 50]'), Text(0.6853448275862069, 0.65625, 'X[3] <= 3.5\\nentropy = 0.918\\nsamples = 75\\nvalue = [25, 50]'), Text(0.5948275862068966, 0.59375, 'X[5] <= 0.5\\nentropy = 0.826\\nsamples = 54\\nvalue = [14, 40]'), Text(0.5517241379310345, 0.53125, 'X[8] <= 17.5\\nentropy = 0.976\\nsamples = 22\\nvalue = [9, 13]'), Text(0.5172413793103449, 0.46875, 'X[8] <= 0.5\\nentropy = 0.619\\nsamples = 13\\nvalue = [2, 11]'), Text(0.5, 0.40625, 'X[7] <= 212.0\\nentropy = 0.971\\nsamples = 5\\nvalue = [2, 3]'), Text(0.4827586206896552, 0.34375, 'X[24] <= 0.5\\nentropy = 0.918\\nsamples = 3\\nvalue = [2, 1]'), Text(0.46551724137931033, 0.28125, 'entropy = 0.0\\nsamples = 2\\nvalue = [2, 0]'), Text(0.5, 0.28125, 'entropy = 0.0\\nsamples = 1\\nvalue = [0, 1]'), Text(0.5172413793103449, 0.34375, 'entropy = 0.0\\nsamples = 2\\nvalue = [0, 2]'), Text(0.5344827586206896, 0.40625, 'entropy = 0.0\\nsamples = 8\\nvalue = [0, 8]'), Text(0.5862068965517241, 0.46875, 'X[2] <= 0.5\\nentropy = 0.764\\nsamples = 9\\nvalue = [7, 2]'), Text(0.5689655172413793, 0.40625, 'entropy = 0.0\\nsamples = 6\\nvalue = [6, 0]'), Text(0.603448275862069, 0.40625, 'X[21] <= 0.5\\nentropy = 0.918\\nsamples = 3\\nvalue = [1, 2]'), Text(0.5862068965517241, 0.34375, 'entropy = 0.0\\nsamples = 2\\nvalue = [0, 2]'), Text(0.6206896551724138, 0.34375, 'entropy = 0.0\\nsamples = 1\\nvalue = [1, 0]'), Text(0.6379310344827587, 0.53125, 'X[7] <= 266.0\\nentropy = 0.625\\nsamples = 32\\nvalue = [5, 27]'), Text(0.6206896551724138, 0.46875, 'entropy = 0.0\\nsamples = 16\\nvalue = [0, 16]'), Text(0.6551724137931034, 0.46875, 'X[11] <= 0.5\\nentropy = 0.896\\nsamples = 16\\nvalue = [5, 11]'), Text(0.6379310344827587, 0.40625, 'entropy = 0.0\\nsamples = 5\\nvalue = [0, 5]'), Text(0.6724137931034483, 0.40625, 'X[1] <= 24.955\\nentropy = 0.994\\nsamples = 11\\nvalue = [5, 6]'), Text(0.6551724137931034, 0.34375, 'entropy = 0.0\\nsamples = 2\\nvalue = [0, 2]'), Text(0.6896551724137931, 0.34375, 'X[3] <= 1.5\\nentropy = 0.991\\nsamples = 9\\nvalue = [5, 4]'), Text(0.6724137931034483, 0.28125, 'entropy = 0.0\\nsamples = 4\\nvalue = [4, 0]'), Text(0.7068965517241379, 0.28125, 'X[1] <= 31.83\\nentropy = 0.722\\nsamples = 5\\nvalue = [1, 4]'), Text(0.6896551724137931, 0.21875, 'entropy = 0.0\\nsamples = 3\\nvalue = [0, 3]'), Text(0.7241379310344828, 0.21875, 'X[6] <= 0.5\\nentropy = 1.0\\nsamples = 2\\nvalue = [1, 1]'), Text(0.7068965517241379, 0.15625, 'entropy = 0.0\\nsamples = 1\\nvalue = [1, 0]'), Text(0.7413793103448276, 0.15625, 'entropy = 0.0\\nsamples = 1\\nvalue = [0, 1]'), Text(0.7758620689655172, 0.59375, 'X[0] <= 0.5\\nentropy = 0.998\\nsamples = 21\\nvalue = [11, 10]'), Text(0.7586206896551724, 0.53125, 'entropy = 0.0\\nsamples = 2\\nvalue = [0, 2]'), Text(0.7931034482758621, 0.53125, 'X[1] <= 36.795\\nentropy = 0.982\\nsamples = 19\\nvalue = [11, 8]'), Text(0.7586206896551724, 0.46875, 'X[23] <= 0.5\\nentropy = 0.722\\nsamples = 10\\nvalue = [8, 2]'), Text(0.7413793103448276, 0.40625, 'X[26] <= 0.5\\nentropy = 0.503\\nsamples = 9\\nvalue = [8, 1]'), Text(0.7241379310344828, 0.34375, 'entropy = 0.0\\nsamples = 8\\nvalue = [8, 0]'), Text(0.7586206896551724, 0.34375, 'entropy = 0.0\\nsamples = 1\\nvalue = [0, 1]'), Text(0.7758620689655172, 0.40625, 'entropy = 0.0\\nsamples = 1\\nvalue = [0, 1]'), Text(0.8275862068965517, 0.46875, 'X[8] <= 50.0\\nentropy = 0.918\\nsamples = 9\\nvalue = [3, 6]'), Text(0.8103448275862069, 0.40625, 'X[2] <= 0.5\\nentropy = 1.0\\nsamples = 6\\nvalue = [3, 3]'), Text(0.7931034482758621, 0.34375, 'X[1] <= 44.29\\nentropy = 0.811\\nsamples = 4\\nvalue = [3, 1]'), Text(0.7758620689655172, 0.28125, 'entropy = 0.0\\nsamples = 1\\nvalue = [0, 1]'), Text(0.8103448275862069, 0.28125, 'entropy = 0.0\\nsamples = 3\\nvalue = [3, 0]'), Text(0.8275862068965517, 0.34375, 'entropy = 0.0\\nsamples = 2\\nvalue = [0, 2]'), Text(0.8448275862068966, 0.40625, 'entropy = 0.0\\nsamples = 3\\nvalue = [0, 3]'), Text(0.7198275862068966, 0.65625, 'entropy = 0.0\\nsamples = 2\\nvalue = [2, 0]'), Text(0.7370689655172413, 0.71875, 'entropy = 0.0\\nsamples = 3\\nvalue = [3, 0]'), Text(0.9051724137931034, 0.90625, 'X[8] <= 255.0\\nentropy = 0.507\\nsamples = 89\\nvalue = [79, 10]'), Text(0.8620689655172413, 0.84375, 'X[11] <= 0.5\\nentropy = 0.811\\nsamples = 36\\nvalue = [27, 9]'), Text(0.8275862068965517, 0.78125, 'X[4] <= 5.5\\nentropy = 0.997\\nsamples = 15\\nvalue = [7, 8]'), Text(0.8103448275862069, 0.71875, 'entropy = 0.0\\nsamples = 4\\nvalue = [0, 4]'), Text(0.8448275862068966, 0.71875, 'X[8] <= 1.5\\nentropy = 0.946\\nsamples = 11\\nvalue = [7, 4]'), Text(0.8275862068965517, 0.65625, 'entropy = 0.0\\nsamples = 4\\nvalue = [4, 0]'), Text(0.8620689655172413, 0.65625, 'X[7] <= 340.5\\nentropy = 0.985\\nsamples = 7\\nvalue = [3, 4]'), Text(0.8448275862068966, 0.59375, 'X[17] <= 0.5\\nentropy = 0.722\\nsamples = 5\\nvalue = [1, 4]'), Text(0.8275862068965517, 0.53125, 'entropy = 0.0\\nsamples = 4\\nvalue = [0, 4]'), Text(0.8620689655172413, 0.53125, 'entropy = 0.0\\nsamples = 1\\nvalue = [1, 0]'), Text(0.8793103448275862, 0.59375, 'entropy = 0.0\\nsamples = 2\\nvalue = [2, 0]'), Text(0.896551724137931, 0.78125, 'X[1] <= 19.96\\nentropy = 0.276\\nsamples = 21\\nvalue = [20, 1]'), Text(0.8793103448275862, 0.71875, 'entropy = 0.0\\nsamples = 1\\nvalue = [0, 1]'), Text(0.9137931034482759, 0.71875, 'entropy = 0.0\\nsamples = 20\\nvalue = [20, 0]'), Text(0.9482758620689655, 0.84375, 'X[22] <= 0.5\\nentropy = 0.135\\nsamples = 53\\nvalue = [52, 1]'), Text(0.9310344827586207, 0.78125, 'entropy = 0.0\\nsamples = 50\\nvalue = [50, 0]'), Text(0.9655172413793104, 0.78125, 'X[7] <= 307.0\\nentropy = 0.918\\nsamples = 3\\nvalue = [2, 1]'), Text(0.9482758620689655, 0.71875, 'entropy = 0.0\\nsamples = 1\\nvalue = [0, 1]'), Text(0.9827586206896551, 0.71875, 'entropy = 0.0\\nsamples = 2\\nvalue = [2, 0]')]\n",
      "|--- feature_4 <= 2.50\n",
      "|   |--- feature_3 <= 0.50\n",
      "|   |   |--- feature_8 <= 5676.00\n",
      "|   |   |   |--- feature_1 <= 18.00\n",
      "|   |   |   |   |--- class: 1\n",
      "|   |   |   |--- feature_1 >  18.00\n",
      "|   |   |   |   |--- feature_7 <= 224.50\n",
      "|   |   |   |   |   |--- feature_7 <= 104.00\n",
      "|   |   |   |   |   |   |--- feature_28 <= 0.50\n",
      "|   |   |   |   |   |   |   |--- feature_8 <= 722.00\n",
      "|   |   |   |   |   |   |   |   |--- feature_1 <= 26.21\n",
      "|   |   |   |   |   |   |   |   |   |--- feature_8 <= 0.50\n",
      "|   |   |   |   |   |   |   |   |   |   |--- feature_7 <= 24.50\n",
      "|   |   |   |   |   |   |   |   |   |   |   |--- truncated branch of depth 3\n",
      "|   |   |   |   |   |   |   |   |   |   |--- feature_7 >  24.50\n",
      "|   |   |   |   |   |   |   |   |   |   |   |--- class: 0\n",
      "|   |   |   |   |   |   |   |   |   |--- feature_8 >  0.50\n",
      "|   |   |   |   |   |   |   |   |   |   |--- class: 1\n",
      "|   |   |   |   |   |   |   |   |--- feature_1 >  26.21\n",
      "|   |   |   |   |   |   |   |   |   |--- class: 1\n",
      "|   |   |   |   |   |   |   |--- feature_8 >  722.00\n",
      "|   |   |   |   |   |   |   |   |--- feature_17 <= 0.50\n",
      "|   |   |   |   |   |   |   |   |   |--- class: 0\n",
      "|   |   |   |   |   |   |   |   |--- feature_17 >  0.50\n",
      "|   |   |   |   |   |   |   |   |   |--- class: 1\n",
      "|   |   |   |   |   |   |--- feature_28 >  0.50\n",
      "|   |   |   |   |   |   |   |--- class: 1\n",
      "|   |   |   |   |   |--- feature_7 >  104.00\n",
      "|   |   |   |   |   |   |--- feature_8 <= 242.00\n",
      "|   |   |   |   |   |   |   |--- class: 1\n",
      "|   |   |   |   |   |   |--- feature_8 >  242.00\n",
      "|   |   |   |   |   |   |   |--- feature_8 <= 350.00\n",
      "|   |   |   |   |   |   |   |   |--- class: 0\n",
      "|   |   |   |   |   |   |   |--- feature_8 >  350.00\n",
      "|   |   |   |   |   |   |   |   |--- class: 1\n",
      "|   |   |   |   |--- feature_7 >  224.50\n",
      "|   |   |   |   |   |--- feature_19 <= 0.50\n",
      "|   |   |   |   |   |   |--- feature_7 <= 239.50\n",
      "|   |   |   |   |   |   |   |--- feature_21 <= 0.50\n",
      "|   |   |   |   |   |   |   |   |--- class: 0\n",
      "|   |   |   |   |   |   |   |--- feature_21 >  0.50\n",
      "|   |   |   |   |   |   |   |   |--- class: 1\n",
      "|   |   |   |   |   |   |--- feature_7 >  239.50\n",
      "|   |   |   |   |   |   |   |--- feature_1 <= 34.29\n",
      "|   |   |   |   |   |   |   |   |--- feature_13 <= 0.50\n",
      "|   |   |   |   |   |   |   |   |   |--- feature_1 <= 22.62\n",
      "|   |   |   |   |   |   |   |   |   |   |--- class: 1\n",
      "|   |   |   |   |   |   |   |   |   |--- feature_1 >  22.62\n",
      "|   |   |   |   |   |   |   |   |   |   |--- feature_21 <= 0.50\n",
      "|   |   |   |   |   |   |   |   |   |   |   |--- truncated branch of depth 5\n",
      "|   |   |   |   |   |   |   |   |   |   |--- feature_21 >  0.50\n",
      "|   |   |   |   |   |   |   |   |   |   |   |--- class: 1\n",
      "|   |   |   |   |   |   |   |   |--- feature_13 >  0.50\n",
      "|   |   |   |   |   |   |   |   |   |--- class: 0\n",
      "|   |   |   |   |   |   |   |--- feature_1 >  34.29\n",
      "|   |   |   |   |   |   |   |   |--- class: 1\n",
      "|   |   |   |   |   |--- feature_19 >  0.50\n",
      "|   |   |   |   |   |   |--- class: 0\n",
      "|   |   |--- feature_8 >  5676.00\n",
      "|   |   |   |--- class: 0\n",
      "|   |--- feature_3 >  0.50\n",
      "|   |   |--- feature_7 <= 90.00\n",
      "|   |   |   |--- feature_3 <= 6.00\n",
      "|   |   |   |   |--- feature_1 <= 45.67\n",
      "|   |   |   |   |   |--- feature_1 <= 21.91\n",
      "|   |   |   |   |   |   |--- class: 0\n",
      "|   |   |   |   |   |--- feature_1 >  21.91\n",
      "|   |   |   |   |   |   |--- feature_4 <= 1.50\n",
      "|   |   |   |   |   |   |   |--- feature_22 <= 0.50\n",
      "|   |   |   |   |   |   |   |   |--- feature_8 <= 8.00\n",
      "|   |   |   |   |   |   |   |   |   |--- class: 0\n",
      "|   |   |   |   |   |   |   |   |--- feature_8 >  8.00\n",
      "|   |   |   |   |   |   |   |   |   |--- feature_8 <= 439.00\n",
      "|   |   |   |   |   |   |   |   |   |   |--- class: 1\n",
      "|   |   |   |   |   |   |   |   |   |--- feature_8 >  439.00\n",
      "|   |   |   |   |   |   |   |   |   |   |--- class: 0\n",
      "|   |   |   |   |   |   |   |--- feature_22 >  0.50\n",
      "|   |   |   |   |   |   |   |   |--- class: 1\n",
      "|   |   |   |   |   |   |--- feature_4 >  1.50\n",
      "|   |   |   |   |   |   |   |--- class: 0\n",
      "|   |   |   |   |--- feature_1 >  45.67\n",
      "|   |   |   |   |   |--- class: 1\n",
      "|   |   |   |--- feature_3 >  6.00\n",
      "|   |   |   |   |--- class: 0\n",
      "|   |   |--- feature_7 >  90.00\n",
      "|   |   |   |--- feature_7 <= 499.50\n",
      "|   |   |   |   |--- feature_8 <= 2201.50\n",
      "|   |   |   |   |   |--- feature_3 <= 3.50\n",
      "|   |   |   |   |   |   |--- feature_5 <= 0.50\n",
      "|   |   |   |   |   |   |   |--- feature_8 <= 17.50\n",
      "|   |   |   |   |   |   |   |   |--- feature_8 <= 0.50\n",
      "|   |   |   |   |   |   |   |   |   |--- feature_7 <= 212.00\n",
      "|   |   |   |   |   |   |   |   |   |   |--- feature_24 <= 0.50\n",
      "|   |   |   |   |   |   |   |   |   |   |   |--- class: 0\n",
      "|   |   |   |   |   |   |   |   |   |   |--- feature_24 >  0.50\n",
      "|   |   |   |   |   |   |   |   |   |   |   |--- class: 1\n",
      "|   |   |   |   |   |   |   |   |   |--- feature_7 >  212.00\n",
      "|   |   |   |   |   |   |   |   |   |   |--- class: 1\n",
      "|   |   |   |   |   |   |   |   |--- feature_8 >  0.50\n",
      "|   |   |   |   |   |   |   |   |   |--- class: 1\n",
      "|   |   |   |   |   |   |   |--- feature_8 >  17.50\n",
      "|   |   |   |   |   |   |   |   |--- feature_2 <= 0.50\n",
      "|   |   |   |   |   |   |   |   |   |--- class: 0\n",
      "|   |   |   |   |   |   |   |   |--- feature_2 >  0.50\n",
      "|   |   |   |   |   |   |   |   |   |--- feature_21 <= 0.50\n",
      "|   |   |   |   |   |   |   |   |   |   |--- class: 1\n",
      "|   |   |   |   |   |   |   |   |   |--- feature_21 >  0.50\n",
      "|   |   |   |   |   |   |   |   |   |   |--- class: 0\n",
      "|   |   |   |   |   |   |--- feature_5 >  0.50\n",
      "|   |   |   |   |   |   |   |--- feature_7 <= 266.00\n",
      "|   |   |   |   |   |   |   |   |--- class: 1\n",
      "|   |   |   |   |   |   |   |--- feature_7 >  266.00\n",
      "|   |   |   |   |   |   |   |   |--- feature_11 <= 0.50\n",
      "|   |   |   |   |   |   |   |   |   |--- class: 1\n",
      "|   |   |   |   |   |   |   |   |--- feature_11 >  0.50\n",
      "|   |   |   |   |   |   |   |   |   |--- feature_1 <= 24.95\n",
      "|   |   |   |   |   |   |   |   |   |   |--- class: 1\n",
      "|   |   |   |   |   |   |   |   |   |--- feature_1 >  24.95\n",
      "|   |   |   |   |   |   |   |   |   |   |--- feature_3 <= 1.50\n",
      "|   |   |   |   |   |   |   |   |   |   |   |--- class: 0\n",
      "|   |   |   |   |   |   |   |   |   |   |--- feature_3 >  1.50\n",
      "|   |   |   |   |   |   |   |   |   |   |   |--- truncated branch of depth 3\n",
      "|   |   |   |   |   |--- feature_3 >  3.50\n",
      "|   |   |   |   |   |   |--- feature_0 <= 0.50\n",
      "|   |   |   |   |   |   |   |--- class: 1\n",
      "|   |   |   |   |   |   |--- feature_0 >  0.50\n",
      "|   |   |   |   |   |   |   |--- feature_1 <= 36.79\n",
      "|   |   |   |   |   |   |   |   |--- feature_23 <= 0.50\n",
      "|   |   |   |   |   |   |   |   |   |--- feature_26 <= 0.50\n",
      "|   |   |   |   |   |   |   |   |   |   |--- class: 0\n",
      "|   |   |   |   |   |   |   |   |   |--- feature_26 >  0.50\n",
      "|   |   |   |   |   |   |   |   |   |   |--- class: 1\n",
      "|   |   |   |   |   |   |   |   |--- feature_23 >  0.50\n",
      "|   |   |   |   |   |   |   |   |   |--- class: 1\n",
      "|   |   |   |   |   |   |   |--- feature_1 >  36.79\n",
      "|   |   |   |   |   |   |   |   |--- feature_8 <= 50.00\n",
      "|   |   |   |   |   |   |   |   |   |--- feature_2 <= 0.50\n",
      "|   |   |   |   |   |   |   |   |   |   |--- feature_1 <= 44.29\n",
      "|   |   |   |   |   |   |   |   |   |   |   |--- class: 1\n",
      "|   |   |   |   |   |   |   |   |   |   |--- feature_1 >  44.29\n",
      "|   |   |   |   |   |   |   |   |   |   |   |--- class: 0\n",
      "|   |   |   |   |   |   |   |   |   |--- feature_2 >  0.50\n",
      "|   |   |   |   |   |   |   |   |   |   |--- class: 1\n",
      "|   |   |   |   |   |   |   |   |--- feature_8 >  50.00\n",
      "|   |   |   |   |   |   |   |   |   |--- class: 1\n",
      "|   |   |   |   |--- feature_8 >  2201.50\n",
      "|   |   |   |   |   |--- class: 0\n",
      "|   |   |   |--- feature_7 >  499.50\n",
      "|   |   |   |   |--- class: 0\n",
      "|--- feature_4 >  2.50\n",
      "|   |--- feature_8 <= 255.00\n",
      "|   |   |--- feature_11 <= 0.50\n",
      "|   |   |   |--- feature_4 <= 5.50\n",
      "|   |   |   |   |--- class: 1\n",
      "|   |   |   |--- feature_4 >  5.50\n",
      "|   |   |   |   |--- feature_8 <= 1.50\n",
      "|   |   |   |   |   |--- class: 0\n",
      "|   |   |   |   |--- feature_8 >  1.50\n",
      "|   |   |   |   |   |--- feature_7 <= 340.50\n",
      "|   |   |   |   |   |   |--- feature_17 <= 0.50\n",
      "|   |   |   |   |   |   |   |--- class: 1\n",
      "|   |   |   |   |   |   |--- feature_17 >  0.50\n",
      "|   |   |   |   |   |   |   |--- class: 0\n",
      "|   |   |   |   |   |--- feature_7 >  340.50\n",
      "|   |   |   |   |   |   |--- class: 0\n",
      "|   |   |--- feature_11 >  0.50\n",
      "|   |   |   |--- feature_1 <= 19.96\n",
      "|   |   |   |   |--- class: 1\n",
      "|   |   |   |--- feature_1 >  19.96\n",
      "|   |   |   |   |--- class: 0\n",
      "|   |--- feature_8 >  255.00\n",
      "|   |   |--- feature_22 <= 0.50\n",
      "|   |   |   |--- class: 0\n",
      "|   |   |--- feature_22 >  0.50\n",
      "|   |   |   |--- feature_7 <= 307.00\n",
      "|   |   |   |   |--- class: 1\n",
      "|   |   |   |--- feature_7 >  307.00\n",
      "|   |   |   |   |--- class: 0\n",
      "\n"
     ]
    },
    {
     "data": {
      "text/plain": "<Figure size 432x288 with 1 Axes>",
      "image/png": "[encoded data removed]"
     },
     "metadata": {},
     "output_type": "display_data"
    }
   ],
   "source": [
    "#entropy graph\n",
    "tree_entropy =  tree.DecisionTreeClassifier(criterion = 'entropy', random_state=0)\n",
    "tree_entropy = tree_entropy.fit(X_train, y_train)\n",
    "\n",
    "print('\\nEntropy\\n', tree.plot_tree(tree_entropy))\n",
    "\n",
    "# word format representation\n",
    "text_representation_entropy = tree.export_text(decision_tree_classifier_entropy)\n",
    "print(text_representation_entropy)\n"
   ]
  },
  {
   "cell_type": "code",
   "execution_count": 32,
   "metadata": {},
   "outputs": [
    {
     "name": "stdout",
     "output_type": "stream",
     "text": [
      "\n",
      "Gini\n",
      " [Text(0.6485445205479452, 0.9642857142857143, 'X[4] <= 2.5\\ngini = 0.496\\nsamples = 343\\nvalue = [156, 187]'), Text(0.3929794520547945, 0.8928571428571429, 'X[3] <= 0.5\\ngini = 0.422\\nsamples = 254\\nvalue = [77, 177]'), Text(0.2328767123287671, 0.8214285714285714, 'X[8] <= 5676.0\\ngini = 0.317\\nsamples = 147\\nvalue = [29, 118]'), Text(0.2191780821917808, 0.75, 'X[7] <= 224.5\\ngini = 0.296\\nsamples = 144\\nvalue = [26, 118]'), Text(0.1506849315068493, 0.6785714285714286, 'X[7] <= 104.0\\ngini = 0.224\\nsamples = 101\\nvalue = [13, 88]'), Text(0.1232876712328767, 0.6071428571428571, 'X[15] <= 0.5\\ngini = 0.405\\nsamples = 39\\nvalue = [11, 28]'), Text(0.1095890410958904, 0.5357142857142857, 'X[8] <= 722.0\\ngini = 0.458\\nsamples = 31\\nvalue = [11, 20]'), Text(0.0821917808219178, 0.4642857142857143, 'X[8] <= 0.5\\ngini = 0.417\\nsamples = 27\\nvalue = [8, 19]'), Text(0.0684931506849315, 0.39285714285714285, 'X[1] <= 26.21\\ngini = 0.5\\nsamples = 16\\nvalue = [8, 8]'), Text(0.0547945205479452, 0.32142857142857145, 'X[7] <= 24.5\\ngini = 0.397\\nsamples = 11\\nvalue = [8, 3]'), Text(0.0410958904109589, 0.25, 'X[17] <= 0.5\\ngini = 0.5\\nsamples = 6\\nvalue = [3, 3]'), Text(0.0273972602739726, 0.17857142857142858, 'X[26] <= 0.5\\ngini = 0.375\\nsamples = 4\\nvalue = [3, 1]'), Text(0.0136986301369863, 0.10714285714285714, 'gini = 0.0\\nsamples = 3\\nvalue = [3, 0]'), Text(0.0410958904109589, 0.10714285714285714, 'gini = 0.0\\nsamples = 1\\nvalue = [0, 1]'), Text(0.0547945205479452, 0.17857142857142858, 'gini = 0.0\\nsamples = 2\\nvalue = [0, 2]'), Text(0.0684931506849315, 0.25, 'gini = 0.0\\nsamples = 5\\nvalue = [5, 0]'), Text(0.0821917808219178, 0.32142857142857145, 'gini = 0.0\\nsamples = 5\\nvalue = [0, 5]'), Text(0.0958904109589041, 0.39285714285714285, 'gini = 0.0\\nsamples = 11\\nvalue = [0, 11]'), Text(0.136986301369863, 0.4642857142857143, 'X[17] <= 0.5\\ngini = 0.375\\nsamples = 4\\nvalue = [3, 1]'), Text(0.1232876712328767, 0.39285714285714285, 'gini = 0.0\\nsamples = 3\\nvalue = [3, 0]'), Text(0.1506849315068493, 0.39285714285714285, 'gini = 0.0\\nsamples = 1\\nvalue = [0, 1]'), Text(0.136986301369863, 0.5357142857142857, 'gini = 0.0\\nsamples = 8\\nvalue = [0, 8]'), Text(0.1780821917808219, 0.6071428571428571, 'X[8] <= 242.0\\ngini = 0.062\\nsamples = 62\\nvalue = [2, 60]'), Text(0.1643835616438356, 0.5357142857142857, 'gini = 0.0\\nsamples = 53\\nvalue = [0, 53]'), Text(0.1917808219178082, 0.5357142857142857, 'X[8] <= 350.0\\ngini = 0.346\\nsamples = 9\\nvalue = [2, 7]'), Text(0.1780821917808219, 0.4642857142857143, 'gini = 0.0\\nsamples = 2\\nvalue = [2, 0]'), Text(0.2054794520547945, 0.4642857142857143, 'gini = 0.0\\nsamples = 7\\nvalue = [0, 7]'), Text(0.2876712328767123, 0.6785714285714286, 'X[19] <= 0.5\\ngini = 0.422\\nsamples = 43\\nvalue = [13, 30]'), Text(0.273972602739726, 0.6071428571428571, 'X[7] <= 239.5\\ngini = 0.393\\nsamples = 41\\nvalue = [11, 30]'), Text(0.2465753424657534, 0.5357142857142857, 'X[21] <= 0.5\\ngini = 0.375\\nsamples = 4\\nvalue = [3, 1]'), Text(0.2328767123287671, 0.4642857142857143, 'gini = 0.0\\nsamples = 3\\nvalue = [3, 0]'), Text(0.2602739726027397, 0.4642857142857143, 'gini = 0.0\\nsamples = 1\\nvalue = [0, 1]'), Text(0.3013698630136986, 0.5357142857142857, 'X[1] <= 34.295\\ngini = 0.339\\nsamples = 37\\nvalue = [8, 29]'), Text(0.2876712328767123, 0.4642857142857143, 'X[13] <= 0.5\\ngini = 0.426\\nsamples = 26\\nvalue = [8, 18]'), Text(0.273972602739726, 0.39285714285714285, 'X[1] <= 29.585\\ngini = 0.375\\nsamples = 24\\nvalue = [6, 18]'), Text(0.2465753424657534, 0.32142857142857145, 'X[25] <= 0.5\\ngini = 0.266\\nsamples = 19\\nvalue = [3, 16]'), Text(0.2328767123287671, 0.25, 'X[8] <= 907.5\\ngini = 0.198\\nsamples = 18\\nvalue = [2, 16]'), Text(0.2054794520547945, 0.17857142857142858, 'X[17] <= 0.5\\ngini = 0.117\\nsamples = 16\\nvalue = [1, 15]'), Text(0.1917808219178082, 0.10714285714285714, 'gini = 0.0\\nsamples = 13\\nvalue = [0, 13]'), Text(0.2191780821917808, 0.10714285714285714, 'X[1] <= 22.585\\ngini = 0.444\\nsamples = 3\\nvalue = [1, 2]'), Text(0.2054794520547945, 0.03571428571428571, 'gini = 0.0\\nsamples = 2\\nvalue = [0, 2]'), Text(0.2328767123287671, 0.03571428571428571, 'gini = 0.0\\nsamples = 1\\nvalue = [1, 0]'), Text(0.2602739726027397, 0.17857142857142858, 'X[4] <= 0.5\\ngini = 0.5\\nsamples = 2\\nvalue = [1, 1]'), Text(0.2465753424657534, 0.10714285714285714, 'gini = 0.0\\nsamples = 1\\nvalue = [1, 0]'), Text(0.273972602739726, 0.10714285714285714, 'gini = 0.0\\nsamples = 1\\nvalue = [0, 1]'), Text(0.2602739726027397, 0.25, 'gini = 0.0\\nsamples = 1\\nvalue = [1, 0]'), Text(0.3013698630136986, 0.32142857142857145, 'X[8] <= 3.0\\ngini = 0.48\\nsamples = 5\\nvalue = [3, 2]'), Text(0.2876712328767123, 0.25, 'gini = 0.0\\nsamples = 2\\nvalue = [0, 2]'), Text(0.3150684931506849, 0.25, 'gini = 0.0\\nsamples = 3\\nvalue = [3, 0]'), Text(0.3013698630136986, 0.39285714285714285, 'gini = 0.0\\nsamples = 2\\nvalue = [2, 0]'), Text(0.3150684931506849, 0.4642857142857143, 'gini = 0.0\\nsamples = 11\\nvalue = [0, 11]'), Text(0.3013698630136986, 0.6071428571428571, 'gini = 0.0\\nsamples = 2\\nvalue = [2, 0]'), Text(0.2465753424657534, 0.75, 'gini = 0.0\\nsamples = 3\\nvalue = [3, 0]'), Text(0.553082191780822, 0.8214285714285714, 'X[7] <= 90.0\\ngini = 0.495\\nsamples = 107\\nvalue = [48, 59]'), Text(0.410958904109589, 0.75, 'X[20] <= 0.5\\ngini = 0.444\\nsamples = 27\\nvalue = [18, 9]'), Text(0.3972602739726027, 0.6785714285714286, 'X[3] <= 6.0\\ngini = 0.403\\nsamples = 25\\nvalue = [18, 7]'), Text(0.3835616438356164, 0.6071428571428571, 'X[1] <= 45.665\\ngini = 0.465\\nsamples = 19\\nvalue = [12, 7]'), Text(0.3698630136986301, 0.5357142857142857, 'X[22] <= 0.5\\ngini = 0.375\\nsamples = 16\\nvalue = [12, 4]'), Text(0.3424657534246575, 0.4642857142857143, 'X[8] <= 8.0\\ngini = 0.26\\nsamples = 13\\nvalue = [11, 2]'), Text(0.3287671232876712, 0.39285714285714285, 'gini = 0.0\\nsamples = 7\\nvalue = [7, 0]'), Text(0.3561643835616438, 0.39285714285714285, 'X[8] <= 211.0\\ngini = 0.444\\nsamples = 6\\nvalue = [4, 2]'), Text(0.3424657534246575, 0.32142857142857145, 'gini = 0.0\\nsamples = 2\\nvalue = [0, 2]'), Text(0.3698630136986301, 0.32142857142857145, 'gini = 0.0\\nsamples = 4\\nvalue = [4, 0]'), Text(0.3972602739726027, 0.4642857142857143, 'X[1] <= 39.335\\ngini = 0.444\\nsamples = 3\\nvalue = [1, 2]'), Text(0.3835616438356164, 0.39285714285714285, 'gini = 0.0\\nsamples = 2\\nvalue = [0, 2]'), Text(0.410958904109589, 0.39285714285714285, 'gini = 0.0\\nsamples = 1\\nvalue = [1, 0]'), Text(0.3972602739726027, 0.5357142857142857, 'gini = 0.0\\nsamples = 3\\nvalue = [0, 3]'), Text(0.410958904109589, 0.6071428571428571, 'gini = 0.0\\nsamples = 6\\nvalue = [6, 0]'), Text(0.4246575342465753, 0.6785714285714286, 'gini = 0.0\\nsamples = 2\\nvalue = [0, 2]'), Text(0.6952054794520548, 0.75, 'X[8] <= 1458.0\\ngini = 0.469\\nsamples = 80\\nvalue = [30, 50]'), Text(0.6232876712328768, 0.6785714285714286, 'X[3] <= 3.5\\ngini = 0.447\\nsamples = 74\\nvalue = [25, 49]'), Text(0.5205479452054794, 0.6071428571428571, 'X[5] <= 0.5\\ngini = 0.389\\nsamples = 53\\nvalue = [14, 39]'), Text(0.4794520547945205, 0.5357142857142857, 'X[8] <= 17.5\\ngini = 0.483\\nsamples = 22\\nvalue = [9, 13]'), Text(0.4520547945205479, 0.4642857142857143, 'X[8] <= 0.5\\ngini = 0.26\\nsamples = 13\\nvalue = [2, 11]'), Text(0.4383561643835616, 0.39285714285714285, 'X[7] <= 212.0\\ngini = 0.48\\nsamples = 5\\nvalue = [2, 3]'), Text(0.4246575342465753, 0.32142857142857145, 'X[1] <= 28.17\\ngini = 0.444\\nsamples = 3\\nvalue = [2, 1]'), Text(0.410958904109589, 0.25, 'gini = 0.0\\nsamples = 2\\nvalue = [2, 0]'), Text(0.4383561643835616, 0.25, 'gini = 0.0\\nsamples = 1\\nvalue = [0, 1]'), Text(0.4520547945205479, 0.32142857142857145, 'gini = 0.0\\nsamples = 2\\nvalue = [0, 2]'), Text(0.4657534246575342, 0.39285714285714285, 'gini = 0.0\\nsamples = 8\\nvalue = [0, 8]'), Text(0.5068493150684932, 0.4642857142857143, 'X[2] <= 0.5\\ngini = 0.346\\nsamples = 9\\nvalue = [7, 2]'), Text(0.4931506849315068, 0.39285714285714285, 'gini = 0.0\\nsamples = 6\\nvalue = [6, 0]'), Text(0.5205479452054794, 0.39285714285714285, 'X[21] <= 0.5\\ngini = 0.444\\nsamples = 3\\nvalue = [1, 2]'), Text(0.5068493150684932, 0.32142857142857145, 'gini = 0.0\\nsamples = 2\\nvalue = [0, 2]'), Text(0.5342465753424658, 0.32142857142857145, 'gini = 0.0\\nsamples = 1\\nvalue = [1, 0]'), Text(0.5616438356164384, 0.5357142857142857, 'X[7] <= 260.0\\ngini = 0.271\\nsamples = 31\\nvalue = [5, 26]'), Text(0.547945205479452, 0.4642857142857143, 'gini = 0.0\\nsamples = 15\\nvalue = [0, 15]'), Text(0.5753424657534246, 0.4642857142857143, 'X[11] <= 0.5\\ngini = 0.43\\nsamples = 16\\nvalue = [5, 11]'), Text(0.5616438356164384, 0.39285714285714285, 'gini = 0.0\\nsamples = 5\\nvalue = [0, 5]'), Text(0.589041095890411, 0.39285714285714285, 'X[3] <= 1.5\\ngini = 0.496\\nsamples = 11\\nvalue = [5, 6]'), Text(0.5616438356164384, 0.32142857142857145, 'X[1] <= 24.955\\ngini = 0.444\\nsamples = 6\\nvalue = [4, 2]'), Text(0.547945205479452, 0.25, 'gini = 0.0\\nsamples = 2\\nvalue = [0, 2]'), Text(0.5753424657534246, 0.25, 'gini = 0.0\\nsamples = 4\\nvalue = [4, 0]'), Text(0.6164383561643836, 0.32142857142857145, 'X[1] <= 31.83\\ngini = 0.32\\nsamples = 5\\nvalue = [1, 4]'), Text(0.6027397260273972, 0.25, 'gini = 0.0\\nsamples = 3\\nvalue = [0, 3]'), Text(0.6301369863013698, 0.25, 'X[7] <= 380.0\\ngini = 0.5\\nsamples = 2\\nvalue = [1, 1]'), Text(0.6164383561643836, 0.17857142857142858, 'gini = 0.0\\nsamples = 1\\nvalue = [1, 0]'), Text(0.6438356164383562, 0.17857142857142858, 'gini = 0.0\\nsamples = 1\\nvalue = [0, 1]'), Text(0.726027397260274, 0.6071428571428571, 'X[8] <= 53.5\\ngini = 0.499\\nsamples = 21\\nvalue = [11, 10]'), Text(0.684931506849315, 0.5357142857142857, 'X[2] <= 0.5\\ngini = 0.469\\nsamples = 16\\nvalue = [10, 6]'), Text(0.6438356164383562, 0.4642857142857143, 'X[6] <= 0.5\\ngini = 0.346\\nsamples = 9\\nvalue = [7, 2]'), Text(0.6301369863013698, 0.39285714285714285, 'gini = 0.0\\nsamples = 6\\nvalue = [6, 0]'), Text(0.6575342465753424, 0.39285714285714285, 'X[3] <= 13.0\\ngini = 0.444\\nsamples = 3\\nvalue = [1, 2]'), Text(0.6438356164383562, 0.32142857142857145, 'gini = 0.0\\nsamples = 2\\nvalue = [0, 2]'), Text(0.6712328767123288, 0.32142857142857145, 'gini = 0.0\\nsamples = 1\\nvalue = [1, 0]'), Text(0.726027397260274, 0.4642857142857143, 'X[1] <= 36.795\\ngini = 0.49\\nsamples = 7\\nvalue = [3, 4]'), Text(0.7123287671232876, 0.39285714285714285, 'X[7] <= 171.0\\ngini = 0.48\\nsamples = 5\\nvalue = [3, 2]'), Text(0.6986301369863014, 0.32142857142857145, 'gini = 0.0\\nsamples = 2\\nvalue = [2, 0]'), Text(0.726027397260274, 0.32142857142857145, 'X[27] <= 0.5\\ngini = 0.444\\nsamples = 3\\nvalue = [1, 2]'), Text(0.7123287671232876, 0.25, 'gini = 0.0\\nsamples = 2\\nvalue = [0, 2]'), Text(0.7397260273972602, 0.25, 'gini = 0.0\\nsamples = 1\\nvalue = [1, 0]'), Text(0.7397260273972602, 0.39285714285714285, 'gini = 0.0\\nsamples = 2\\nvalue = [0, 2]'), Text(0.7671232876712328, 0.5357142857142857, 'X[8] <= 175.0\\ngini = 0.32\\nsamples = 5\\nvalue = [1, 4]'), Text(0.7534246575342466, 0.4642857142857143, 'gini = 0.0\\nsamples = 3\\nvalue = [0, 3]'), Text(0.7808219178082192, 0.4642857142857143, 'X[1] <= 27.125\\ngini = 0.5\\nsamples = 2\\nvalue = [1, 1]'), Text(0.7671232876712328, 0.39285714285714285, 'gini = 0.0\\nsamples = 1\\nvalue = [0, 1]'), Text(0.7945205479452054, 0.39285714285714285, 'gini = 0.0\\nsamples = 1\\nvalue = [1, 0]'), Text(0.7671232876712328, 0.6785714285714286, 'X[20] <= 0.5\\ngini = 0.278\\nsamples = 6\\nvalue = [5, 1]'), Text(0.7534246575342466, 0.6071428571428571, 'gini = 0.0\\nsamples = 5\\nvalue = [5, 0]'), Text(0.7808219178082192, 0.6071428571428571, 'gini = 0.0\\nsamples = 1\\nvalue = [0, 1]'), Text(0.9041095890410958, 0.8928571428571429, 'X[3] <= 0.5\\ngini = 0.199\\nsamples = 89\\nvalue = [79, 10]'), Text(0.863013698630137, 0.8214285714285714, 'X[7] <= 277.0\\ngini = 0.444\\nsamples = 21\\nvalue = [14, 7]'), Text(0.8493150684931506, 0.75, 'X[1] <= 38.17\\ngini = 0.5\\nsamples = 14\\nvalue = [7, 7]'), Text(0.821917808219178, 0.6785714285714286, 'X[7] <= 114.5\\ngini = 0.444\\nsamples = 9\\nvalue = [3, 6]'), Text(0.8082191780821918, 0.6071428571428571, 'X[11] <= 0.5\\ngini = 0.48\\nsamples = 5\\nvalue = [3, 2]'), Text(0.7945205479452054, 0.5357142857142857, 'gini = 0.0\\nsamples = 2\\nvalue = [0, 2]'), Text(0.821917808219178, 0.5357142857142857, 'gini = 0.0\\nsamples = 3\\nvalue = [3, 0]'), Text(0.8356164383561644, 0.6071428571428571, 'gini = 0.0\\nsamples = 4\\nvalue = [0, 4]'), Text(0.8767123287671232, 0.6785714285714286, 'X[4] <= 17.0\\ngini = 0.32\\nsamples = 5\\nvalue = [4, 1]'), Text(0.863013698630137, 0.6071428571428571, 'gini = 0.0\\nsamples = 4\\nvalue = [4, 0]'), Text(0.8904109589041096, 0.6071428571428571, 'gini = 0.0\\nsamples = 1\\nvalue = [0, 1]'), Text(0.8767123287671232, 0.75, 'gini = 0.0\\nsamples = 7\\nvalue = [7, 0]'), Text(0.9452054794520548, 0.8214285714285714, 'X[21] <= 0.5\\ngini = 0.084\\nsamples = 68\\nvalue = [65, 3]'), Text(0.9178082191780822, 0.75, 'X[9] <= 0.5\\ngini = 0.059\\nsamples = 66\\nvalue = [64, 2]'), Text(0.9041095890410958, 0.6785714285714286, 'gini = 0.0\\nsamples = 49\\nvalue = [49, 0]'), Text(0.9315068493150684, 0.6785714285714286, 'X[8] <= 255.0\\ngini = 0.208\\nsamples = 17\\nvalue = [15, 2]'), Text(0.9178082191780822, 0.6071428571428571, 'X[7] <= 116.5\\ngini = 0.48\\nsamples = 5\\nvalue = [3, 2]'), Text(0.9041095890410958, 0.5357142857142857, 'gini = 0.0\\nsamples = 2\\nvalue = [2, 0]'), Text(0.9315068493150684, 0.5357142857142857, 'X[7] <= 340.5\\ngini = 0.444\\nsamples = 3\\nvalue = [1, 2]'), Text(0.9178082191780822, 0.4642857142857143, 'gini = 0.0\\nsamples = 2\\nvalue = [0, 2]'), Text(0.9452054794520548, 0.4642857142857143, 'gini = 0.0\\nsamples = 1\\nvalue = [1, 0]'), Text(0.9452054794520548, 0.6071428571428571, 'gini = 0.0\\nsamples = 12\\nvalue = [12, 0]'), Text(0.9726027397260274, 0.75, 'X[3] <= 2.5\\ngini = 0.5\\nsamples = 2\\nvalue = [1, 1]'), Text(0.958904109589041, 0.6785714285714286, 'gini = 0.0\\nsamples = 1\\nvalue = [0, 1]'), Text(0.9863013698630136, 0.6785714285714286, 'gini = 0.0\\nsamples = 1\\nvalue = [1, 0]')]\n",
      "|--- feature_4 <= 2.50\n",
      "|   |--- feature_3 <= 0.50\n",
      "|   |   |--- feature_8 <= 5676.00\n",
      "|   |   |   |--- feature_7 <= 224.50\n",
      "|   |   |   |   |--- feature_7 <= 104.00\n",
      "|   |   |   |   |   |--- feature_15 <= 0.50\n",
      "|   |   |   |   |   |   |--- feature_8 <= 722.00\n",
      "|   |   |   |   |   |   |   |--- feature_8 <= 0.50\n",
      "|   |   |   |   |   |   |   |   |--- feature_1 <= 26.21\n",
      "|   |   |   |   |   |   |   |   |   |--- feature_7 <= 24.50\n",
      "|   |   |   |   |   |   |   |   |   |   |--- feature_17 <= 0.50\n",
      "|   |   |   |   |   |   |   |   |   |   |   |--- truncated branch of depth 2\n",
      "|   |   |   |   |   |   |   |   |   |   |--- feature_17 >  0.50\n",
      "|   |   |   |   |   |   |   |   |   |   |   |--- class: 1\n",
      "|   |   |   |   |   |   |   |   |   |--- feature_7 >  24.50\n",
      "|   |   |   |   |   |   |   |   |   |   |--- class: 0\n",
      "|   |   |   |   |   |   |   |   |--- feature_1 >  26.21\n",
      "|   |   |   |   |   |   |   |   |   |--- class: 1\n",
      "|   |   |   |   |   |   |   |--- feature_8 >  0.50\n",
      "|   |   |   |   |   |   |   |   |--- class: 1\n",
      "|   |   |   |   |   |   |--- feature_8 >  722.00\n",
      "|   |   |   |   |   |   |   |--- feature_17 <= 0.50\n",
      "|   |   |   |   |   |   |   |   |--- class: 0\n",
      "|   |   |   |   |   |   |   |--- feature_17 >  0.50\n",
      "|   |   |   |   |   |   |   |   |--- class: 1\n",
      "|   |   |   |   |   |--- feature_15 >  0.50\n",
      "|   |   |   |   |   |   |--- class: 1\n",
      "|   |   |   |   |--- feature_7 >  104.00\n",
      "|   |   |   |   |   |--- feature_8 <= 242.00\n",
      "|   |   |   |   |   |   |--- class: 1\n",
      "|   |   |   |   |   |--- feature_8 >  242.00\n",
      "|   |   |   |   |   |   |--- feature_8 <= 350.00\n",
      "|   |   |   |   |   |   |   |--- class: 0\n",
      "|   |   |   |   |   |   |--- feature_8 >  350.00\n",
      "|   |   |   |   |   |   |   |--- class: 1\n",
      "|   |   |   |--- feature_7 >  224.50\n",
      "|   |   |   |   |--- feature_19 <= 0.50\n",
      "|   |   |   |   |   |--- feature_7 <= 239.50\n",
      "|   |   |   |   |   |   |--- feature_21 <= 0.50\n",
      "|   |   |   |   |   |   |   |--- class: 0\n",
      "|   |   |   |   |   |   |--- feature_21 >  0.50\n",
      "|   |   |   |   |   |   |   |--- class: 1\n",
      "|   |   |   |   |   |--- feature_7 >  239.50\n",
      "|   |   |   |   |   |   |--- feature_1 <= 34.29\n",
      "|   |   |   |   |   |   |   |--- feature_13 <= 0.50\n",
      "|   |   |   |   |   |   |   |   |--- feature_1 <= 29.59\n",
      "|   |   |   |   |   |   |   |   |   |--- feature_25 <= 0.50\n",
      "|   |   |   |   |   |   |   |   |   |   |--- feature_8 <= 907.50\n",
      "|   |   |   |   |   |   |   |   |   |   |   |--- truncated branch of depth 3\n",
      "|   |   |   |   |   |   |   |   |   |   |--- feature_8 >  907.50\n",
      "|   |   |   |   |   |   |   |   |   |   |   |--- truncated branch of depth 2\n",
      "|   |   |   |   |   |   |   |   |   |--- feature_25 >  0.50\n",
      "|   |   |   |   |   |   |   |   |   |   |--- class: 0\n",
      "|   |   |   |   |   |   |   |   |--- feature_1 >  29.59\n",
      "|   |   |   |   |   |   |   |   |   |--- feature_8 <= 3.00\n",
      "|   |   |   |   |   |   |   |   |   |   |--- class: 1\n",
      "|   |   |   |   |   |   |   |   |   |--- feature_8 >  3.00\n",
      "|   |   |   |   |   |   |   |   |   |   |--- class: 0\n",
      "|   |   |   |   |   |   |   |--- feature_13 >  0.50\n",
      "|   |   |   |   |   |   |   |   |--- class: 0\n",
      "|   |   |   |   |   |   |--- feature_1 >  34.29\n",
      "|   |   |   |   |   |   |   |--- class: 1\n",
      "|   |   |   |   |--- feature_19 >  0.50\n",
      "|   |   |   |   |   |--- class: 0\n",
      "|   |   |--- feature_8 >  5676.00\n",
      "|   |   |   |--- class: 0\n",
      "|   |--- feature_3 >  0.50\n",
      "|   |   |--- feature_7 <= 90.00\n",
      "|   |   |   |--- feature_20 <= 0.50\n",
      "|   |   |   |   |--- feature_3 <= 6.00\n",
      "|   |   |   |   |   |--- feature_1 <= 45.67\n",
      "|   |   |   |   |   |   |--- feature_22 <= 0.50\n",
      "|   |   |   |   |   |   |   |--- feature_8 <= 8.00\n",
      "|   |   |   |   |   |   |   |   |--- class: 0\n",
      "|   |   |   |   |   |   |   |--- feature_8 >  8.00\n",
      "|   |   |   |   |   |   |   |   |--- feature_8 <= 211.00\n",
      "|   |   |   |   |   |   |   |   |   |--- class: 1\n",
      "|   |   |   |   |   |   |   |   |--- feature_8 >  211.00\n",
      "|   |   |   |   |   |   |   |   |   |--- class: 0\n",
      "|   |   |   |   |   |   |--- feature_22 >  0.50\n",
      "|   |   |   |   |   |   |   |--- feature_1 <= 39.33\n",
      "|   |   |   |   |   |   |   |   |--- class: 1\n",
      "|   |   |   |   |   |   |   |--- feature_1 >  39.33\n",
      "|   |   |   |   |   |   |   |   |--- class: 0\n",
      "|   |   |   |   |   |--- feature_1 >  45.67\n",
      "|   |   |   |   |   |   |--- class: 1\n",
      "|   |   |   |   |--- feature_3 >  6.00\n",
      "|   |   |   |   |   |--- class: 0\n",
      "|   |   |   |--- feature_20 >  0.50\n",
      "|   |   |   |   |--- class: 1\n",
      "|   |   |--- feature_7 >  90.00\n",
      "|   |   |   |--- feature_8 <= 1458.00\n",
      "|   |   |   |   |--- feature_3 <= 3.50\n",
      "|   |   |   |   |   |--- feature_5 <= 0.50\n",
      "|   |   |   |   |   |   |--- feature_8 <= 17.50\n",
      "|   |   |   |   |   |   |   |--- feature_8 <= 0.50\n",
      "|   |   |   |   |   |   |   |   |--- feature_7 <= 212.00\n",
      "|   |   |   |   |   |   |   |   |   |--- feature_1 <= 28.17\n",
      "|   |   |   |   |   |   |   |   |   |   |--- class: 0\n",
      "|   |   |   |   |   |   |   |   |   |--- feature_1 >  28.17\n",
      "|   |   |   |   |   |   |   |   |   |   |--- class: 1\n",
      "|   |   |   |   |   |   |   |   |--- feature_7 >  212.00\n",
      "|   |   |   |   |   |   |   |   |   |--- class: 1\n",
      "|   |   |   |   |   |   |   |--- feature_8 >  0.50\n",
      "|   |   |   |   |   |   |   |   |--- class: 1\n",
      "|   |   |   |   |   |   |--- feature_8 >  17.50\n",
      "|   |   |   |   |   |   |   |--- feature_2 <= 0.50\n",
      "|   |   |   |   |   |   |   |   |--- class: 0\n",
      "|   |   |   |   |   |   |   |--- feature_2 >  0.50\n",
      "|   |   |   |   |   |   |   |   |--- feature_21 <= 0.50\n",
      "|   |   |   |   |   |   |   |   |   |--- class: 1\n",
      "|   |   |   |   |   |   |   |   |--- feature_21 >  0.50\n",
      "|   |   |   |   |   |   |   |   |   |--- class: 0\n",
      "|   |   |   |   |   |--- feature_5 >  0.50\n",
      "|   |   |   |   |   |   |--- feature_7 <= 260.00\n",
      "|   |   |   |   |   |   |   |--- class: 1\n",
      "|   |   |   |   |   |   |--- feature_7 >  260.00\n",
      "|   |   |   |   |   |   |   |--- feature_11 <= 0.50\n",
      "|   |   |   |   |   |   |   |   |--- class: 1\n",
      "|   |   |   |   |   |   |   |--- feature_11 >  0.50\n",
      "|   |   |   |   |   |   |   |   |--- feature_3 <= 1.50\n",
      "|   |   |   |   |   |   |   |   |   |--- feature_1 <= 24.95\n",
      "|   |   |   |   |   |   |   |   |   |   |--- class: 1\n",
      "|   |   |   |   |   |   |   |   |   |--- feature_1 >  24.95\n",
      "|   |   |   |   |   |   |   |   |   |   |--- class: 0\n",
      "|   |   |   |   |   |   |   |   |--- feature_3 >  1.50\n",
      "|   |   |   |   |   |   |   |   |   |--- feature_1 <= 31.83\n",
      "|   |   |   |   |   |   |   |   |   |   |--- class: 1\n",
      "|   |   |   |   |   |   |   |   |   |--- feature_1 >  31.83\n",
      "|   |   |   |   |   |   |   |   |   |   |--- feature_7 <= 380.00\n",
      "|   |   |   |   |   |   |   |   |   |   |   |--- class: 0\n",
      "|   |   |   |   |   |   |   |   |   |   |--- feature_7 >  380.00\n",
      "|   |   |   |   |   |   |   |   |   |   |   |--- class: 1\n",
      "|   |   |   |   |--- feature_3 >  3.50\n",
      "|   |   |   |   |   |--- feature_8 <= 53.50\n",
      "|   |   |   |   |   |   |--- feature_2 <= 0.50\n",
      "|   |   |   |   |   |   |   |--- feature_6 <= 0.50\n",
      "|   |   |   |   |   |   |   |   |--- class: 0\n",
      "|   |   |   |   |   |   |   |--- feature_6 >  0.50\n",
      "|   |   |   |   |   |   |   |   |--- feature_3 <= 13.00\n",
      "|   |   |   |   |   |   |   |   |   |--- class: 1\n",
      "|   |   |   |   |   |   |   |   |--- feature_3 >  13.00\n",
      "|   |   |   |   |   |   |   |   |   |--- class: 0\n",
      "|   |   |   |   |   |   |--- feature_2 >  0.50\n",
      "|   |   |   |   |   |   |   |--- feature_1 <= 36.79\n",
      "|   |   |   |   |   |   |   |   |--- feature_7 <= 171.00\n",
      "|   |   |   |   |   |   |   |   |   |--- class: 0\n",
      "|   |   |   |   |   |   |   |   |--- feature_7 >  171.00\n",
      "|   |   |   |   |   |   |   |   |   |--- feature_27 <= 0.50\n",
      "|   |   |   |   |   |   |   |   |   |   |--- class: 1\n",
      "|   |   |   |   |   |   |   |   |   |--- feature_27 >  0.50\n",
      "|   |   |   |   |   |   |   |   |   |   |--- class: 0\n",
      "|   |   |   |   |   |   |   |--- feature_1 >  36.79\n",
      "|   |   |   |   |   |   |   |   |--- class: 1\n",
      "|   |   |   |   |   |--- feature_8 >  53.50\n",
      "|   |   |   |   |   |   |--- feature_8 <= 175.00\n",
      "|   |   |   |   |   |   |   |--- class: 1\n",
      "|   |   |   |   |   |   |--- feature_8 >  175.00\n",
      "|   |   |   |   |   |   |   |--- feature_1 <= 27.12\n",
      "|   |   |   |   |   |   |   |   |--- class: 1\n",
      "|   |   |   |   |   |   |   |--- feature_1 >  27.12\n",
      "|   |   |   |   |   |   |   |   |--- class: 0\n",
      "|   |   |   |--- feature_8 >  1458.00\n",
      "|   |   |   |   |--- feature_20 <= 0.50\n",
      "|   |   |   |   |   |--- class: 0\n",
      "|   |   |   |   |--- feature_20 >  0.50\n",
      "|   |   |   |   |   |--- class: 1\n",
      "|--- feature_4 >  2.50\n",
      "|   |--- feature_3 <= 0.50\n",
      "|   |   |--- feature_7 <= 277.00\n",
      "|   |   |   |--- feature_1 <= 38.17\n",
      "|   |   |   |   |--- feature_7 <= 114.50\n",
      "|   |   |   |   |   |--- feature_11 <= 0.50\n",
      "|   |   |   |   |   |   |--- class: 1\n",
      "|   |   |   |   |   |--- feature_11 >  0.50\n",
      "|   |   |   |   |   |   |--- class: 0\n",
      "|   |   |   |   |--- feature_7 >  114.50\n",
      "|   |   |   |   |   |--- class: 1\n",
      "|   |   |   |--- feature_1 >  38.17\n",
      "|   |   |   |   |--- feature_4 <= 17.00\n",
      "|   |   |   |   |   |--- class: 0\n",
      "|   |   |   |   |--- feature_4 >  17.00\n",
      "|   |   |   |   |   |--- class: 1\n",
      "|   |   |--- feature_7 >  277.00\n",
      "|   |   |   |--- class: 0\n",
      "|   |--- feature_3 >  0.50\n",
      "|   |   |--- feature_21 <= 0.50\n",
      "|   |   |   |--- feature_9 <= 0.50\n",
      "|   |   |   |   |--- class: 0\n",
      "|   |   |   |--- feature_9 >  0.50\n",
      "|   |   |   |   |--- feature_8 <= 255.00\n",
      "|   |   |   |   |   |--- feature_7 <= 116.50\n",
      "|   |   |   |   |   |   |--- class: 0\n",
      "|   |   |   |   |   |--- feature_7 >  116.50\n",
      "|   |   |   |   |   |   |--- feature_7 <= 340.50\n",
      "|   |   |   |   |   |   |   |--- class: 1\n",
      "|   |   |   |   |   |   |--- feature_7 >  340.50\n",
      "|   |   |   |   |   |   |   |--- class: 0\n",
      "|   |   |   |   |--- feature_8 >  255.00\n",
      "|   |   |   |   |   |--- class: 0\n",
      "|   |   |--- feature_21 >  0.50\n",
      "|   |   |   |--- feature_3 <= 2.50\n",
      "|   |   |   |   |--- class: 1\n",
      "|   |   |   |--- feature_3 >  2.50\n",
      "|   |   |   |   |--- class: 0\n",
      "\n"
     ]
    },
    {
     "data": {
      "text/plain": "<Figure size 432x288 with 1 Axes>",
      "image/png": "[encoded data removed]"
     },
     "metadata": {},
     "output_type": "display_data"
    }
   ],
   "source": [
    "#gini graph\n",
    "tree_gini =  tree.DecisionTreeClassifier(criterion = 'gini', random_state=0)\n",
    "tree_gini = tree_gini.fit(X_train, y_train)\n",
    "\n",
    "print('\\nGini\\n', tree.plot_tree(tree_gini))\n",
    "\n",
    "# word format representation\n",
    "text_representation_gini = tree.export_text(decision_tree_classifier_gini)\n",
    "print(text_representation_gini)"
   ]
  },
  {
   "cell_type": "code",
   "execution_count": 33,
   "metadata": {},
   "outputs": [
    {
     "name": "stdout",
     "output_type": "stream",
     "text": [
      "Confusion Matrix Entropy: \n",
      " [[27  9]\n",
      " [14 36]]\n",
      "\n",
      "Confusion Matrix Gini: \n",
      " [[29  7]\n",
      " [11 39]]\n"
     ]
    }
   ],
   "source": [
    "#Confusion matrix:\n",
    "print(\"Confusion Matrix Entropy: \\n\", confusion_matrix(y_test, predictions_entropy))\n",
    "print(\"\\nConfusion Matrix Gini: \\n\", confusion_matrix(y_test, predictions_gini))"
   ]
  },
  {
   "cell_type": "code",
   "execution_count": 34,
   "metadata": {
    "pycharm": {
     "name": "#%%\n"
    }
   },
   "outputs": [
    {
     "name": "stdout",
     "output_type": "stream",
     "text": [
      "Entropy: LinregressResult(slope=0.47000000000000025, intercept=0.2499999999999999, rvalue=0.46423291042530734, pvalue=6.7236546929196195e-06, stderr=0.09783976209915399, intercept_stderr=0.0746021192090157)\n",
      "\n",
      "Gini: LinregressResult(slope=0.5855555555555555, intercept=0.19444444444444442, rvalue=0.5791558491326325, pvalue=5.166052736765785e-09, stderr=0.08993032445681332, intercept_stderr=0.0685712295460565)\n"
     ]
    }
   ],
   "source": [
    "print('Entropy:', linregress(y_test.to_numpy().ravel(), np.array(predictions_entropy)))\n",
    "print('\\nGini:', linregress(y_test.to_numpy().ravel(), np.array(predictions_gini)))"
   ]
  },
  {
   "cell_type": "code",
   "execution_count": 34,
   "metadata": {
    "pycharm": {
     "name": "#%%\n"
    }
   },
   "outputs": [],
   "source": []
  },
  {
   "cell_type": "code",
   "execution_count": 35,
   "metadata": {
    "pycharm": {
     "name": "#%%\n"
    }
   },
   "outputs": [
    {
     "name": "stdout",
     "output_type": "stream",
     "text": [
      "the decision path in a tree\n",
      "Entropy:\n",
      "  (0, 0)\t1\n",
      "  (0, 118)\t1\n",
      "  (0, 132)\t1\n",
      "  (0, 133)\t1\n",
      "  (1, 0)\t1\n",
      "  (1, 1)\t1\n",
      "  (1, 55)\t1\n",
      "  (1, 56)\t1\n",
      "  (1, 57)\t1\n",
      "  (1, 58)\t1\n",
      "  (1, 60)\t1\n",
      "  (1, 68)\t1\n",
      "  (2, 0)\t1\n",
      "  (2, 118)\t1\n",
      "  (2, 119)\t1\n",
      "  (2, 129)\t1\n",
      "  (2, 131)\t1\n",
      "  (3, 0)\t1\n",
      "  (3, 1)\t1\n",
      "  (3, 2)\t1\n",
      "  (3, 3)\t1\n",
      "  (3, 5)\t1\n",
      "  (3, 6)\t1\n",
      "  (3, 24)\t1\n",
      "  (3, 25)\t1\n",
      "  :\t:\n",
      "  (83, 118)\t1\n",
      "  (83, 132)\t1\n",
      "  (83, 133)\t1\n",
      "  (84, 0)\t1\n",
      "  (84, 1)\t1\n",
      "  (84, 2)\t1\n",
      "  (84, 3)\t1\n",
      "  (84, 5)\t1\n",
      "  (84, 29)\t1\n",
      "  (84, 30)\t1\n",
      "  (84, 34)\t1\n",
      "  (84, 35)\t1\n",
      "  (84, 36)\t1\n",
      "  (84, 38)\t1\n",
      "  (84, 39)\t1\n",
      "  (84, 43)\t1\n",
      "  (84, 44)\t1\n",
      "  (85, 0)\t1\n",
      "  (85, 1)\t1\n",
      "  (85, 2)\t1\n",
      "  (85, 3)\t1\n",
      "  (85, 5)\t1\n",
      "  (85, 6)\t1\n",
      "  (85, 24)\t1\n",
      "  (85, 25)\t1\n",
      "\n",
      "Gini:\n",
      "  (0, 0)\t1\n",
      "  (0, 120)\t1\n",
      "  (0, 132)\t1\n",
      "  (0, 133)\t1\n",
      "  (0, 135)\t1\n",
      "  (0, 141)\t1\n",
      "  (1, 0)\t1\n",
      "  (1, 1)\t1\n",
      "  (1, 53)\t1\n",
      "  (1, 54)\t1\n",
      "  (1, 55)\t1\n",
      "  (1, 56)\t1\n",
      "  (1, 57)\t1\n",
      "  (1, 58)\t1\n",
      "  (1, 60)\t1\n",
      "  (1, 62)\t1\n",
      "  (2, 0)\t1\n",
      "  (2, 120)\t1\n",
      "  (2, 132)\t1\n",
      "  (2, 133)\t1\n",
      "  (2, 134)\t1\n",
      "  (3, 0)\t1\n",
      "  (3, 1)\t1\n",
      "  (3, 2)\t1\n",
      "  (3, 3)\t1\n",
      "  :\t:\n",
      "  (82, 26)\t1\n",
      "  (83, 0)\t1\n",
      "  (83, 120)\t1\n",
      "  (83, 121)\t1\n",
      "  (83, 131)\t1\n",
      "  (84, 0)\t1\n",
      "  (84, 1)\t1\n",
      "  (84, 2)\t1\n",
      "  (84, 3)\t1\n",
      "  (84, 27)\t1\n",
      "  (84, 28)\t1\n",
      "  (84, 32)\t1\n",
      "  (84, 33)\t1\n",
      "  (84, 34)\t1\n",
      "  (84, 35)\t1\n",
      "  (84, 36)\t1\n",
      "  (84, 37)\t1\n",
      "  (84, 38)\t1\n",
      "  (85, 0)\t1\n",
      "  (85, 1)\t1\n",
      "  (85, 2)\t1\n",
      "  (85, 3)\t1\n",
      "  (85, 4)\t1\n",
      "  (85, 22)\t1\n",
      "  (85, 23)\t1\n"
     ]
    }
   ],
   "source": [
    "# returning the decision path in a tree\n",
    "print('the decision path in a tree')\n",
    "\n",
    "print('Entropy:')\n",
    "print(decision_tree_classifier_entropy.decision_path(X_test))\n",
    "\n",
    "print('\\nGini:')\n",
    "print(decision_tree_classifier_gini.decision_path(X_test))"
   ]
  },
  {
   "cell_type": "code",
   "execution_count": 36,
   "metadata": {
    "pycharm": {
     "name": "#%%\n"
    }
   },
   "outputs": [
    {
     "name": "stdout",
     "output_type": "stream",
     "text": [
      "Entropy:\n",
      "Depth of the tree:  15\n",
      "\n",
      "Gini:\n",
      "Depth of the tree:  13\n"
     ]
    }
   ],
   "source": [
    "# returning the depth of the tree\n",
    "\n",
    "print('Entropy:')\n",
    "print('Depth of the tree: ',decision_tree_classifier_entropy.get_depth())\n",
    "\n",
    "print('\\nGini:')\n",
    "print('Depth of the tree: ',decision_tree_classifier_gini.get_depth())"
   ]
  },
  {
   "cell_type": "code",
   "execution_count": 37,
   "metadata": {
    "pycharm": {
     "name": "#%%\n"
    }
   },
   "outputs": [
    {
     "name": "stdout",
     "output_type": "stream",
     "text": [
      "Entropy:\n",
      "number of leaves of the tree:  69\n",
      "\n",
      "Gini:\n",
      "number of leaves of the tree:  73\n"
     ]
    }
   ],
   "source": [
    "# returning the number of leaves of the tree\n",
    "print('Entropy:')\n",
    "print('number of leaves of the tree: ',decision_tree_classifier_entropy.get_n_leaves())\n",
    "\n",
    "print('\\nGini:')\n",
    "print('number of leaves of the tree: ',decision_tree_classifier_gini.get_n_leaves())"
   ]
  },
  {
   "cell_type": "code",
   "execution_count": 38,
   "metadata": {
    "pycharm": {
     "name": "#%%\n"
    }
   },
   "outputs": [
    {
     "name": "stdout",
     "output_type": "stream",
     "text": [
      "Entropy:\n",
      "{'ccp_alpha': 0.0, 'class_weight': None, 'criterion': 'entropy', 'max_depth': None, 'max_features': None, 'max_leaf_nodes': None, 'min_impurity_decrease': 0.0, 'min_samples_leaf': 1, 'min_samples_split': 2, 'min_weight_fraction_leaf': 0.0, 'random_state': 0, 'splitter': 'best'}\n",
      "\n",
      "Gini:\n",
      "{'ccp_alpha': 0.0, 'class_weight': None, 'criterion': 'gini', 'max_depth': None, 'max_features': None, 'max_leaf_nodes': None, 'min_impurity_decrease': 0.0, 'min_samples_leaf': 1, 'min_samples_split': 2, 'min_weight_fraction_leaf': 0.0, 'random_state': 0, 'splitter': 'best'}\n"
     ]
    }
   ],
   "source": [
    "# returning the parameters for our case\n",
    "print(\"Entropy:\")\n",
    "print(decision_tree_classifier_entropy.get_params())\n",
    "\n",
    "print(\"\\nGini:\")\n",
    "print(decision_tree_classifier_gini.get_params())"
   ]
  },
  {
   "cell_type": "code",
   "execution_count": 39,
   "metadata": {
    "pycharm": {
     "name": "#%%\n"
    }
   },
   "outputs": [
    {
     "name": "stdout",
     "output_type": "stream",
     "text": [
      "class log-probabilities: \n",
      "Entropy:\n",
      "[[  0. -inf]\n",
      " [  0. -inf]\n",
      " [  0. -inf]\n",
      " [-inf   0.]\n",
      " [-inf   0.]\n",
      " [-inf   0.]\n",
      " [  0. -inf]\n",
      " [-inf   0.]\n",
      " [-inf   0.]\n",
      " [  0. -inf]\n",
      " [  0. -inf]\n",
      " [  0. -inf]\n",
      " [-inf   0.]\n",
      " [  0. -inf]\n",
      " [-inf   0.]\n",
      " [  0. -inf]\n",
      " [  0. -inf]\n",
      " [  0. -inf]\n",
      " [-inf   0.]\n",
      " [-inf   0.]\n",
      " [  0. -inf]\n",
      " [  0. -inf]\n",
      " [  0. -inf]\n",
      " [  0. -inf]\n",
      " [  0. -inf]\n",
      " [  0. -inf]\n",
      " [-inf   0.]\n",
      " [-inf   0.]\n",
      " [-inf   0.]\n",
      " [-inf   0.]\n",
      " [-inf   0.]\n",
      " [  0. -inf]\n",
      " [-inf   0.]\n",
      " [-inf   0.]\n",
      " [-inf   0.]\n",
      " [  0. -inf]\n",
      " [-inf   0.]\n",
      " [-inf   0.]\n",
      " [-inf   0.]\n",
      " [  0. -inf]\n",
      " [-inf   0.]\n",
      " [  0. -inf]\n",
      " [  0. -inf]\n",
      " [-inf   0.]\n",
      " [  0. -inf]\n",
      " [-inf   0.]\n",
      " [-inf   0.]\n",
      " [-inf   0.]\n",
      " [  0. -inf]\n",
      " [  0. -inf]\n",
      " [  0. -inf]\n",
      " [-inf   0.]\n",
      " [  0. -inf]\n",
      " [-inf   0.]\n",
      " [-inf   0.]\n",
      " [-inf   0.]\n",
      " [-inf   0.]\n",
      " [-inf   0.]\n",
      " [  0. -inf]\n",
      " [  0. -inf]\n",
      " [  0. -inf]\n",
      " [-inf   0.]\n",
      " [-inf   0.]\n",
      " [-inf   0.]\n",
      " [  0. -inf]\n",
      " [-inf   0.]\n",
      " [-inf   0.]\n",
      " [-inf   0.]\n",
      " [  0. -inf]\n",
      " [-inf   0.]\n",
      " [  0. -inf]\n",
      " [  0. -inf]\n",
      " [  0. -inf]\n",
      " [  0. -inf]\n",
      " [-inf   0.]\n",
      " [-inf   0.]\n",
      " [-inf   0.]\n",
      " [  0. -inf]\n",
      " [-inf   0.]\n",
      " [  0. -inf]\n",
      " [  0. -inf]\n",
      " [  0. -inf]\n",
      " [-inf   0.]\n",
      " [  0. -inf]\n",
      " [-inf   0.]\n",
      " [-inf   0.]]\n",
      "\n",
      "Gini:\n",
      "[[  0. -inf]\n",
      " [  0. -inf]\n",
      " [  0. -inf]\n",
      " [-inf   0.]\n",
      " [-inf   0.]\n",
      " [  0. -inf]\n",
      " [  0. -inf]\n",
      " [-inf   0.]\n",
      " [-inf   0.]\n",
      " [  0. -inf]\n",
      " [  0. -inf]\n",
      " [-inf   0.]\n",
      " [-inf   0.]\n",
      " [  0. -inf]\n",
      " [-inf   0.]\n",
      " [  0. -inf]\n",
      " [  0. -inf]\n",
      " [  0. -inf]\n",
      " [-inf   0.]\n",
      " [-inf   0.]\n",
      " [  0. -inf]\n",
      " [  0. -inf]\n",
      " [  0. -inf]\n",
      " [  0. -inf]\n",
      " [  0. -inf]\n",
      " [  0. -inf]\n",
      " [-inf   0.]\n",
      " [-inf   0.]\n",
      " [-inf   0.]\n",
      " [-inf   0.]\n",
      " [-inf   0.]\n",
      " [-inf   0.]\n",
      " [-inf   0.]\n",
      " [-inf   0.]\n",
      " [-inf   0.]\n",
      " [  0. -inf]\n",
      " [-inf   0.]\n",
      " [-inf   0.]\n",
      " [-inf   0.]\n",
      " [  0. -inf]\n",
      " [-inf   0.]\n",
      " [  0. -inf]\n",
      " [  0. -inf]\n",
      " [-inf   0.]\n",
      " [  0. -inf]\n",
      " [-inf   0.]\n",
      " [-inf   0.]\n",
      " [-inf   0.]\n",
      " [  0. -inf]\n",
      " [-inf   0.]\n",
      " [  0. -inf]\n",
      " [-inf   0.]\n",
      " [  0. -inf]\n",
      " [-inf   0.]\n",
      " [-inf   0.]\n",
      " [-inf   0.]\n",
      " [-inf   0.]\n",
      " [-inf   0.]\n",
      " [  0. -inf]\n",
      " [  0. -inf]\n",
      " [  0. -inf]\n",
      " [-inf   0.]\n",
      " [-inf   0.]\n",
      " [  0. -inf]\n",
      " [  0. -inf]\n",
      " [-inf   0.]\n",
      " [  0. -inf]\n",
      " [-inf   0.]\n",
      " [  0. -inf]\n",
      " [-inf   0.]\n",
      " [-inf   0.]\n",
      " [  0. -inf]\n",
      " [  0. -inf]\n",
      " [  0. -inf]\n",
      " [-inf   0.]\n",
      " [-inf   0.]\n",
      " [-inf   0.]\n",
      " [  0. -inf]\n",
      " [-inf   0.]\n",
      " [  0. -inf]\n",
      " [  0. -inf]\n",
      " [  0. -inf]\n",
      " [-inf   0.]\n",
      " [  0. -inf]\n",
      " [-inf   0.]\n",
      " [-inf   0.]]\n"
     ]
    },
    {
     "name": "stderr",
     "output_type": "stream",
     "text": [
      "C:\\Users\\devsh\\AppData\\Local\\Programs\\Python\\Python37\\lib\\site-packages\\sklearn\\tree\\_classes.py:1014: RuntimeWarning: divide by zero encountered in log\n",
      "  return np.log(proba)\n",
      "C:\\Users\\devsh\\AppData\\Local\\Programs\\Python\\Python37\\lib\\site-packages\\sklearn\\tree\\_classes.py:1014: RuntimeWarning: divide by zero encountered in log\n",
      "  return np.log(proba)\n"
     ]
    }
   ],
   "source": [
    "# Predicting class log-probabilities\n",
    "print('class log-probabilities: ')\n",
    "\n",
    "print('Entropy:')\n",
    "print(decision_tree_classifier_entropy.predict_log_proba(X_test))\n",
    "\n",
    "print('\\nGini:')\n",
    "print(decision_tree_classifier_gini.predict_log_proba(X_test))"
   ]
  },
  {
   "cell_type": "code",
   "execution_count": 40,
   "metadata": {
    "pycharm": {
     "name": "#%%\n"
    }
   },
   "outputs": [
    {
     "name": "stdout",
     "output_type": "stream",
     "text": [
      "class probabilities: \n"
     ]
    },
    {
     "data": {
      "text/plain": "array([[1., 0.],\n       [1., 0.],\n       [1., 0.],\n       [0., 1.],\n       [0., 1.],\n       [0., 1.],\n       [1., 0.],\n       [0., 1.],\n       [0., 1.],\n       [1., 0.],\n       [1., 0.],\n       [1., 0.],\n       [0., 1.],\n       [1., 0.],\n       [0., 1.],\n       [1., 0.],\n       [1., 0.],\n       [1., 0.],\n       [0., 1.],\n       [0., 1.],\n       [1., 0.],\n       [1., 0.],\n       [1., 0.],\n       [1., 0.],\n       [1., 0.],\n       [1., 0.],\n       [0., 1.],\n       [0., 1.],\n       [0., 1.],\n       [0., 1.],\n       [0., 1.],\n       [1., 0.],\n       [0., 1.],\n       [0., 1.],\n       [0., 1.],\n       [1., 0.],\n       [0., 1.],\n       [0., 1.],\n       [0., 1.],\n       [1., 0.],\n       [0., 1.],\n       [1., 0.],\n       [1., 0.],\n       [0., 1.],\n       [1., 0.],\n       [0., 1.],\n       [0., 1.],\n       [0., 1.],\n       [1., 0.],\n       [1., 0.],\n       [1., 0.],\n       [0., 1.],\n       [1., 0.],\n       [0., 1.],\n       [0., 1.],\n       [0., 1.],\n       [0., 1.],\n       [0., 1.],\n       [1., 0.],\n       [1., 0.],\n       [1., 0.],\n       [0., 1.],\n       [0., 1.],\n       [0., 1.],\n       [1., 0.],\n       [0., 1.],\n       [0., 1.],\n       [0., 1.],\n       [1., 0.],\n       [0., 1.],\n       [1., 0.],\n       [1., 0.],\n       [1., 0.],\n       [1., 0.],\n       [0., 1.],\n       [0., 1.],\n       [0., 1.],\n       [1., 0.],\n       [0., 1.],\n       [1., 0.],\n       [1., 0.],\n       [1., 0.],\n       [0., 1.],\n       [1., 0.],\n       [0., 1.],\n       [0., 1.]])"
     },
     "execution_count": 40,
     "metadata": {},
     "output_type": "execute_result"
    }
   ],
   "source": [
    "# Predicting class probabilities\n",
    "print('class probabilities: ')\n",
    "decision_tree_classifier_entropy.predict_proba(X_test)"
   ]
  },
  {
   "cell_type": "code",
   "execution_count": 41,
   "metadata": {
    "pycharm": {
     "name": "#%%\n"
    }
   },
   "outputs": [
    {
     "name": "stdout",
     "output_type": "stream",
     "text": [
      "Entropy: Computing the pruning path during Minimal Cost-Complexity Pruning:\n",
      "{'ccp_alphas': array([0.        , 0.02325581, 0.03203358, 0.03584184, 0.03765053,\n",
      "       0.03773387, 0.06474182, 0.10551238, 0.11247915, 0.1795256 ,\n",
      "       0.24088088]), 'impurities': array([0.        , 0.02325581, 0.05528939, 0.12697308, 0.23992467,\n",
      "       0.27765854, 0.34240036, 0.44791274, 0.56039188, 0.73991748,\n",
      "       0.98079836])}\n",
      "\n",
      "Gini: Computing the pruning path during Minimal Cost-Complexity Pruning:\n",
      "{'ccp_alphas': array([0.        , 0.01094391, 0.0166113 , 0.01665288, 0.01744186,\n",
      "       0.03139535, 0.03322259, 0.04875919, 0.07834302, 0.15586566]), 'impurities': array([0.        , 0.02188782, 0.05511042, 0.12172192, 0.13916378,\n",
      "       0.17055913, 0.20378172, 0.25254091, 0.33088394, 0.48674959])}\n"
     ]
    }
   ],
   "source": [
    "# Computing the pruning path during Minimal Cost-Complexity Pruning\n",
    "print('Entropy: Computing the pruning path during Minimal Cost-Complexity Pruning:')\n",
    "print(decision_tree_classifier_entropy.cost_complexity_pruning_path(X_test,y_test))\n",
    "\n",
    "# Computing the pruning path during Minimal Cost-Complexity Pruning\n",
    "print('\\nGini: Computing the pruning path during Minimal Cost-Complexity Pruning:')\n",
    "print(decision_tree_classifier_gini.cost_complexity_pruning_path(X_test,y_test))"
   ]
  },
  {
   "cell_type": "code",
   "execution_count": 41,
   "metadata": {
    "pycharm": {
     "name": "#%%\n"
    }
   },
   "outputs": [],
   "source": []
  },
  {
   "cell_type": "code",
   "execution_count": 42,
   "metadata": {
    "pycharm": {
     "name": "#%%\n"
    }
   },
   "outputs": [
    {
     "name": "stderr",
     "output_type": "stream",
     "text": [
      "C:\\Users\\devsh\\AppData\\Local\\Programs\\Python\\Python37\\lib\\site-packages\\ipykernel_launcher.py:3: DataConversionWarning: A column-vector y was passed when a 1d array was expected. Please change the shape of y to (n_samples,), for example using ravel().\n",
      "  This is separate from the ipykernel package so we can avoid doing imports until\n"
     ]
    },
    {
     "name": "stdout",
     "output_type": "stream",
     "text": [
      "Random Forest Classifier:  0.7925407925407926\n"
     ]
    }
   ],
   "source": [
    "# applying Random Forest Classifier\n",
    "random_forest_classifier = RandomForestClassifier(max_depth=2, random_state=0)\n",
    "random_forest_classifier = random_forest_classifier.fit(X_train,y_train)\n",
    "\n",
    "print(\"Random Forest Classifier: \", random_forest_classifier.score(X, y))"
   ]
  },
  {
   "cell_type": "code",
   "execution_count": 43,
   "metadata": {
    "pycharm": {
     "name": "#%%\n"
    }
   },
   "outputs": [],
   "source": [
    "predictions_random_forest = random_forest_classifier.predict(X_test)"
   ]
  },
  {
   "cell_type": "code",
   "execution_count": 44,
   "metadata": {
    "pycharm": {
     "name": "#%%\n"
    }
   },
   "outputs": [
    {
     "name": "stdout",
     "output_type": "stream",
     "text": [
      "Random Forest:\n",
      "Mean Absolute Error: 0.16279069767441862\n",
      "Mean Squared Error: 0.16279069767441862\n",
      "Root Mean Squared Error: 0.4034732923929645\n"
     ]
    }
   ],
   "source": [
    "# calculating the statistical metrics for random forest classifier\n",
    "print(\"Random Forest:\")\n",
    "print('Mean Absolute Error:', metrics.mean_absolute_error(y_test, predictions_random_forest))\n",
    "print('Mean Squared Error:', metrics.mean_squared_error(y_test, predictions_random_forest))\n",
    "print('Root Mean Squared Error:', np.sqrt(metrics.mean_squared_error(y_test, predictions_random_forest)))\n"
   ]
  },
  {
   "cell_type": "code",
   "execution_count": 45,
   "metadata": {
    "pycharm": {
     "name": "#%%\n"
    }
   },
   "outputs": [
    {
     "name": "stdout",
     "output_type": "stream",
     "text": [
      "Confusion Matrix Random Forest: \n",
      " [[24 12]\n",
      " [ 2 48]]\n"
     ]
    }
   ],
   "source": [
    "#Confusion matrix:\n",
    "print(\"Confusion Matrix Random Forest: \\n\", confusion_matrix(y_test, predictions_random_forest))\n"
   ]
  },
  {
   "cell_type": "code",
   "execution_count": 46,
   "metadata": {
    "pycharm": {
     "name": "#%%\n"
    }
   },
   "outputs": [
    {
     "name": "stdout",
     "output_type": "stream",
     "text": [
      "Entropy: LinregressResult(slope=0.6266666666666667, intercept=0.3333333333333333, rvalue=0.6731479815970672, pvalue=1.2464939766709512e-12, stderr=0.07511543145271837, intercept_stderr=0.057274979532281584)\n"
     ]
    }
   ],
   "source": [
    "print('Entropy:', linregress(y_test.to_numpy().ravel(), np.array(predictions_random_forest)))"
   ]
  },
  {
   "cell_type": "code",
   "execution_count": 47,
   "metadata": {
    "pycharm": {
     "name": "#%%\n"
    }
   },
   "outputs": [
    {
     "name": "stdout",
     "output_type": "stream",
     "text": [
      "the decision path in a tree\n",
      "Random Forest Classifier:\n",
      "(<86x694 sparse matrix of type '<class 'numpy.int64'>'\n",
      "\twith 25777 stored elements in Compressed Sparse Row format>, array([  0,   7,  14,  21,  28,  35,  42,  49,  56,  63,  70,  77,  84,\n",
      "        89,  96, 103, 110, 117, 124, 131, 136, 143, 150, 157, 164, 171,\n",
      "       178, 185, 192, 199, 206, 213, 220, 227, 234, 241, 248, 255, 262,\n",
      "       269, 276, 283, 290, 297, 304, 311, 318, 325, 332, 339, 346, 353,\n",
      "       360, 367, 374, 381, 388, 395, 402, 407, 414, 421, 428, 435, 442,\n",
      "       449, 456, 463, 470, 477, 484, 491, 498, 505, 512, 519, 526, 533,\n",
      "       540, 547, 554, 561, 568, 575, 582, 589, 596, 603, 610, 617, 624,\n",
      "       631, 638, 645, 652, 659, 666, 673, 680, 687, 694], dtype=int32))\n"
     ]
    }
   ],
   "source": [
    "# returning the decision path in a forest\n",
    "print('the decision path in a tree')\n",
    "\n",
    "print('Random Forest Classifier:')\n",
    "print(random_forest_classifier.decision_path(X_test))"
   ]
  },
  {
   "cell_type": "code",
   "execution_count": 48,
   "metadata": {
    "pycharm": {
     "name": "#%%\n"
    }
   },
   "outputs": [
    {
     "name": "stdout",
     "output_type": "stream",
     "text": [
      "Random_forest_classifier:\n",
      "{'bootstrap': True, 'ccp_alpha': 0.0, 'class_weight': None, 'criterion': 'gini', 'max_depth': 2, 'max_features': 'auto', 'max_leaf_nodes': None, 'max_samples': None, 'min_impurity_decrease': 0.0, 'min_samples_leaf': 1, 'min_samples_split': 2, 'min_weight_fraction_leaf': 0.0, 'n_estimators': 100, 'n_jobs': None, 'oob_score': False, 'random_state': 0, 'verbose': 0, 'warm_start': False}\n"
     ]
    }
   ],
   "source": [
    "# returning the parameters for our case\n",
    "print(\"Random_forest_classifier:\")\n",
    "print(random_forest_classifier.get_params())"
   ]
  },
  {
   "cell_type": "code",
   "execution_count": 49,
   "metadata": {
    "pycharm": {
     "name": "#%%\n"
    }
   },
   "outputs": [
    {
     "name": "stdout",
     "output_type": "stream",
     "text": [
      "Random Forest Log Prob:\n",
      "[[-0.29742015 -1.35763649]\n",
      " [-0.48562725 -0.95532038]\n",
      " [-0.50057795 -0.93186188]\n",
      " [-1.05072386 -0.4302977 ]\n",
      " [-0.83054928 -0.57236392]\n",
      " [-0.97174893 -0.47549167]\n",
      " [-0.99081433 -0.46406009]\n",
      " [-1.56173388 -0.23543381]\n",
      " [-1.03639408 -0.43808879]\n",
      " [-0.53183975 -0.88557503]\n",
      " [-0.27408022 -1.4282465 ]\n",
      " [-1.09407891 -0.40773953]\n",
      " [-1.09629933 -0.4066236 ]\n",
      " [-0.50198122 -0.92970575]\n",
      " [-0.92611306 -0.5043306 ]\n",
      " [-0.42313585 -1.06418086]\n",
      " [-0.48400474 -0.95792107]\n",
      " [-0.59874466 -0.79739946]\n",
      " [-0.77723248 -0.61558709]\n",
      " [-1.10316178 -0.4031981 ]\n",
      " [-1.01195928 -0.4517804 ]\n",
      " [-0.50224637 -0.92929922]\n",
      " [-0.63218562 -0.7580677 ]\n",
      " [-0.88981026 -0.52887704]\n",
      " [-0.3279789  -1.27431736]\n",
      " [-0.43786211 -1.03680655]\n",
      " [-1.04941017 -0.43100481]\n",
      " [-0.69512064 -0.6911776 ]\n",
      " [-0.56336268 -0.84232375]\n",
      " [-0.93816953 -0.49650125]\n",
      " [-0.77847062 -0.61453496]\n",
      " [-0.86036434 -0.54992677]\n",
      " [-0.96883465 -0.47727006]\n",
      " [-0.87885765 -0.53658286]\n",
      " [-1.09238893 -0.40859137]\n",
      " [-1.11528967 -0.39722957]\n",
      " [-1.30196268 -0.3174507 ]\n",
      " [-0.8488203  -0.55847547]\n",
      " [-1.55950153 -0.23602725]\n",
      " [-1.16443837 -0.37410874]\n",
      " [-0.91220063 -0.51356168]\n",
      " [-0.84734079 -0.55958359]\n",
      " [-0.87785774 -0.53729356]\n",
      " [-1.35266365 -0.29914843]\n",
      " [-0.65267915 -0.7353222 ]\n",
      " [-1.12843929 -0.39087873]\n",
      " [-0.87665562 -0.53814959]\n",
      " [-0.99675769 -0.46056694]\n",
      " [-0.73981899 -0.64855685]\n",
      " [-1.04095154 -0.43559218]\n",
      " [-0.95614905 -0.48510952]\n",
      " [-0.73364805 -0.65422298]\n",
      " [-0.77512019 -0.61738762]\n",
      " [-1.11540178 -0.3971749 ]\n",
      " [-0.8118189  -0.58707629]\n",
      " [-1.10991567 -0.39986097]\n",
      " [-0.970779   -0.47608263]\n",
      " [-1.16774003 -0.37261438]\n",
      " [-0.63210138 -0.75816325]\n",
      " [-0.73699433 -0.65114212]\n",
      " [-0.68326218 -0.70313087]\n",
      " [-1.04084041 -0.43565285]\n",
      " [-0.78493444 -0.60908108]\n",
      " [-0.79425845 -0.60132714]\n",
      " [-0.38300925 -1.14509588]\n",
      " [-0.94444999 -0.49248388]\n",
      " [-0.39737866 -1.11498403]\n",
      " [-0.93617357 -0.49778668]\n",
      " [-0.98890825 -0.46518738]\n",
      " [-1.01760877 -0.4485682 ]\n",
      " [-0.96884597 -0.47726314]\n",
      " [-0.76224316 -0.62851845]\n",
      " [-0.57213283 -0.83084852]\n",
      " [-0.38259792 -1.14597783]\n",
      " [-0.67973852 -0.70673808]\n",
      " [-1.03832677 -0.4370279 ]\n",
      " [-0.85969815 -0.55041545]\n",
      " [-0.65747416 -0.73013999]\n",
      " [-1.02135832 -0.44645191]\n",
      " [-0.4165086  -1.07688458]\n",
      " [-0.44572032 -1.02265965]\n",
      " [-0.3073237  -1.32958332]\n",
      " [-0.93183134 -0.50059779]\n",
      " [-0.93537412 -0.49830273]\n",
      " [-1.10043459 -0.4045552 ]\n",
      " [-1.06862752 -0.42080153]]\n"
     ]
    }
   ],
   "source": [
    "print('Random Forest Log Prob:')\n",
    "print(random_forest_classifier.predict_log_proba(X_test))"
   ]
  },
  {
   "cell_type": "code",
   "execution_count": 50,
   "metadata": {
    "pycharm": {
     "name": "#%%\n"
    }
   },
   "outputs": [
    {
     "name": "stdout",
     "output_type": "stream",
     "text": [
      "class probabilities RFC: \n"
     ]
    },
    {
     "data": {
      "text/plain": "array([[0.74273189, 0.25726811],\n       [0.61531112, 0.38468888],\n       [0.60618022, 0.39381978],\n       [0.34968453, 0.65031547],\n       [0.43580984, 0.56419016],\n       [0.37842063, 0.62157937],\n       [0.37127423, 0.62872577],\n       [0.20977204, 0.79022796],\n       [0.35473151, 0.64526849],\n       [0.58752308, 0.41247692],\n       [0.76027108, 0.23972892],\n       [0.33484789, 0.66515211],\n       [0.33410521, 0.66589479],\n       [0.60533018, 0.39466982],\n       [0.3960903 , 0.6039097 ],\n       [0.65498965, 0.34501035],\n       [0.61631028, 0.38368972],\n       [0.54950102, 0.45049898],\n       [0.45967642, 0.54032358],\n       [0.33182028, 0.66817972],\n       [0.36350607, 0.63649393],\n       [0.6051697 , 0.3948303 ],\n       [0.53142903, 0.46857097],\n       [0.41073368, 0.58926632],\n       [0.72037822, 0.27962178],\n       [0.64541477, 0.35458523],\n       [0.35014422, 0.64985578],\n       [0.49901424, 0.50098576],\n       [0.5692915 , 0.4307085 ],\n       [0.39134352, 0.60865648],\n       [0.45910762, 0.54089238],\n       [0.42300794, 0.57699206],\n       [0.37952506, 0.62047494],\n       [0.41525701, 0.58474299],\n       [0.33541425, 0.66458575],\n       [0.32782031, 0.67217969],\n       [0.27199743, 0.72800257],\n       [0.42791945, 0.57208055],\n       [0.21024084, 0.78975916],\n       [0.3120979 , 0.6879021 ],\n       [0.40163939, 0.59836061],\n       [0.42855303, 0.57144697],\n       [0.41567244, 0.58432756],\n       [0.25855065, 0.74144935],\n       [0.52064901, 0.47935099],\n       [0.32353781, 0.67646219],\n       [0.41617243, 0.58382757],\n       [0.36907416, 0.63092584],\n       [0.47720029, 0.52279971],\n       [0.35311852, 0.64688148],\n       [0.38437023, 0.61562977],\n       [0.48015417, 0.51984583],\n       [0.46064841, 0.53935159],\n       [0.32778356, 0.67221644],\n       [0.44404965, 0.55595035],\n       [0.32958676, 0.67041324],\n       [0.37878785, 0.62121215],\n       [0.31106916, 0.68893084],\n       [0.5314738 , 0.4685262 ],\n       [0.47855012, 0.52144988],\n       [0.50496701, 0.49503299],\n       [0.35315776, 0.64684224],\n       [0.45614961, 0.54385039],\n       [0.45191623, 0.54808377],\n       [0.68180659, 0.31819341],\n       [0.38889341, 0.61110659],\n       [0.67207949, 0.32792051],\n       [0.39212541, 0.60787459],\n       [0.37198258, 0.62801742],\n       [0.36145824, 0.63854176],\n       [0.37952076, 0.62047924],\n       [0.46661855, 0.53338145],\n       [0.56432055, 0.43567945],\n       [0.6820871 , 0.3179129 ],\n       [0.50674948, 0.49325052],\n       [0.35404659, 0.64595341],\n       [0.42328983, 0.57671017],\n       [0.51815847, 0.48184153],\n       [0.36010547, 0.63989453],\n       [0.65934484, 0.34065516],\n       [0.64036284, 0.35963716],\n       [0.73541251, 0.26458749],\n       [0.39383181, 0.60616819],\n       [0.39243902, 0.60756098],\n       [0.33272645, 0.66727355],\n       [0.34347961, 0.65652039]])"
     },
     "execution_count": 50,
     "metadata": {},
     "output_type": "execute_result"
    }
   ],
   "source": [
    "# Predicting class probabilities\n",
    "print('class probabilities RFC: ')\n",
    "random_forest_classifier.predict_proba(X_test)"
   ]
  },
  {
   "cell_type": "code",
   "execution_count": 51,
   "metadata": {
    "pycharm": {
     "name": "#%%\n"
    }
   },
   "outputs": [],
   "source": []
  },
  {
   "cell_type": "code",
   "execution_count": 51,
   "metadata": {
    "pycharm": {
     "name": "#%%\n"
    }
   },
   "outputs": [],
   "source": []
  },
  {
   "cell_type": "code",
   "execution_count": 51,
   "metadata": {
    "pycharm": {
     "name": "#%%\n"
    }
   },
   "outputs": [],
   "source": []
  }
 ],
 "metadata": {
  "kernelspec": {
   "display_name": "Python 3 (ipykernel)",
   "language": "python",
   "name": "python3"
  },
  "language_info": {
   "codemirror_mode": {
    "name": "ipython",
    "version": 3
   },
   "file_extension": ".py",
   "mimetype": "text/x-python",
   "name": "python",
   "nbconvert_exporter": "python",
   "pygments_lexer": "ipython3",
   "version": "3.7.8rc1"
  }
 },
 "nbformat": 4,
 "nbformat_minor": 1
}