{
 "cells": [
  {
   "cell_type": "code",
   "execution_count": null,
   "outputs": [],
   "source": [
    "# Run SVM algorithm on the loan dataset"
   ],
   "metadata": {
    "collapsed": false,
    "pycharm": {
     "name": "#%%\n",
     "is_executing": true
    }
   }
  },
  {
   "cell_type": "code",
   "execution_count": 2,
   "outputs": [],
   "source": [
    "# all necessary imports\n",
    "\n",
    "import pandas as pd\n",
    "import numpy as np\n",
    "import seaborn as sns\n",
    "from sklearn import svm\n",
    "from sklearn.preprocessing import LabelEncoder\n",
    "from sklearn.preprocessing import OneHotEncoder\n",
    "from sklearn.model_selection import train_test_split\n",
    "import matplotlib.pyplot as plt\n",
    "\n",
    "\n",
    "sns.set(style=\"white\")\n",
    "sns.set(style=\"whitegrid\", color_codes=True)"
   ],
   "metadata": {
    "collapsed": false,
    "pycharm": {
     "name": "#%%\n"
    }
   }
  },
  {
   "cell_type": "code",
   "execution_count": 3,
   "outputs": [
    {
     "data": {
      "text/plain": "  Sex        Age  Time_at_address Res_status  Telephone Occupation Job_status  \\\n0   M  50.750000            0.585      owner      given  unemploye  unemploye   \n1   M  19.670000           10.000       rent  not_given   labourer  governmen   \n2   F  52.830002           15.000      owner      given  creative_  private_s   \n3   M  22.670000            2.540       rent  not_given  creative_  governmen   \n4   M  29.250000           13.000      owner      given     driver  governmen   \n\n   Time_employed  Time_bank Liab_ref Acc_ref  Home_Expn  Balance Decision  \n0              0          0        f   given        145        0   reject  \n1              0          0        t   given        140        0   reject  \n2              5         14        f   given          0     2200   accept  \n3              2          0        f   given          0        0   accept  \n4              0          0        f   given        228        0   reject  ",
      "text/html": "<div>\n<style scoped>\n    .dataframe tbody tr th:only-of-type {\n        vertical-align: middle;\n    }\n\n    .dataframe tbody tr th {\n        vertical-align: top;\n    }\n\n    .dataframe thead th {\n        text-align: right;\n    }\n</style>\n<table border=\"1\" class=\"dataframe\">\n  <thead>\n    <tr style=\"text-align: right;\">\n      <th></th>\n      <th>Sex</th>\n      <th>Age</th>\n      <th>Time_at_address</th>\n      <th>Res_status</th>\n      <th>Telephone</th>\n      <th>Occupation</th>\n      <th>Job_status</th>\n      <th>Time_employed</th>\n      <th>Time_bank</th>\n      <th>Liab_ref</th>\n      <th>Acc_ref</th>\n      <th>Home_Expn</th>\n      <th>Balance</th>\n      <th>Decision</th>\n    </tr>\n  </thead>\n  <tbody>\n    <tr>\n      <th>0</th>\n      <td>M</td>\n      <td>50.750000</td>\n      <td>0.585</td>\n      <td>owner</td>\n      <td>given</td>\n      <td>unemploye</td>\n      <td>unemploye</td>\n      <td>0</td>\n      <td>0</td>\n      <td>f</td>\n      <td>given</td>\n      <td>145</td>\n      <td>0</td>\n      <td>reject</td>\n    </tr>\n    <tr>\n      <th>1</th>\n      <td>M</td>\n      <td>19.670000</td>\n      <td>10.000</td>\n      <td>rent</td>\n      <td>not_given</td>\n      <td>labourer</td>\n      <td>governmen</td>\n      <td>0</td>\n      <td>0</td>\n      <td>t</td>\n      <td>given</td>\n      <td>140</td>\n      <td>0</td>\n      <td>reject</td>\n    </tr>\n    <tr>\n      <th>2</th>\n      <td>F</td>\n      <td>52.830002</td>\n      <td>15.000</td>\n      <td>owner</td>\n      <td>given</td>\n      <td>creative_</td>\n      <td>private_s</td>\n      <td>5</td>\n      <td>14</td>\n      <td>f</td>\n      <td>given</td>\n      <td>0</td>\n      <td>2200</td>\n      <td>accept</td>\n    </tr>\n    <tr>\n      <th>3</th>\n      <td>M</td>\n      <td>22.670000</td>\n      <td>2.540</td>\n      <td>rent</td>\n      <td>not_given</td>\n      <td>creative_</td>\n      <td>governmen</td>\n      <td>2</td>\n      <td>0</td>\n      <td>f</td>\n      <td>given</td>\n      <td>0</td>\n      <td>0</td>\n      <td>accept</td>\n    </tr>\n    <tr>\n      <th>4</th>\n      <td>M</td>\n      <td>29.250000</td>\n      <td>13.000</td>\n      <td>owner</td>\n      <td>given</td>\n      <td>driver</td>\n      <td>governmen</td>\n      <td>0</td>\n      <td>0</td>\n      <td>f</td>\n      <td>given</td>\n      <td>228</td>\n      <td>0</td>\n      <td>reject</td>\n    </tr>\n  </tbody>\n</table>\n</div>"
     },
     "execution_count": 3,
     "metadata": {},
     "output_type": "execute_result"
    }
   ],
   "source": [
    "dataset = pd.read_excel('loan.xlsx')\n",
    "new_dataset = dataset\n",
    "dataset.head()"
   ],
   "metadata": {
    "collapsed": false,
    "pycharm": {
     "name": "#%%\n"
    }
   }
  },
  {
   "cell_type": "code",
   "execution_count": 4,
   "outputs": [
    {
     "data": {
      "text/plain": "              Age  Time_at_address  Time_employed   Time_bank   Home_Expn  \\\ncount  429.000000       429.000000     429.000000  429.000000  429.000000   \nmean    31.510163         4.650758       1.871795    2.279720  176.727273   \nstd     11.843595         4.804037       3.254023    3.966105  142.590659   \nmin     15.170000         0.000000       0.000000    0.000000    0.000000   \n25%     22.670000         1.000000       0.000000    0.000000   80.000000   \n50%     28.500000         2.750000       1.000000    0.000000  160.000000   \n75%     38.250000         7.000000       2.000000    3.000000  272.000000   \nmax     76.750000        25.209999      20.000000   23.000000  760.000000   \n\n            Balance  \ncount    429.000000  \nmean     898.382284  \nstd     3814.565340  \nmin        0.000000  \n25%        0.000000  \n50%       10.000000  \n75%      484.000000  \nmax    51100.000000  ",
      "text/html": "<div>\n<style scoped>\n    .dataframe tbody tr th:only-of-type {\n        vertical-align: middle;\n    }\n\n    .dataframe tbody tr th {\n        vertical-align: top;\n    }\n\n    .dataframe thead th {\n        text-align: right;\n    }\n</style>\n<table border=\"1\" class=\"dataframe\">\n  <thead>\n    <tr style=\"text-align: right;\">\n      <th></th>\n      <th>Age</th>\n      <th>Time_at_address</th>\n      <th>Time_employed</th>\n      <th>Time_bank</th>\n      <th>Home_Expn</th>\n      <th>Balance</th>\n    </tr>\n  </thead>\n  <tbody>\n    <tr>\n      <th>count</th>\n      <td>429.000000</td>\n      <td>429.000000</td>\n      <td>429.000000</td>\n      <td>429.000000</td>\n      <td>429.000000</td>\n      <td>429.000000</td>\n    </tr>\n    <tr>\n      <th>mean</th>\n      <td>31.510163</td>\n      <td>4.650758</td>\n      <td>1.871795</td>\n      <td>2.279720</td>\n      <td>176.727273</td>\n      <td>898.382284</td>\n    </tr>\n    <tr>\n      <th>std</th>\n      <td>11.843595</td>\n      <td>4.804037</td>\n      <td>3.254023</td>\n      <td>3.966105</td>\n      <td>142.590659</td>\n      <td>3814.565340</td>\n    </tr>\n    <tr>\n      <th>min</th>\n      <td>15.170000</td>\n      <td>0.000000</td>\n      <td>0.000000</td>\n      <td>0.000000</td>\n      <td>0.000000</td>\n      <td>0.000000</td>\n    </tr>\n    <tr>\n      <th>25%</th>\n      <td>22.670000</td>\n      <td>1.000000</td>\n      <td>0.000000</td>\n      <td>0.000000</td>\n      <td>80.000000</td>\n      <td>0.000000</td>\n    </tr>\n    <tr>\n      <th>50%</th>\n      <td>28.500000</td>\n      <td>2.750000</td>\n      <td>1.000000</td>\n      <td>0.000000</td>\n      <td>160.000000</td>\n      <td>10.000000</td>\n    </tr>\n    <tr>\n      <th>75%</th>\n      <td>38.250000</td>\n      <td>7.000000</td>\n      <td>2.000000</td>\n      <td>3.000000</td>\n      <td>272.000000</td>\n      <td>484.000000</td>\n    </tr>\n    <tr>\n      <th>max</th>\n      <td>76.750000</td>\n      <td>25.209999</td>\n      <td>20.000000</td>\n      <td>23.000000</td>\n      <td>760.000000</td>\n      <td>51100.000000</td>\n    </tr>\n  </tbody>\n</table>\n</div>"
     },
     "execution_count": 4,
     "metadata": {},
     "output_type": "execute_result"
    }
   ],
   "source": [
    "# data preprocessing for loan.xlsx file was done\n",
    "# in the previous assignment. The reference for preprocessing\n",
    "# has been taken from the previous assignment\n",
    "\n",
    "# dataset summary\n",
    "dataset.describe()"
   ],
   "metadata": {
    "collapsed": false,
    "pycharm": {
     "name": "#%%\n"
    }
   }
  },
  {
   "cell_type": "code",
   "execution_count": 5,
   "outputs": [
    {
     "data": {
      "text/plain": "Sex                0\nAge                0\nTime_at_address    0\nRes_status         0\nTelephone          0\nOccupation         0\nJob_status         0\nTime_employed      0\nTime_bank          0\nLiab_ref           0\nAcc_ref            0\nHome_Expn          0\nBalance            0\nDecision           0\ndtype: int64"
     },
     "execution_count": 5,
     "metadata": {},
     "output_type": "execute_result"
    }
   ],
   "source": [
    "# finding out null data => missing data\n",
    "dataset.isnull().sum()\n",
    "\n",
    "# inference => no missing data"
   ],
   "metadata": {
    "collapsed": false,
    "pycharm": {
     "name": "#%%\n"
    }
   }
  },
  {
   "cell_type": "code",
   "execution_count": 6,
   "outputs": [
    {
     "data": {
      "text/plain": "(429, 14)"
     },
     "execution_count": 6,
     "metadata": {},
     "output_type": "execute_result"
    }
   ],
   "source": [
    "dataset.shape\n",
    "\n",
    "# before calculating correlation, we shall one. hot encode Sex, Res_Status, Telephone, Occupation, Job Status, Acc_ref, Decision"
   ],
   "metadata": {
    "collapsed": false,
    "pycharm": {
     "name": "#%%\n"
    }
   }
  },
  {
   "cell_type": "code",
   "execution_count": 7,
   "outputs": [],
   "source": [
    "# one hot encoding\n",
    "onehot_encoder = OneHotEncoder(handle_unknown='ignore')\n",
    "\n",
    "# label encoder\n",
    "label_encoder = LabelEncoder()"
   ],
   "metadata": {
    "collapsed": false,
    "pycharm": {
     "name": "#%%\n"
    }
   }
  },
  {
   "cell_type": "code",
   "execution_count": 8,
   "outputs": [
    {
     "name": "stdout",
     "output_type": "stream",
     "text": [
      "Sex:  2\n"
     ]
    }
   ],
   "source": [
    "# sex\n",
    "print('Sex: ', dataset['Sex'].nunique())\n",
    "\n",
    "new_dataset['Sex'] = label_encoder.fit_transform(dataset['Sex'])"
   ],
   "metadata": {
    "collapsed": false,
    "pycharm": {
     "name": "#%%\n"
    }
   }
  },
  {
   "cell_type": "code",
   "execution_count": 9,
   "outputs": [
    {
     "name": "stdout",
     "output_type": "stream",
     "text": [
      "Res_status:  2\n"
     ]
    }
   ],
   "source": [
    "# Res_Status\n",
    "print('Res_status: ', dataset['Res_status'].nunique())\n",
    "\n",
    "dataset['Res_status'] = label_encoder.fit_transform(dataset['Res_status'])"
   ],
   "metadata": {
    "collapsed": false,
    "pycharm": {
     "name": "#%%\n"
    }
   }
  },
  {
   "cell_type": "code",
   "execution_count": 10,
   "outputs": [
    {
     "name": "stdout",
     "output_type": "stream",
     "text": [
      "Telephone:  2\n"
     ]
    }
   ],
   "source": [
    "# Telephone\n",
    "print('Telephone: ', dataset['Telephone'].nunique())\n",
    "\n",
    "dataset['Telephone'] = label_encoder.fit_transform(dataset['Telephone'])"
   ],
   "metadata": {
    "collapsed": false,
    "pycharm": {
     "name": "#%%\n"
    }
   }
  },
  {
   "cell_type": "code",
   "execution_count": 11,
   "outputs": [
    {
     "name": "stdout",
     "output_type": "stream",
     "text": [
      "Acc_ref:  2\n"
     ]
    }
   ],
   "source": [
    "# Acc_ref\n",
    "print('Acc_ref: ', dataset['Acc_ref'].nunique())\n",
    "\n",
    "dataset['Acc_ref'] = label_encoder.fit_transform(dataset['Acc_ref'])"
   ],
   "metadata": {
    "collapsed": false,
    "pycharm": {
     "name": "#%%\n"
    }
   }
  },
  {
   "cell_type": "code",
   "execution_count": 12,
   "outputs": [
    {
     "name": "stdout",
     "output_type": "stream",
     "text": [
      "Liab_ref:  2\n"
     ]
    }
   ],
   "source": [
    "# Liab_ref\n",
    "print('Liab_ref: ', dataset['Liab_ref'].nunique())\n",
    "\n",
    "dataset['Liab_ref'] = label_encoder.fit_transform(dataset['Liab_ref'])"
   ],
   "metadata": {
    "collapsed": false,
    "pycharm": {
     "name": "#%%\n"
    }
   }
  },
  {
   "cell_type": "code",
   "execution_count": 13,
   "outputs": [
    {
     "name": "stdout",
     "output_type": "stream",
     "text": [
      "object\n",
      "Decision:  2\n"
     ]
    }
   ],
   "source": [
    "# Decision\n",
    "print(dataset['Decision'].dtype)\n",
    "print('Decision: ', dataset['Decision'].nunique())\n",
    "\n",
    "dataset['Decision'] = label_encoder.fit_transform(dataset['Decision'])"
   ],
   "metadata": {
    "collapsed": false,
    "pycharm": {
     "name": "#%%\n"
    }
   }
  },
  {
   "cell_type": "code",
   "execution_count": 14,
   "outputs": [
    {
     "name": "stdout",
     "output_type": "stream",
     "text": [
      "Job_status:  ['unemploye' 'governmen' 'private_s' 'self_empl' 'retired' 'student'\n",
      " 'military']\n"
     ]
    }
   ],
   "source": [
    "# Job_status\n",
    "\n",
    "print('Job_status: ', dataset['Job_status'].unique())"
   ],
   "metadata": {
    "collapsed": false,
    "pycharm": {
     "name": "#%%\n"
    }
   }
  },
  {
   "cell_type": "code",
   "execution_count": 15,
   "outputs": [
    {
     "name": "stdout",
     "output_type": "stream",
     "text": [
      "Occupation:  ['unemploye' 'labourer' 'creative_' 'driver' 'professio' 'manager'\n",
      " 'guard_etc' 'executive' 'office_st' 'productio' 'semi_pro' 'sales']\n"
     ]
    }
   ],
   "source": [
    "# Occupation\n",
    "print('Occupation: ', dataset['Occupation'].unique())\n",
    "\n",
    "# dataset['Occupation'] = label_encoder.fit_transform(dataset['Res_Status'])"
   ],
   "metadata": {
    "collapsed": false,
    "pycharm": {
     "name": "#%%\n"
    }
   }
  },
  {
   "cell_type": "code",
   "execution_count": null,
   "outputs": [],
   "source": [
    "features_array = onehot_encoder.fit_transform(dataset[['Job_status', 'Occupation']]).toarray()"
   ],
   "metadata": {
    "collapsed": false,
    "pycharm": {
     "name": "#%%\n",
     "is_executing": true
    }
   }
  },
  {
   "cell_type": "code",
   "execution_count": null,
   "outputs": [],
   "source": [
    "feature_labels = ['governmen', 'military', 'private_s', 'retired', 'self_empl',\n",
    "        'student', 'unemploye', 'creative_', 'driver', 'executive', 'guard_etc', 'labourer',\n",
    "        'manager', 'office_st', 'productio', 'professio', 'sales',\n",
    "        'semi_pro', 'unemploye']\n",
    "feature_labels"
   ],
   "metadata": {
    "collapsed": false,
    "pycharm": {
     "name": "#%%\n",
     "is_executing": true
    }
   }
  },
  {
   "cell_type": "code",
   "execution_count": null,
   "outputs": [],
   "source": [
    "features = pd.DataFrame(features_array, columns = feature_labels)"
   ],
   "metadata": {
    "collapsed": false,
    "pycharm": {
     "name": "#%%\n",
     "is_executing": true
    }
   }
  },
  {
   "cell_type": "code",
   "execution_count": null,
   "outputs": [],
   "source": [
    "dataset = pd.concat([dataset, features], axis=1)"
   ],
   "metadata": {
    "collapsed": false,
    "pycharm": {
     "name": "#%%\n",
     "is_executing": true
    }
   }
  },
  {
   "cell_type": "code",
   "execution_count": null,
   "outputs": [],
   "source": [
    "dataset.drop(['Occupation','Job_status'], axis=1, inplace=True)"
   ],
   "metadata": {
    "collapsed": false,
    "pycharm": {
     "name": "#%%\n",
     "is_executing": true
    }
   }
  },
  {
   "cell_type": "code",
   "execution_count": null,
   "outputs": [],
   "source": [
    "dataset.columns"
   ],
   "metadata": {
    "collapsed": false,
    "pycharm": {
     "name": "#%%\n",
     "is_executing": true
    }
   }
  },
  {
   "cell_type": "code",
   "execution_count": null,
   "outputs": [],
   "source": [
    "# data prepared for correlation\n",
    "\n",
    "corr = dataset.corr()\n",
    "corr"
   ],
   "metadata": {
    "collapsed": false,
    "pycharm": {
     "name": "#%%\n",
     "is_executing": true
    }
   }
  },
  {
   "cell_type": "code",
   "execution_count": null,
   "outputs": [],
   "source": [
    "# dropping columns based on correlations\n",
    "\n",
    "# also dropping Time_at_address as it plays trivial role in decision making\n",
    "\n",
    "dataset.drop(['Telephone', 'Time_at_address'], axis=1, inplace=True)"
   ],
   "metadata": {
    "collapsed": false,
    "pycharm": {
     "name": "#%%\n",
     "is_executing": true
    }
   }
  },
  {
   "cell_type": "code",
   "execution_count": null,
   "outputs": [],
   "source": [
    "dataset.columns\n",
    "\n",
    "# inference => we have 33 variables"
   ],
   "metadata": {
    "collapsed": false,
    "pycharm": {
     "name": "#%%\n",
     "is_executing": true
    }
   }
  },
  {
   "cell_type": "code",
   "execution_count": null,
   "outputs": [],
   "source": [],
   "metadata": {
    "collapsed": false,
    "pycharm": {
     "name": "#%%\n",
     "is_executing": true
    }
   }
  },
  {
   "cell_type": "code",
   "execution_count": null,
   "outputs": [],
   "source": [
    "dataset.head()"
   ],
   "metadata": {
    "collapsed": false,
    "pycharm": {
     "name": "#%%\n",
     "is_executing": true
    }
   }
  },
  {
   "cell_type": "code",
   "execution_count": null,
   "outputs": [],
   "source": [],
   "metadata": {
    "collapsed": false,
    "pycharm": {
     "name": "#%%\n",
     "is_executing": true
    }
   }
  },
  {
   "cell_type": "code",
   "execution_count": null,
   "outputs": [],
   "source": [
    "X = dataset[['Sex', 'Age', 'Res_status', 'Time_employed', 'Time_bank', 'Liab_ref',\n",
    "       'Acc_ref', 'Home_Expn', 'Balance', 'governmen', 'military',\n",
    "       'private_s', 'retired', 'self_empl', 'student', 'unemploye',\n",
    "       'creative_', 'driver', 'executive', 'guard_etc', 'labourer', 'manager',\n",
    "       'office_st', 'productio', 'professio', 'sales', 'semi_pro',\n",
    "       'unemploye']].iloc[:, :].values\n",
    "\n",
    "y = dataset[['Decision']].iloc[:].values"
   ],
   "metadata": {
    "collapsed": false,
    "pycharm": {
     "name": "#%%\n",
     "is_executing": true
    }
   }
  },
  {
   "cell_type": "code",
   "execution_count": null,
   "outputs": [],
   "source": [],
   "metadata": {
    "collapsed": false,
    "pycharm": {
     "name": "#%%\n",
     "is_executing": true
    }
   }
  },
  {
   "cell_type": "code",
   "execution_count": null,
   "outputs": [],
   "source": [
    "# 2 popular kernels are Linear and RBF\n",
    "\n",
    "X_train, X_test, y_train, y_test = train_test_split(X, y, test_size=0.20)\n",
    "\n",
    "C = 1.0  # SVM regularization parameter\n",
    "svc_classifier = svm.SVC(kernel='linear', C=C)\n",
    "svc = svc_classifier.fit(X_train, y_train)\n",
    "\n",
    "rbf_svc_classifier = svm.SVC(kernel='rbf', gamma=0.7, C=C)\n",
    "rbf_svc = rbf_svc_classifier.fit(X_train, y_train)\n",
    "\n",
    "poly_svc_classifier = svm.SVC(kernel='poly', degree=3, C=C).fit(X_train, y_train)\n",
    "poly_svc = poly_svc_classifier.fit(X_train, y_train)\n",
    "\n",
    "lin_svc_classifier = svm.LinearSVC(C=C)\n",
    "lin_svc = lin_svc_classifier.fit(X_train, y_train)"
   ],
   "metadata": {
    "collapsed": false,
    "pycharm": {
     "name": "#%%\n",
     "is_executing": true
    }
   }
  },
  {
   "cell_type": "code",
   "execution_count": null,
   "outputs": [],
   "source": [
    "y_pred_svc = svc.predict(X_test)\n",
    "print(\"SVC Prediction: \", y_pred_svc)\n",
    "\n",
    "from sklearn.metrics import confusion_matrix\n",
    "cm_svc = confusion_matrix(y_test, y_pred_svc)\n",
    "print(\"\\nSVC Confusion Matrix: \\n\", cm_svc)\n"
   ],
   "metadata": {
    "collapsed": false,
    "pycharm": {
     "name": "#%%\n",
     "is_executing": true
    }
   }
  },
  {
   "cell_type": "code",
   "execution_count": null,
   "outputs": [],
   "source": [
    "y_pred_rbf_svc = rbf_svc.predict(X_test)\n",
    "print(\"RBF_SVC Prediction: \", y_pred_rbf_svc)\n",
    "\n",
    "from sklearn.metrics import confusion_matrix\n",
    "cm_rbf_svc = confusion_matrix(y_test, y_pred_rbf_svc)\n",
    "print(\"\\nRBF_SVC Confusion Matrix: \\n\", cm_rbf_svc)"
   ],
   "metadata": {
    "collapsed": false,
    "pycharm": {
     "name": "#%%\n",
     "is_executing": true
    }
   }
  },
  {
   "cell_type": "code",
   "execution_count": null,
   "outputs": [],
   "source": [
    "y_pred_poly_svc = poly_svc.predict(X_test)\n",
    "print(\"poly_svc Prediction: \", y_pred_poly_svc)\n",
    "\n",
    "from sklearn.metrics import confusion_matrix\n",
    "cm_poly_svc = confusion_matrix(y_test, y_pred_poly_svc)\n",
    "print(\"\\npoly_svc Confusion Matrix: \\n\", cm_poly_svc)"
   ],
   "metadata": {
    "collapsed": false,
    "pycharm": {
     "name": "#%%\n",
     "is_executing": true
    }
   }
  },
  {
   "cell_type": "code",
   "execution_count": null,
   "outputs": [],
   "source": [
    "y_pred_lin_svc = lin_svc.predict(X_test)\n",
    "print(\"lin_svc Prediction: \", y_pred_lin_svc)\n",
    "\n",
    "from sklearn.metrics import confusion_matrix\n",
    "cm_lin_svc = confusion_matrix(y_test, y_pred_lin_svc)\n",
    "print(\"\\nlin_svc Confusion Matrix: \\n\", cm_lin_svc)"
   ],
   "metadata": {
    "collapsed": false,
    "pycharm": {
     "name": "#%%\n",
     "is_executing": true
    }
   }
  },
  {
   "cell_type": "code",
   "execution_count": null,
   "outputs": [],
   "source": [
    "# After being fitted, the model can then be used to predict new values\n",
    "\n",
    "# SVMs decision function depends on some\n",
    "# subset of the training data, called the\n",
    "# support vectors.\n",
    "\n",
    "# get support vectors\n",
    "print(\"svc: \",svc.support_vectors_)\n",
    "print(\"rbf_svc: \",rbf_svc.support_vectors_)\n",
    "print(\"poly_svc: \",poly_svc.support_vectors_)"
   ],
   "metadata": {
    "collapsed": false,
    "pycharm": {
     "name": "#%%\n",
     "is_executing": true
    }
   }
  },
  {
   "cell_type": "code",
   "execution_count": null,
   "outputs": [],
   "source": [
    "# get indices of support vectors\n",
    "print(\"svc: \",svc.support_)\n",
    "print(\"rbf_svc: \",rbf_svc.support_)\n",
    "print(\"poly_svc: \",poly_svc.support_)"
   ],
   "metadata": {
    "collapsed": false,
    "pycharm": {
     "name": "#%%\n",
     "is_executing": true
    }
   }
  },
  {
   "cell_type": "code",
   "execution_count": null,
   "outputs": [],
   "source": [
    "# get number of support vectors for each class\n",
    "\n",
    "print(\"svc: \",svc.n_support_)\n",
    "print(\"rbf_svc: \",rbf_svc.n_support_)\n",
    "print(\"poly_svc: \",poly_svc.n_support_)"
   ],
   "metadata": {
    "collapsed": false,
    "pycharm": {
     "name": "#%%\n",
     "is_executing": true
    }
   }
  },
  {
   "cell_type": "code",
   "execution_count": null,
   "outputs": [],
   "source": [
    "# the complexity of Linear Classifier < RBF Classifier\n",
    "# because RBF uses an exponential classification system\n",
    "\n",
    "# Linear SVC doesn't operate on the concept of n Support vectors\n",
    "# thus we cannot compute the above 3 properties"
   ],
   "metadata": {
    "collapsed": false,
    "pycharm": {
     "name": "#%%\n",
     "is_executing": true
    }
   }
  },
  {
   "cell_type": "code",
   "execution_count": null,
   "outputs": [],
   "source": [],
   "metadata": {
    "collapsed": false,
    "pycharm": {
     "name": "#%%\n",
     "is_executing": true
    }
   }
  },
  {
   "cell_type": "code",
   "execution_count": null,
   "outputs": [],
   "source": [
    "from matplotlib.colors import ListedColormap\n",
    "X_Set, Y_Set = X_train, y_train\n",
    "X1, X2 = np.meshgrid(np.arange(start = X_Set[:, :].min() - 1, stop = X_Set[:, :].max() + 1, step = 0.01),\n",
    "                     np.arange(start = X_Set[:, :].min() - 1, stop = X_Set[:, :].max() + 1, step = 0.01))\n",
    "plt.contourf(X1, X2, svc.predict(np.array([X1.ravel(), X2.ravel()]).T).reshape(X1.shape),\n",
    "             alpha = 0.75, cmap = ListedColormap(('red', 'green')))\n",
    "plt.xlim(X1.min(), X1.max())\n",
    "plt.ylim(X2.min(), X2.max())\n",
    "for i, j in enumerate(np.unique(Y_Set)):\n",
    "    plt.scatter(X_Set[Y_Set == j, 0], X_Set[Y_Set == j, 1],\n",
    "                c = ListedColormap(('red', 'green'))(i), label = j)"
   ],
   "metadata": {
    "collapsed": false,
    "pycharm": {
     "name": "#%%\n",
     "is_executing": true
    }
   }
  },
  {
   "cell_type": "code",
   "execution_count": null,
   "outputs": [],
   "source": [],
   "metadata": {
    "collapsed": false,
    "pycharm": {
     "name": "#%%\n",
     "is_executing": true
    }
   }
  },
  {
   "cell_type": "code",
   "execution_count": null,
   "outputs": [],
   "source": [],
   "metadata": {
    "collapsed": false,
    "pycharm": {
     "name": "#%%\n",
     "is_executing": true
    }
   }
  }
 ],
 "metadata": {
  "kernelspec": {
   "display_name": "Python 3",
   "language": "python",
   "name": "python3"
  },
  "language_info": {
   "codemirror_mode": {
    "name": "ipython",
    "version": 2
   },
   "file_extension": ".py",
   "mimetype": "text/x-python",
   "name": "python",
   "nbconvert_exporter": "python",
   "pygments_lexer": "ipython2",
   "version": "2.7.6"
  }
 },
 "nbformat": 4,
 "nbformat_minor": 0
}