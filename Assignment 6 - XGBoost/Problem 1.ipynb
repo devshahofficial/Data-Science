{
 "cells": [
  {
   "cell_type": "code",
   "execution_count": 5,
   "outputs": [],
   "source": [
    "# Apply XGBoost classification algorithm on the\n",
    "# loan data set and compare its performance\n",
    "# against SVM and Logistic Regression by suitably\n",
    "# splitting the data into train and test sets."
   ],
   "metadata": {
    "collapsed": false,
    "pycharm": {
     "name": "#%%\n"
    }
   }
  },
  {
   "cell_type": "code",
   "execution_count": 58,
   "outputs": [],
   "source": [
    "\n",
    "# all necessary imports\n",
    "\n",
    "import pandas as pd\n",
    "import numpy as np\n",
    "import seaborn as sns\n",
    "from sklearn import metrics\n",
    "from sklearn.metrics import r2_score\n",
    "from sklearn.metrics import confusion_matrix\n",
    "from sklearn.preprocessing import LabelEncoder\n",
    "from sklearn.preprocessing import OneHotEncoder\n",
    "from sklearn.model_selection import train_test_split\n",
    "from sklearn.linear_model import LogisticRegression\n",
    "\n",
    "from xgboost import XGBClassifier\n",
    "from sklearn.model_selection import train_test_split\n",
    "from sklearn.metrics import accuracy_score\n",
    "\n",
    "\n",
    "sns.set(style=\"white\")\n",
    "sns.set(style=\"whitegrid\", color_codes=True)"
   ],
   "metadata": {
    "collapsed": false,
    "pycharm": {
     "name": "#%%\n"
    }
   }
  },
  {
   "cell_type": "code",
   "execution_count": 7,
   "outputs": [
    {
     "data": {
      "text/plain": "  Sex        Age  Time_at_address Res_status  Telephone Occupation Job_status  \\\n0   M  50.750000            0.585      owner      given  unemploye  unemploye   \n1   M  19.670000           10.000       rent  not_given   labourer  governmen   \n2   F  52.830002           15.000      owner      given  creative_  private_s   \n3   M  22.670000            2.540       rent  not_given  creative_  governmen   \n4   M  29.250000           13.000      owner      given     driver  governmen   \n\n   Time_employed  Time_bank Liab_ref Acc_ref  Home_Expn  Balance Decision  \n0              0          0        f   given        145        0   reject  \n1              0          0        t   given        140        0   reject  \n2              5         14        f   given          0     2200   accept  \n3              2          0        f   given          0        0   accept  \n4              0          0        f   given        228        0   reject  ",
      "text/html": "<div>\n<style scoped>\n    .dataframe tbody tr th:only-of-type {\n        vertical-align: middle;\n    }\n\n    .dataframe tbody tr th {\n        vertical-align: top;\n    }\n\n    .dataframe thead th {\n        text-align: right;\n    }\n</style>\n<table border=\"1\" class=\"dataframe\">\n  <thead>\n    <tr style=\"text-align: right;\">\n      <th></th>\n      <th>Sex</th>\n      <th>Age</th>\n      <th>Time_at_address</th>\n      <th>Res_status</th>\n      <th>Telephone</th>\n      <th>Occupation</th>\n      <th>Job_status</th>\n      <th>Time_employed</th>\n      <th>Time_bank</th>\n      <th>Liab_ref</th>\n      <th>Acc_ref</th>\n      <th>Home_Expn</th>\n      <th>Balance</th>\n      <th>Decision</th>\n    </tr>\n  </thead>\n  <tbody>\n    <tr>\n      <th>0</th>\n      <td>M</td>\n      <td>50.750000</td>\n      <td>0.585</td>\n      <td>owner</td>\n      <td>given</td>\n      <td>unemploye</td>\n      <td>unemploye</td>\n      <td>0</td>\n      <td>0</td>\n      <td>f</td>\n      <td>given</td>\n      <td>145</td>\n      <td>0</td>\n      <td>reject</td>\n    </tr>\n    <tr>\n      <th>1</th>\n      <td>M</td>\n      <td>19.670000</td>\n      <td>10.000</td>\n      <td>rent</td>\n      <td>not_given</td>\n      <td>labourer</td>\n      <td>governmen</td>\n      <td>0</td>\n      <td>0</td>\n      <td>t</td>\n      <td>given</td>\n      <td>140</td>\n      <td>0</td>\n      <td>reject</td>\n    </tr>\n    <tr>\n      <th>2</th>\n      <td>F</td>\n      <td>52.830002</td>\n      <td>15.000</td>\n      <td>owner</td>\n      <td>given</td>\n      <td>creative_</td>\n      <td>private_s</td>\n      <td>5</td>\n      <td>14</td>\n      <td>f</td>\n      <td>given</td>\n      <td>0</td>\n      <td>2200</td>\n      <td>accept</td>\n    </tr>\n    <tr>\n      <th>3</th>\n      <td>M</td>\n      <td>22.670000</td>\n      <td>2.540</td>\n      <td>rent</td>\n      <td>not_given</td>\n      <td>creative_</td>\n      <td>governmen</td>\n      <td>2</td>\n      <td>0</td>\n      <td>f</td>\n      <td>given</td>\n      <td>0</td>\n      <td>0</td>\n      <td>accept</td>\n    </tr>\n    <tr>\n      <th>4</th>\n      <td>M</td>\n      <td>29.250000</td>\n      <td>13.000</td>\n      <td>owner</td>\n      <td>given</td>\n      <td>driver</td>\n      <td>governmen</td>\n      <td>0</td>\n      <td>0</td>\n      <td>f</td>\n      <td>given</td>\n      <td>228</td>\n      <td>0</td>\n      <td>reject</td>\n    </tr>\n  </tbody>\n</table>\n</div>"
     },
     "execution_count": 7,
     "metadata": {},
     "output_type": "execute_result"
    }
   ],
   "source": [
    "dataset = pd.read_excel('loan.xlsx')\n",
    "new_dataset = dataset\n",
    "dataset.head()"
   ],
   "metadata": {
    "collapsed": false,
    "pycharm": {
     "name": "#%%\n"
    }
   }
  },
  {
   "cell_type": "code",
   "execution_count": 8,
   "outputs": [
    {
     "data": {
      "text/plain": "              Age  Time_at_address  Time_employed   Time_bank   Home_Expn  \\\ncount  429.000000       429.000000     429.000000  429.000000  429.000000   \nmean    31.510163         4.650758       1.871795    2.279720  176.727273   \nstd     11.843595         4.804037       3.254023    3.966105  142.590659   \nmin     15.170000         0.000000       0.000000    0.000000    0.000000   \n25%     22.670000         1.000000       0.000000    0.000000   80.000000   \n50%     28.500000         2.750000       1.000000    0.000000  160.000000   \n75%     38.250000         7.000000       2.000000    3.000000  272.000000   \nmax     76.750000        25.209999      20.000000   23.000000  760.000000   \n\n            Balance  \ncount    429.000000  \nmean     898.382284  \nstd     3814.565340  \nmin        0.000000  \n25%        0.000000  \n50%       10.000000  \n75%      484.000000  \nmax    51100.000000  ",
      "text/html": "<div>\n<style scoped>\n    .dataframe tbody tr th:only-of-type {\n        vertical-align: middle;\n    }\n\n    .dataframe tbody tr th {\n        vertical-align: top;\n    }\n\n    .dataframe thead th {\n        text-align: right;\n    }\n</style>\n<table border=\"1\" class=\"dataframe\">\n  <thead>\n    <tr style=\"text-align: right;\">\n      <th></th>\n      <th>Age</th>\n      <th>Time_at_address</th>\n      <th>Time_employed</th>\n      <th>Time_bank</th>\n      <th>Home_Expn</th>\n      <th>Balance</th>\n    </tr>\n  </thead>\n  <tbody>\n    <tr>\n      <th>count</th>\n      <td>429.000000</td>\n      <td>429.000000</td>\n      <td>429.000000</td>\n      <td>429.000000</td>\n      <td>429.000000</td>\n      <td>429.000000</td>\n    </tr>\n    <tr>\n      <th>mean</th>\n      <td>31.510163</td>\n      <td>4.650758</td>\n      <td>1.871795</td>\n      <td>2.279720</td>\n      <td>176.727273</td>\n      <td>898.382284</td>\n    </tr>\n    <tr>\n      <th>std</th>\n      <td>11.843595</td>\n      <td>4.804037</td>\n      <td>3.254023</td>\n      <td>3.966105</td>\n      <td>142.590659</td>\n      <td>3814.565340</td>\n    </tr>\n    <tr>\n      <th>min</th>\n      <td>15.170000</td>\n      <td>0.000000</td>\n      <td>0.000000</td>\n      <td>0.000000</td>\n      <td>0.000000</td>\n      <td>0.000000</td>\n    </tr>\n    <tr>\n      <th>25%</th>\n      <td>22.670000</td>\n      <td>1.000000</td>\n      <td>0.000000</td>\n      <td>0.000000</td>\n      <td>80.000000</td>\n      <td>0.000000</td>\n    </tr>\n    <tr>\n      <th>50%</th>\n      <td>28.500000</td>\n      <td>2.750000</td>\n      <td>1.000000</td>\n      <td>0.000000</td>\n      <td>160.000000</td>\n      <td>10.000000</td>\n    </tr>\n    <tr>\n      <th>75%</th>\n      <td>38.250000</td>\n      <td>7.000000</td>\n      <td>2.000000</td>\n      <td>3.000000</td>\n      <td>272.000000</td>\n      <td>484.000000</td>\n    </tr>\n    <tr>\n      <th>max</th>\n      <td>76.750000</td>\n      <td>25.209999</td>\n      <td>20.000000</td>\n      <td>23.000000</td>\n      <td>760.000000</td>\n      <td>51100.000000</td>\n    </tr>\n  </tbody>\n</table>\n</div>"
     },
     "execution_count": 8,
     "metadata": {},
     "output_type": "execute_result"
    }
   ],
   "source": [
    "# dataset summary\n",
    "dataset.describe()"
   ],
   "metadata": {
    "collapsed": false,
    "pycharm": {
     "name": "#%%\n"
    }
   }
  },
  {
   "cell_type": "code",
   "execution_count": 9,
   "outputs": [
    {
     "data": {
      "text/plain": "Sex                0\nAge                0\nTime_at_address    0\nRes_status         0\nTelephone          0\nOccupation         0\nJob_status         0\nTime_employed      0\nTime_bank          0\nLiab_ref           0\nAcc_ref            0\nHome_Expn          0\nBalance            0\nDecision           0\ndtype: int64"
     },
     "execution_count": 9,
     "metadata": {},
     "output_type": "execute_result"
    }
   ],
   "source": [
    "# finding out null data => missing data\n",
    "dataset.isnull().sum()\n",
    "\n",
    "# inference => no missing data"
   ],
   "metadata": {
    "collapsed": false,
    "pycharm": {
     "name": "#%%\n"
    }
   }
  },
  {
   "cell_type": "code",
   "execution_count": 10,
   "outputs": [
    {
     "data": {
      "text/plain": "(429, 14)"
     },
     "execution_count": 10,
     "metadata": {},
     "output_type": "execute_result"
    }
   ],
   "source": [
    "dataset.shape\n",
    "\n",
    "# before calculating correlation, we shall one hot encode Sex, Res_Status, Telephone, Occupation, Job Status, Acc_ref, Decision"
   ],
   "metadata": {
    "collapsed": false,
    "pycharm": {
     "name": "#%%\n"
    }
   }
  },
  {
   "cell_type": "code",
   "execution_count": 11,
   "outputs": [],
   "source": [
    "# one hot encoding\n",
    "onehot_encoder = OneHotEncoder(handle_unknown='ignore')\n",
    "\n",
    "# label encoder\n",
    "label_encoder = LabelEncoder()"
   ],
   "metadata": {
    "collapsed": false,
    "pycharm": {
     "name": "#%%\n"
    }
   }
  },
  {
   "cell_type": "code",
   "execution_count": 12,
   "outputs": [
    {
     "name": "stdout",
     "output_type": "stream",
     "text": [
      "Sex:  2\n"
     ]
    }
   ],
   "source": [
    "# sex\n",
    "print('Sex: ', dataset['Sex'].nunique())\n",
    "\n",
    "new_dataset['Sex'] = label_encoder.fit_transform(dataset['Sex'])"
   ],
   "metadata": {
    "collapsed": false,
    "pycharm": {
     "name": "#%%\n"
    }
   }
  },
  {
   "cell_type": "code",
   "execution_count": 13,
   "outputs": [
    {
     "name": "stdout",
     "output_type": "stream",
     "text": [
      "Res_status:  2\n"
     ]
    }
   ],
   "source": [
    "# Res_Status\n",
    "print('Res_status: ', dataset['Res_status'].nunique())\n",
    "\n",
    "dataset['Res_status'] = label_encoder.fit_transform(dataset['Res_status'])"
   ],
   "metadata": {
    "collapsed": false,
    "pycharm": {
     "name": "#%%\n"
    }
   }
  },
  {
   "cell_type": "code",
   "execution_count": 14,
   "outputs": [
    {
     "name": "stdout",
     "output_type": "stream",
     "text": [
      "Telephone:  2\n"
     ]
    }
   ],
   "source": [
    "# Telephone\n",
    "print('Telephone: ', dataset['Telephone'].nunique())\n",
    "\n",
    "dataset['Telephone'] = label_encoder.fit_transform(dataset['Telephone'])"
   ],
   "metadata": {
    "collapsed": false,
    "pycharm": {
     "name": "#%%\n"
    }
   }
  },
  {
   "cell_type": "code",
   "execution_count": 15,
   "outputs": [
    {
     "name": "stdout",
     "output_type": "stream",
     "text": [
      "Acc_ref:  2\n"
     ]
    }
   ],
   "source": [
    "# Acc_ref\n",
    "print('Acc_ref: ', dataset['Acc_ref'].nunique())\n",
    "\n",
    "dataset['Acc_ref'] = label_encoder.fit_transform(dataset['Acc_ref'])"
   ],
   "metadata": {
    "collapsed": false,
    "pycharm": {
     "name": "#%%\n"
    }
   }
  },
  {
   "cell_type": "code",
   "execution_count": 16,
   "outputs": [
    {
     "name": "stdout",
     "output_type": "stream",
     "text": [
      "Liab_ref:  2\n"
     ]
    }
   ],
   "source": [
    "# Liab_ref\n",
    "print('Liab_ref: ', dataset['Liab_ref'].nunique())\n",
    "\n",
    "dataset['Liab_ref'] = label_encoder.fit_transform(dataset['Liab_ref'])"
   ],
   "metadata": {
    "collapsed": false,
    "pycharm": {
     "name": "#%%\n"
    }
   }
  },
  {
   "cell_type": "code",
   "execution_count": 17,
   "outputs": [
    {
     "name": "stdout",
     "output_type": "stream",
     "text": [
      "object\n",
      "Decision:  2\n"
     ]
    }
   ],
   "source": [
    "# Decision\n",
    "print(dataset['Decision'].dtype)\n",
    "print('Decision: ', dataset['Decision'].nunique())\n",
    "\n",
    "dataset['Decision'] = label_encoder.fit_transform(dataset['Decision'])"
   ],
   "metadata": {
    "collapsed": false,
    "pycharm": {
     "name": "#%%\n"
    }
   }
  },
  {
   "cell_type": "code",
   "execution_count": 18,
   "outputs": [
    {
     "name": "stdout",
     "output_type": "stream",
     "text": [
      "Job_status:  ['unemploye' 'governmen' 'private_s' 'self_empl' 'retired' 'student'\n",
      " 'military']\n"
     ]
    }
   ],
   "source": [
    "# Job_status\n",
    "\n",
    "print('Job_status: ', dataset['Job_status'].unique())"
   ],
   "metadata": {
    "collapsed": false,
    "pycharm": {
     "name": "#%%\n"
    }
   }
  },
  {
   "cell_type": "code",
   "execution_count": 19,
   "outputs": [
    {
     "name": "stdout",
     "output_type": "stream",
     "text": [
      "Occupation:  ['unemploye' 'labourer' 'creative_' 'driver' 'professio' 'manager'\n",
      " 'guard_etc' 'executive' 'office_st' 'productio' 'semi_pro' 'sales']\n"
     ]
    }
   ],
   "source": [
    "# Occupation\n",
    "print('Occupation: ', dataset['Occupation'].unique())\n",
    "\n",
    "# dataset['Occupation'] = label_encoder.fit_transform(dataset['Res_Status'])"
   ],
   "metadata": {
    "collapsed": false,
    "pycharm": {
     "name": "#%%\n"
    }
   }
  },
  {
   "cell_type": "code",
   "execution_count": 20,
   "outputs": [],
   "source": [
    "features_array = onehot_encoder.fit_transform(dataset[['Job_status', 'Occupation']]).toarray()"
   ],
   "metadata": {
    "collapsed": false,
    "pycharm": {
     "name": "#%%\n"
    }
   }
  },
  {
   "cell_type": "code",
   "execution_count": 21,
   "outputs": [
    {
     "data": {
      "text/plain": "['governmen',\n 'military',\n 'private_s',\n 'retired',\n 'self_empl',\n 'student',\n 'unemploye',\n 'creative_',\n 'driver',\n 'executive',\n 'guard_etc',\n 'labourer',\n 'manager',\n 'office_st',\n 'productio',\n 'professio',\n 'sales',\n 'semi_pro',\n 'unemploye']"
     },
     "execution_count": 21,
     "metadata": {},
     "output_type": "execute_result"
    }
   ],
   "source": [
    "feature_labels = ['governmen', 'military', 'private_s', 'retired', 'self_empl',\n",
    "        'student', 'unemploye', 'creative_', 'driver', 'executive', 'guard_etc', 'labourer',\n",
    "        'manager', 'office_st', 'productio', 'professio', 'sales',\n",
    "        'semi_pro', 'unemploye']\n",
    "feature_labels"
   ],
   "metadata": {
    "collapsed": false,
    "pycharm": {
     "name": "#%%\n"
    }
   }
  },
  {
   "cell_type": "code",
   "execution_count": 22,
   "outputs": [],
   "source": [
    "features = pd.DataFrame(features_array, columns = feature_labels)"
   ],
   "metadata": {
    "collapsed": false,
    "pycharm": {
     "name": "#%%\n"
    }
   }
  },
  {
   "cell_type": "code",
   "execution_count": 23,
   "outputs": [],
   "source": [
    "dataset = pd.concat([dataset, features], axis=1)"
   ],
   "metadata": {
    "collapsed": false,
    "pycharm": {
     "name": "#%%\n"
    }
   }
  },
  {
   "cell_type": "code",
   "execution_count": 24,
   "outputs": [],
   "source": [
    "dataset.drop(['Occupation','Job_status'], axis=1, inplace=True)"
   ],
   "metadata": {
    "collapsed": false,
    "pycharm": {
     "name": "#%%\n"
    }
   }
  },
  {
   "cell_type": "code",
   "execution_count": 25,
   "outputs": [
    {
     "data": {
      "text/plain": "Index(['Sex', 'Age', 'Time_at_address', 'Res_status', 'Telephone',\n       'Time_employed', 'Time_bank', 'Liab_ref', 'Acc_ref', 'Home_Expn',\n       'Balance', 'Decision', 'governmen', 'military', 'private_s', 'retired',\n       'self_empl', 'student', 'unemploye', 'creative_', 'driver', 'executive',\n       'guard_etc', 'labourer', 'manager', 'office_st', 'productio',\n       'professio', 'sales', 'semi_pro', 'unemploye'],\n      dtype='object')"
     },
     "execution_count": 25,
     "metadata": {},
     "output_type": "execute_result"
    }
   ],
   "source": [
    "dataset.columns"
   ],
   "metadata": {
    "collapsed": false,
    "pycharm": {
     "name": "#%%\n"
    }
   }
  },
  {
   "cell_type": "code",
   "execution_count": 26,
   "outputs": [
    {
     "name": "stdout",
     "output_type": "stream",
     "text": [
      "                      Sex       Age  Time_at_address  Res_status  Telephone  \\\n",
      "Sex              1.000000  0.025167        -0.031594    0.121713   0.121713   \n",
      "Age              0.025167  1.000000         0.217342   -0.080265  -0.080265   \n",
      "Time_at_address -0.031594  0.217342         1.000000   -0.100614  -0.100614   \n",
      "Res_status       0.121713 -0.080265        -0.100614    1.000000   1.000000   \n",
      "Telephone        0.121713 -0.080265        -0.100614    1.000000   1.000000   \n",
      "Time_employed    0.077239  0.426890         0.278849   -0.074690  -0.074690   \n",
      "Time_bank       -0.072303  0.208736         0.202083   -0.132413  -0.132413   \n",
      "Liab_ref         0.010508  0.049109        -0.049978    0.018827   0.018827   \n",
      "Acc_ref          0.095826 -0.040445        -0.144258   -0.000201  -0.000201   \n",
      "Home_Expn        0.115355 -0.072254        -0.267470   -0.006477  -0.006477   \n",
      "Balance         -0.045248  0.101819         0.072235   -0.068829  -0.068829   \n",
      "Decision         0.052564 -0.181241        -0.163298    0.139104   0.139104   \n",
      "governmen       -0.071354  0.011700         0.032959    0.006508   0.006508   \n",
      "military         0.033287 -0.054508        -0.022068   -0.026127  -0.026127   \n",
      "private_s        0.043589 -0.247584        -0.083958   -0.021999  -0.021999   \n",
      "retired          0.021153  0.309407         0.271421   -0.033319  -0.033319   \n",
      "self_empl        0.087138  0.114273        -0.058537   -0.007264  -0.007264   \n",
      "student         -0.018208 -0.076762         0.030354    0.045143   0.045143   \n",
      "unemploye       -0.077631  0.203320         0.020707    0.042843   0.042843   \n",
      "creative_        0.092333 -0.100224        -0.043791    0.029843   0.029843   \n",
      "driver           0.056538 -0.061793         0.036117    0.011242   0.011242   \n",
      "executive        0.033932  0.195693         0.194672   -0.013801  -0.013801   \n",
      "guard_etc        0.022947  0.028675        -0.074592   -0.059316  -0.059316   \n",
      "labourer        -0.008220 -0.035318        -0.027105    0.103196   0.103196   \n",
      "manager          0.141564  0.056127        -0.062565   -0.007468  -0.007468   \n",
      "office_st       -0.239058 -0.085265         0.060743   -0.141542  -0.141542   \n",
      "productio        0.089171 -0.025142         0.007001    0.015006   0.015006   \n",
      "professio       -0.028788 -0.008012        -0.023361    0.058154   0.058154   \n",
      "sales           -0.116177 -0.061906         0.018662   -0.043244  -0.043244   \n",
      "semi_pro         0.057602 -0.002900        -0.069254    0.012631   0.012631   \n",
      "unemploye       -0.085110  0.210038         0.028853    0.048437   0.048437   \n",
      "\n",
      "                 Time_employed  Time_bank  Liab_ref   Acc_ref  Home_Expn  ...  \\\n",
      "Sex                   0.077239  -0.072303  0.010508  0.095826   0.115355  ...   \n",
      "Age                   0.426890   0.208736  0.049109 -0.040445  -0.072254  ...   \n",
      "Time_at_address       0.278849   0.202083 -0.049978 -0.144258  -0.267470  ...   \n",
      "Res_status           -0.074690  -0.132413  0.018827 -0.000201  -0.006477  ...   \n",
      "Telephone            -0.074690  -0.132413  0.018827 -0.000201  -0.006477  ...   \n",
      "Time_employed         1.000000   0.291542  0.122561 -0.025000  -0.110933  ...   \n",
      "Time_bank             0.291542   1.000000  0.051000 -0.158334  -0.111761  ...   \n",
      "Liab_ref              0.122561   0.051000  1.000000  0.033197   0.127133  ...   \n",
      "Acc_ref              -0.025000  -0.158334  0.033197  1.000000   0.096426  ...   \n",
      "Home_Expn            -0.110933  -0.111761  0.127133  0.096426   1.000000  ...   \n",
      "Balance               0.112719   0.153435 -0.013128 -0.065739   0.080366  ...   \n",
      "Decision             -0.339833  -0.455942 -0.068508  0.106354   0.087311  ...   \n",
      "governmen             0.135908   0.097365 -0.041223 -0.066981   0.059496  ...   \n",
      "military             -0.027837  -0.003413  0.052702 -0.013490  -0.005677  ...   \n",
      "private_s            -0.172712  -0.115185  0.037822  0.089868   0.035104  ...   \n",
      "retired               0.265212   0.155554 -0.022658 -0.038472  -0.149999  ...   \n",
      "self_empl             0.045330   0.030708  0.084938  0.010466   0.076962  ...   \n",
      "student              -0.042492  -0.035080 -0.012399 -0.030307  -0.043405  ...   \n",
      "unemploye            -0.047159  -0.031069 -0.093314 -0.043119  -0.142259  ...   \n",
      "creative_            -0.005600   0.103602 -0.034575 -0.036148  -0.088680  ...   \n",
      "driver               -0.064149  -0.085321  0.041735  0.135115  -0.032013  ...   \n",
      "executive             0.158402   0.070908 -0.047445  0.023691  -0.022788  ...   \n",
      "guard_etc            -0.048504  -0.079085  0.051444 -0.017403   0.070586  ...   \n",
      "labourer             -0.076296  -0.102461  0.044265  0.029235  -0.024372  ...   \n",
      "manager               0.085916  -0.004365  0.041821  0.254292   0.121765  ...   \n",
      "office_st             0.045731   0.115238 -0.005693 -0.071914  -0.017424  ...   \n",
      "productio            -0.005221  -0.035694  0.037271 -0.036777   0.048673  ...   \n",
      "professio             0.065455   0.030341  0.030484 -0.063317   0.112318  ...   \n",
      "sales                -0.080398  -0.087884 -0.057168 -0.077889  -0.049655  ...   \n",
      "semi_pro              0.001919   0.042998 -0.003053 -0.019012   0.094591  ...   \n",
      "unemploye            -0.042615  -0.026283 -0.086354 -0.041226  -0.139506  ...   \n",
      "\n",
      "                 executive  guard_etc  labourer   manager  office_st  \\\n",
      "Sex               0.033932   0.022947 -0.008220  0.141564  -0.239058   \n",
      "Age               0.195693   0.028675 -0.035318  0.056127  -0.085265   \n",
      "Time_at_address   0.194672  -0.074592 -0.027105 -0.062565   0.060743   \n",
      "Res_status       -0.013801  -0.059316  0.103196 -0.007468  -0.141542   \n",
      "Telephone        -0.013801  -0.059316  0.103196 -0.007468  -0.141542   \n",
      "Time_employed     0.158402  -0.048504 -0.076296  0.085916   0.045731   \n",
      "Time_bank         0.070908  -0.079085 -0.102461 -0.004365   0.115238   \n",
      "Liab_ref         -0.047445   0.051444  0.044265  0.041821  -0.005693   \n",
      "Acc_ref           0.023691  -0.017403  0.029235  0.254292  -0.071914   \n",
      "Home_Expn        -0.022788   0.070586 -0.024372  0.121765  -0.017424   \n",
      "Balance           0.153182  -0.025923 -0.053978 -0.023879  -0.008416   \n",
      "Decision         -0.067796   0.131258  0.107222  0.029066  -0.133674   \n",
      "governmen        -0.079377  -0.036600  0.019390 -0.080452   0.179558   \n",
      "military         -0.010689  -0.014407 -0.015924 -0.012773  -0.017357   \n",
      "private_s        -0.190084  -0.203628  0.081608  0.130195  -0.004043   \n",
      "retired           0.623377  -0.041086 -0.045412 -0.036426  -0.049501   \n",
      "self_empl         0.010833   0.515114 -0.073270 -0.013948  -0.110322   \n",
      "student           0.491076  -0.032366 -0.035774 -0.028695  -0.038995   \n",
      "unemploye        -0.061715  -0.083181 -0.061647 -0.073747  -0.100218   \n",
      "creative_        -0.115540  -0.155727 -0.172127 -0.138066  -0.187623   \n",
      "driver           -0.043525  -0.058664 -0.064842 -0.052011  -0.070679   \n",
      "executive         1.000000  -0.065908 -0.072849 -0.058433  -0.079407   \n",
      "guard_etc        -0.065908   1.000000 -0.098187 -0.078758  -0.107027   \n",
      "labourer         -0.072849  -0.098187  1.000000 -0.087051  -0.118297   \n",
      "manager          -0.058433  -0.078758 -0.087051  1.000000  -0.094888   \n",
      "office_st        -0.079407  -0.107027 -0.118297 -0.094888   1.000000   \n",
      "productio        -0.075700  -0.102030 -0.112774 -0.090458  -0.122927   \n",
      "professio        -0.050169  -0.067618 -0.074739 -0.059950  -0.081468   \n",
      "sales            -0.061715  -0.083181 -0.091941 -0.073747  -0.100218   \n",
      "semi_pro         -0.048900  -0.065908 -0.072849 -0.058433  -0.079407   \n",
      "unemploye        -0.060636  -0.081726 -0.090332 -0.072457  -0.098465   \n",
      "\n",
      "                 productio  professio     sales  semi_pro  unemploye  \n",
      "Sex               0.089171  -0.028788 -0.116177  0.057602  -0.085110  \n",
      "Age              -0.025142  -0.008012 -0.061906 -0.002900   0.210038  \n",
      "Time_at_address   0.007001  -0.023361  0.018662 -0.069254   0.028853  \n",
      "Res_status        0.015006   0.058154 -0.043244  0.012631   0.048437  \n",
      "Telephone         0.015006   0.058154 -0.043244  0.012631   0.048437  \n",
      "Time_employed    -0.005221   0.065455 -0.080398  0.001919  -0.042615  \n",
      "Time_bank        -0.035694   0.030341 -0.087884  0.042998  -0.026283  \n",
      "Liab_ref          0.037271   0.030484 -0.057168 -0.003053  -0.086354  \n",
      "Acc_ref          -0.036777  -0.063317 -0.077889 -0.019012  -0.041226  \n",
      "Home_Expn         0.048673   0.112318 -0.049655  0.094591  -0.139506  \n",
      "Balance          -0.028536   0.004505 -0.028959  0.138420  -0.020692  \n",
      "Decision         -0.028458  -0.165153  0.033932 -0.134504   0.173276  \n",
      "governmen        -0.050329   0.191944 -0.089877  0.117460  -0.133296  \n",
      "military         -0.016547  -0.010966 -0.013490 -0.010689  -0.013254  \n",
      "private_s         0.175375  -0.066073  0.163973 -0.030814  -0.348558  \n",
      "retired          -0.047189  -0.031274 -0.038472 -0.030483  -0.037799  \n",
      "self_empl        -0.105172  -0.069701 -0.053673 -0.028552  -0.084243  \n",
      "student          -0.037174  -0.024637 -0.030307 -0.024013  -0.029777  \n",
      "unemploye        -0.095539  -0.063317 -0.077889 -0.061715   0.982505  \n",
      "creative_        -0.178863  -0.118538 -0.145820 -0.115540  -0.143269  \n",
      "driver           -0.067379  -0.044654 -0.054932 -0.043525  -0.053971  \n",
      "executive        -0.075700  -0.050169 -0.061715 -0.048900  -0.060636  \n",
      "guard_etc        -0.102030  -0.067618 -0.083181 -0.065908  -0.081726  \n",
      "labourer         -0.112774  -0.074739 -0.091941 -0.072849  -0.090332  \n",
      "manager          -0.090458  -0.059950 -0.073747 -0.058433  -0.072457  \n",
      "office_st        -0.122927  -0.081468 -0.100218 -0.079407  -0.098465  \n",
      "productio         1.000000  -0.077664 -0.095539 -0.075700  -0.093867  \n",
      "professio        -0.077664   1.000000 -0.063317 -0.050169  -0.062209  \n",
      "sales            -0.095539  -0.063317  1.000000 -0.061715  -0.076527  \n",
      "semi_pro         -0.075700  -0.050169 -0.061715  1.000000  -0.060636  \n",
      "unemploye        -0.093867  -0.062209 -0.076527 -0.060636   1.000000  \n",
      "\n",
      "[31 rows x 31 columns]\n"
     ]
    }
   ],
   "source": [
    "# data prepared for correlation\n",
    "\n",
    "corr = dataset.corr()\n",
    "print(corr)"
   ],
   "metadata": {
    "collapsed": false,
    "pycharm": {
     "name": "#%%\n"
    }
   }
  },
  {
   "cell_type": "code",
   "execution_count": 27,
   "outputs": [],
   "source": [
    "# dropping columns based on correlations\n",
    "\n",
    "# also dropping Time_at_address as it plays trivial role in decision making\n",
    "\n",
    "dataset.drop(['Telephone', 'Time_at_address'], axis=1, inplace=True)"
   ],
   "metadata": {
    "collapsed": false,
    "pycharm": {
     "name": "#%%\n"
    }
   }
  },
  {
   "cell_type": "code",
   "execution_count": 28,
   "outputs": [
    {
     "data": {
      "text/plain": "Index(['Sex', 'Age', 'Res_status', 'Time_employed', 'Time_bank', 'Liab_ref',\n       'Acc_ref', 'Home_Expn', 'Balance', 'Decision', 'governmen', 'military',\n       'private_s', 'retired', 'self_empl', 'student', 'unemploye',\n       'creative_', 'driver', 'executive', 'guard_etc', 'labourer', 'manager',\n       'office_st', 'productio', 'professio', 'sales', 'semi_pro',\n       'unemploye'],\n      dtype='object')"
     },
     "execution_count": 28,
     "metadata": {},
     "output_type": "execute_result"
    }
   ],
   "source": [
    "dataset.columns\n",
    "\n",
    "# inference => we have 33 variables"
   ],
   "metadata": {
    "collapsed": false,
    "pycharm": {
     "name": "#%%\n"
    }
   }
  },
  {
   "cell_type": "code",
   "execution_count": 28,
   "outputs": [],
   "source": [],
   "metadata": {
    "collapsed": false,
    "pycharm": {
     "name": "#%%\n"
    }
   }
  },
  {
   "cell_type": "code",
   "execution_count": 29,
   "outputs": [
    {
     "data": {
      "text/plain": "   Sex        Age  Res_status  Time_employed  Time_bank  Liab_ref  Acc_ref  \\\n0    1  50.750000           0              0          0         0        0   \n1    1  19.670000           1              0          0         1        0   \n2    0  52.830002           0              5         14         0        0   \n3    1  22.670000           1              2          0         0        0   \n4    1  29.250000           0              0          0         0        0   \n\n   Home_Expn  Balance  Decision  ...  executive  guard_etc  labourer  manager  \\\n0        145        0         1  ...        0.0        0.0       0.0      0.0   \n1        140        0         1  ...        0.0        0.0       1.0      0.0   \n2          0     2200         0  ...        0.0        0.0       0.0      0.0   \n3          0        0         0  ...        0.0        0.0       0.0      0.0   \n4        228        0         1  ...        0.0        0.0       0.0      0.0   \n\n   office_st  productio  professio  sales  semi_pro  unemploye  \n0        0.0        0.0        0.0    0.0       0.0        1.0  \n1        0.0        0.0        0.0    0.0       0.0        0.0  \n2        0.0        0.0        0.0    0.0       0.0        0.0  \n3        0.0        0.0        0.0    0.0       0.0        0.0  \n4        0.0        0.0        0.0    0.0       0.0        0.0  \n\n[5 rows x 29 columns]",
      "text/html": "<div>\n<style scoped>\n    .dataframe tbody tr th:only-of-type {\n        vertical-align: middle;\n    }\n\n    .dataframe tbody tr th {\n        vertical-align: top;\n    }\n\n    .dataframe thead th {\n        text-align: right;\n    }\n</style>\n<table border=\"1\" class=\"dataframe\">\n  <thead>\n    <tr style=\"text-align: right;\">\n      <th></th>\n      <th>Sex</th>\n      <th>Age</th>\n      <th>Res_status</th>\n      <th>Time_employed</th>\n      <th>Time_bank</th>\n      <th>Liab_ref</th>\n      <th>Acc_ref</th>\n      <th>Home_Expn</th>\n      <th>Balance</th>\n      <th>Decision</th>\n      <th>...</th>\n      <th>executive</th>\n      <th>guard_etc</th>\n      <th>labourer</th>\n      <th>manager</th>\n      <th>office_st</th>\n      <th>productio</th>\n      <th>professio</th>\n      <th>sales</th>\n      <th>semi_pro</th>\n      <th>unemploye</th>\n    </tr>\n  </thead>\n  <tbody>\n    <tr>\n      <th>0</th>\n      <td>1</td>\n      <td>50.750000</td>\n      <td>0</td>\n      <td>0</td>\n      <td>0</td>\n      <td>0</td>\n      <td>0</td>\n      <td>145</td>\n      <td>0</td>\n      <td>1</td>\n      <td>...</td>\n      <td>0.0</td>\n      <td>0.0</td>\n      <td>0.0</td>\n      <td>0.0</td>\n      <td>0.0</td>\n      <td>0.0</td>\n      <td>0.0</td>\n      <td>0.0</td>\n      <td>0.0</td>\n      <td>1.0</td>\n    </tr>\n    <tr>\n      <th>1</th>\n      <td>1</td>\n      <td>19.670000</td>\n      <td>1</td>\n      <td>0</td>\n      <td>0</td>\n      <td>1</td>\n      <td>0</td>\n      <td>140</td>\n      <td>0</td>\n      <td>1</td>\n      <td>...</td>\n      <td>0.0</td>\n      <td>0.0</td>\n      <td>1.0</td>\n      <td>0.0</td>\n      <td>0.0</td>\n      <td>0.0</td>\n      <td>0.0</td>\n      <td>0.0</td>\n      <td>0.0</td>\n      <td>0.0</td>\n    </tr>\n    <tr>\n      <th>2</th>\n      <td>0</td>\n      <td>52.830002</td>\n      <td>0</td>\n      <td>5</td>\n      <td>14</td>\n      <td>0</td>\n      <td>0</td>\n      <td>0</td>\n      <td>2200</td>\n      <td>0</td>\n      <td>...</td>\n      <td>0.0</td>\n      <td>0.0</td>\n      <td>0.0</td>\n      <td>0.0</td>\n      <td>0.0</td>\n      <td>0.0</td>\n      <td>0.0</td>\n      <td>0.0</td>\n      <td>0.0</td>\n      <td>0.0</td>\n    </tr>\n    <tr>\n      <th>3</th>\n      <td>1</td>\n      <td>22.670000</td>\n      <td>1</td>\n      <td>2</td>\n      <td>0</td>\n      <td>0</td>\n      <td>0</td>\n      <td>0</td>\n      <td>0</td>\n      <td>0</td>\n      <td>...</td>\n      <td>0.0</td>\n      <td>0.0</td>\n      <td>0.0</td>\n      <td>0.0</td>\n      <td>0.0</td>\n      <td>0.0</td>\n      <td>0.0</td>\n      <td>0.0</td>\n      <td>0.0</td>\n      <td>0.0</td>\n    </tr>\n    <tr>\n      <th>4</th>\n      <td>1</td>\n      <td>29.250000</td>\n      <td>0</td>\n      <td>0</td>\n      <td>0</td>\n      <td>0</td>\n      <td>0</td>\n      <td>228</td>\n      <td>0</td>\n      <td>1</td>\n      <td>...</td>\n      <td>0.0</td>\n      <td>0.0</td>\n      <td>0.0</td>\n      <td>0.0</td>\n      <td>0.0</td>\n      <td>0.0</td>\n      <td>0.0</td>\n      <td>0.0</td>\n      <td>0.0</td>\n      <td>0.0</td>\n    </tr>\n  </tbody>\n</table>\n<p>5 rows × 29 columns</p>\n</div>"
     },
     "execution_count": 29,
     "metadata": {},
     "output_type": "execute_result"
    }
   ],
   "source": [
    "dataset.head()"
   ],
   "metadata": {
    "collapsed": false,
    "pycharm": {
     "name": "#%%\n"
    }
   }
  },
  {
   "cell_type": "code",
   "execution_count": 29,
   "outputs": [],
   "source": [],
   "metadata": {
    "collapsed": false,
    "pycharm": {
     "name": "#%%\n"
    }
   }
  },
  {
   "cell_type": "code",
   "execution_count": 80,
   "outputs": [],
   "source": [
    "X = dataset[['Sex', 'Age', 'Res_status', 'Time_employed', 'Time_bank', 'Liab_ref',\n",
    "       'Acc_ref', 'Home_Expn', 'Balance', 'governmen', 'military',\n",
    "       'private_s', 'retired', 'self_empl', 'student',\n",
    "       'creative_', 'driver', 'executive', 'guard_etc', 'labourer', 'manager',\n",
    "       'office_st', 'productio', 'professio', 'sales', 'semi_pro']]\n",
    "\n",
    "y = dataset[['Decision']]"
   ],
   "metadata": {
    "collapsed": false,
    "pycharm": {
     "name": "#%%\n"
    }
   }
  },
  {
   "cell_type": "code",
   "execution_count": 81,
   "outputs": [
    {
     "data": {
      "text/plain": "Sex                2\nAge              274\nRes_status         2\nTime_employed     19\nTime_bank         20\nLiab_ref           2\nAcc_ref            2\nHome_Expn        126\nBalance          171\ngovernmen          2\nmilitary           2\nprivate_s          2\nretired            2\nself_empl          2\nstudent            2\ncreative_          2\ndriver             2\nexecutive          2\nguard_etc          2\nlabourer           2\nmanager            2\noffice_st          2\nproductio          2\nprofessio          2\nsales              2\nsemi_pro           2\ndtype: int64"
     },
     "execution_count": 81,
     "metadata": {},
     "output_type": "execute_result"
    }
   ],
   "source": [
    "X.nunique()"
   ],
   "metadata": {
    "collapsed": false,
    "pycharm": {
     "name": "#%%\n"
    }
   }
  },
  {
   "cell_type": "code",
   "execution_count": 82,
   "outputs": [],
   "source": [
    "X_train, X_test, y_train, y_test = train_test_split(X, y, test_size=0.20)"
   ],
   "metadata": {
    "collapsed": false,
    "pycharm": {
     "name": "#%%\n"
    }
   }
  },
  {
   "cell_type": "code",
   "execution_count": 93,
   "outputs": [
    {
     "data": {
      "text/plain": "XGBClassifier(alpha=10, base_score=0.5, booster='gbtree', callbacks=None,\n              colsample_bylevel=1, colsample_bynode=1, colsample_bytree=0.3,\n              early_stopping_rounds=None, enable_categorical=False,\n              eval_metric=None, gamma=0, gpu_id=-1, grow_policy='depthwise',\n              importance_type=None, interaction_constraints='',\n              learning_rate=0.1, max_bin=256, max_cat_to_onehot=4,\n              max_delta_step=0, max_depth=5, max_leaves=0, min_child_weight=1,\n              missing=nan, monotone_constraints='()', n_estimators=10, n_jobs=0,\n              num_parallel_tree=1, objective='reg:logistic', predictor='auto',\n              random_state=0, ...)"
     },
     "execution_count": 93,
     "metadata": {},
     "output_type": "execute_result"
    }
   ],
   "source": [
    "\n",
    "# fit model no training data\n",
    "model = XGBClassifier(objective ='reg:logistic', colsample_bytree = 0.3, learning_rate = 0.1,\n",
    "                max_depth = 5, alpha = 10, n_estimators = 10)\n",
    "\n",
    "model.fit(X_train, y_train)"
   ],
   "metadata": {
    "collapsed": false,
    "pycharm": {
     "name": "#%%\n"
    }
   }
  },
  {
   "cell_type": "code",
   "execution_count": 94,
   "outputs": [],
   "source": [
    "predictions = model.predict(X_test)"
   ],
   "metadata": {
    "collapsed": false,
    "pycharm": {
     "name": "#%%\n"
    }
   }
  },
  {
   "cell_type": "code",
   "execution_count": 95,
   "outputs": [
    {
     "data": {
      "text/plain": "0.7948717948717948"
     },
     "execution_count": 95,
     "metadata": {},
     "output_type": "execute_result"
    }
   ],
   "source": [
    "model.score(X, y)"
   ],
   "metadata": {
    "collapsed": false,
    "pycharm": {
     "name": "#%%\n"
    }
   }
  },
  {
   "cell_type": "code",
   "execution_count": 96,
   "outputs": [
    {
     "name": "stdout",
     "output_type": "stream",
     "text": [
      "Mean Absolute Error: 0.19767441860465115\n",
      "Mean Squared Error: 0.19767441860465115\n",
      "Root Mean Squared Error: 0.44460591382105025\n"
     ]
    }
   ],
   "source": [
    "# calculating the statistical metrics\n",
    "\n",
    "print('Mean Absolute Error:', metrics.mean_absolute_error(y_test, predictions))\n",
    "print('Mean Squared Error:', metrics.mean_squared_error(y_test, predictions))\n",
    "print('Root Mean Squared Error:', np.sqrt(metrics.mean_squared_error(y_test, predictions)))"
   ],
   "metadata": {
    "collapsed": false,
    "pycharm": {
     "name": "#%%\n"
    }
   }
  },
  {
   "cell_type": "code",
   "execution_count": 97,
   "outputs": [
    {
     "name": "stdout",
     "output_type": "stream",
     "text": [
      "Confusion Matrix : \n",
      " [[27 14]\n",
      " [ 3 42]]\n"
     ]
    }
   ],
   "source": [
    "#Confusion matrix:\n",
    "print(\"Confusion Matrix : \\n\", confusion_matrix(y_test, predictions))"
   ],
   "metadata": {
    "collapsed": false,
    "pycharm": {
     "name": "#%%\n"
    }
   }
  },
  {
   "cell_type": "code",
   "execution_count": 98,
   "outputs": [
    {
     "name": "stdout",
     "output_type": "stream",
     "text": [
      "R squared value :  0.20758807588075912\n"
     ]
    }
   ],
   "source": [
    "r2 = r2_score(y_test, predictions)\n",
    "print(\"R squared value : \", r2)"
   ],
   "metadata": {
    "collapsed": false,
    "pycharm": {
     "name": "#%%\n"
    }
   }
  },
  {
   "cell_type": "code",
   "execution_count": 99,
   "outputs": [
    {
     "data": {
      "text/plain": "LinregressResult(slope=0.5918699186991868, intercept=0.3414634146341465, rvalue=0.6202543406978069, pvalue=1.9027902709052533e-10, stderr=0.08166854504861733, intercept_stderr=0.059076104470194984)"
     },
     "execution_count": 99,
     "metadata": {},
     "output_type": "execute_result"
    }
   ],
   "source": [
    "from scipy.stats import linregress\n",
    "linregress(y_test.to_numpy().ravel(), np.array(predictions))"
   ],
   "metadata": {
    "collapsed": false,
    "pycharm": {
     "name": "#%%\n"
    }
   }
  },
  {
   "cell_type": "code",
   "execution_count": null,
   "outputs": [],
   "source": [],
   "metadata": {
    "collapsed": false,
    "pycharm": {
     "name": "#%%\n"
    }
   }
  }
 ],
 "metadata": {
  "kernelspec": {
   "display_name": "Python 3",
   "language": "python",
   "name": "python3"
  },
  "language_info": {
   "codemirror_mode": {
    "name": "ipython",
    "version": 2
   },
   "file_extension": ".py",
   "mimetype": "text/x-python",
   "name": "python",
   "nbconvert_exporter": "python",
   "pygments_lexer": "ipython2",
   "version": "2.7.6"
  }
 },
 "nbformat": 4,
 "nbformat_minor": 0
}