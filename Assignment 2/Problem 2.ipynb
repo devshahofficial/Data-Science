{
 "cells": [
  {
   "cell_type": "code",
   "execution_count": 1,
   "metadata": {},
   "outputs": [],
   "source": [
    "# Logistic Regression:\n",
    "# Apply logistic regression on the Loan dataset with\n",
    "# \"Decision\" as the dependent variable. Do the necessary\n",
    "# one-hot encoding for the categorical variables and\n",
    "# discard the irrelevant variables. Use whatever\n",
    "# libraries are appropriate when coding in Python."
   ]
  },
  {
   "cell_type": "code",
   "execution_count": 2,
   "metadata": {
    "pycharm": {
     "name": "#%%\n"
    }
   },
   "outputs": [],
   "source": [
    "# all necessary imports\n",
    "\n",
    "import pandas as pd\n",
    "import numpy as np\n",
    "import seaborn as sns\n",
    "from sklearn import metrics\n",
    "from sklearn.metrics import r2_score\n",
    "from sklearn.metrics import confusion_matrix\n",
    "from sklearn.preprocessing import LabelEncoder\n",
    "from sklearn.preprocessing import OneHotEncoder\n",
    "from sklearn.model_selection import train_test_split\n",
    "from sklearn.linear_model import LogisticRegression\n",
    "\n",
    "\n",
    "sns.set(style=\"white\")\n",
    "sns.set(style=\"whitegrid\", color_codes=True)"
   ]
  },
  {
   "cell_type": "code",
   "execution_count": 3,
   "metadata": {
    "pycharm": {
     "name": "#%%\n"
    }
   },
   "outputs": [
    {
     "data": {
      "text/plain": "  Sex        Age  Time_at_address Res_status  Telephone Occupation Job_status  \\\n0   M  50.750000            0.585      owner      given  unemploye  unemploye   \n1   M  19.670000           10.000       rent  not_given   labourer  governmen   \n2   F  52.830002           15.000      owner      given  creative_  private_s   \n3   M  22.670000            2.540       rent  not_given  creative_  governmen   \n4   M  29.250000           13.000      owner      given     driver  governmen   \n\n   Time_employed  Time_bank Liab_ref Acc_ref  Home_Expn  Balance Decision  \n0              0          0        f   given        145        0   reject  \n1              0          0        t   given        140        0   reject  \n2              5         14        f   given          0     2200   accept  \n3              2          0        f   given          0        0   accept  \n4              0          0        f   given        228        0   reject  ",
      "text/html": "<div>\n<style scoped>\n    .dataframe tbody tr th:only-of-type {\n        vertical-align: middle;\n    }\n\n    .dataframe tbody tr th {\n        vertical-align: top;\n    }\n\n    .dataframe thead th {\n        text-align: right;\n    }\n</style>\n<table border=\"1\" class=\"dataframe\">\n  <thead>\n    <tr style=\"text-align: right;\">\n      <th></th>\n      <th>Sex</th>\n      <th>Age</th>\n      <th>Time_at_address</th>\n      <th>Res_status</th>\n      <th>Telephone</th>\n      <th>Occupation</th>\n      <th>Job_status</th>\n      <th>Time_employed</th>\n      <th>Time_bank</th>\n      <th>Liab_ref</th>\n      <th>Acc_ref</th>\n      <th>Home_Expn</th>\n      <th>Balance</th>\n      <th>Decision</th>\n    </tr>\n  </thead>\n  <tbody>\n    <tr>\n      <th>0</th>\n      <td>M</td>\n      <td>50.750000</td>\n      <td>0.585</td>\n      <td>owner</td>\n      <td>given</td>\n      <td>unemploye</td>\n      <td>unemploye</td>\n      <td>0</td>\n      <td>0</td>\n      <td>f</td>\n      <td>given</td>\n      <td>145</td>\n      <td>0</td>\n      <td>reject</td>\n    </tr>\n    <tr>\n      <th>1</th>\n      <td>M</td>\n      <td>19.670000</td>\n      <td>10.000</td>\n      <td>rent</td>\n      <td>not_given</td>\n      <td>labourer</td>\n      <td>governmen</td>\n      <td>0</td>\n      <td>0</td>\n      <td>t</td>\n      <td>given</td>\n      <td>140</td>\n      <td>0</td>\n      <td>reject</td>\n    </tr>\n    <tr>\n      <th>2</th>\n      <td>F</td>\n      <td>52.830002</td>\n      <td>15.000</td>\n      <td>owner</td>\n      <td>given</td>\n      <td>creative_</td>\n      <td>private_s</td>\n      <td>5</td>\n      <td>14</td>\n      <td>f</td>\n      <td>given</td>\n      <td>0</td>\n      <td>2200</td>\n      <td>accept</td>\n    </tr>\n    <tr>\n      <th>3</th>\n      <td>M</td>\n      <td>22.670000</td>\n      <td>2.540</td>\n      <td>rent</td>\n      <td>not_given</td>\n      <td>creative_</td>\n      <td>governmen</td>\n      <td>2</td>\n      <td>0</td>\n      <td>f</td>\n      <td>given</td>\n      <td>0</td>\n      <td>0</td>\n      <td>accept</td>\n    </tr>\n    <tr>\n      <th>4</th>\n      <td>M</td>\n      <td>29.250000</td>\n      <td>13.000</td>\n      <td>owner</td>\n      <td>given</td>\n      <td>driver</td>\n      <td>governmen</td>\n      <td>0</td>\n      <td>0</td>\n      <td>f</td>\n      <td>given</td>\n      <td>228</td>\n      <td>0</td>\n      <td>reject</td>\n    </tr>\n  </tbody>\n</table>\n</div>"
     },
     "execution_count": 3,
     "metadata": {},
     "output_type": "execute_result"
    }
   ],
   "source": [
    "dataset = pd.read_excel('loan.xlsx')\n",
    "new_dataset = dataset\n",
    "dataset.head()"
   ]
  },
  {
   "cell_type": "code",
   "execution_count": 4,
   "metadata": {
    "pycharm": {
     "name": "#%%\n"
    }
   },
   "outputs": [
    {
     "data": {
      "text/plain": "              Age  Time_at_address  Time_employed   Time_bank   Home_Expn  \\\ncount  429.000000       429.000000     429.000000  429.000000  429.000000   \nmean    31.510163         4.650758       1.871795    2.279720  176.727273   \nstd     11.843595         4.804037       3.254023    3.966105  142.590659   \nmin     15.170000         0.000000       0.000000    0.000000    0.000000   \n25%     22.670000         1.000000       0.000000    0.000000   80.000000   \n50%     28.500000         2.750000       1.000000    0.000000  160.000000   \n75%     38.250000         7.000000       2.000000    3.000000  272.000000   \nmax     76.750000        25.209999      20.000000   23.000000  760.000000   \n\n            Balance  \ncount    429.000000  \nmean     898.382284  \nstd     3814.565340  \nmin        0.000000  \n25%        0.000000  \n50%       10.000000  \n75%      484.000000  \nmax    51100.000000  ",
      "text/html": "<div>\n<style scoped>\n    .dataframe tbody tr th:only-of-type {\n        vertical-align: middle;\n    }\n\n    .dataframe tbody tr th {\n        vertical-align: top;\n    }\n\n    .dataframe thead th {\n        text-align: right;\n    }\n</style>\n<table border=\"1\" class=\"dataframe\">\n  <thead>\n    <tr style=\"text-align: right;\">\n      <th></th>\n      <th>Age</th>\n      <th>Time_at_address</th>\n      <th>Time_employed</th>\n      <th>Time_bank</th>\n      <th>Home_Expn</th>\n      <th>Balance</th>\n    </tr>\n  </thead>\n  <tbody>\n    <tr>\n      <th>count</th>\n      <td>429.000000</td>\n      <td>429.000000</td>\n      <td>429.000000</td>\n      <td>429.000000</td>\n      <td>429.000000</td>\n      <td>429.000000</td>\n    </tr>\n    <tr>\n      <th>mean</th>\n      <td>31.510163</td>\n      <td>4.650758</td>\n      <td>1.871795</td>\n      <td>2.279720</td>\n      <td>176.727273</td>\n      <td>898.382284</td>\n    </tr>\n    <tr>\n      <th>std</th>\n      <td>11.843595</td>\n      <td>4.804037</td>\n      <td>3.254023</td>\n      <td>3.966105</td>\n      <td>142.590659</td>\n      <td>3814.565340</td>\n    </tr>\n    <tr>\n      <th>min</th>\n      <td>15.170000</td>\n      <td>0.000000</td>\n      <td>0.000000</td>\n      <td>0.000000</td>\n      <td>0.000000</td>\n      <td>0.000000</td>\n    </tr>\n    <tr>\n      <th>25%</th>\n      <td>22.670000</td>\n      <td>1.000000</td>\n      <td>0.000000</td>\n      <td>0.000000</td>\n      <td>80.000000</td>\n      <td>0.000000</td>\n    </tr>\n    <tr>\n      <th>50%</th>\n      <td>28.500000</td>\n      <td>2.750000</td>\n      <td>1.000000</td>\n      <td>0.000000</td>\n      <td>160.000000</td>\n      <td>10.000000</td>\n    </tr>\n    <tr>\n      <th>75%</th>\n      <td>38.250000</td>\n      <td>7.000000</td>\n      <td>2.000000</td>\n      <td>3.000000</td>\n      <td>272.000000</td>\n      <td>484.000000</td>\n    </tr>\n    <tr>\n      <th>max</th>\n      <td>76.750000</td>\n      <td>25.209999</td>\n      <td>20.000000</td>\n      <td>23.000000</td>\n      <td>760.000000</td>\n      <td>51100.000000</td>\n    </tr>\n  </tbody>\n</table>\n</div>"
     },
     "execution_count": 4,
     "metadata": {},
     "output_type": "execute_result"
    }
   ],
   "source": [
    "# dataset summary\n",
    "dataset.describe()"
   ]
  },
  {
   "cell_type": "code",
   "execution_count": 5,
   "metadata": {
    "pycharm": {
     "name": "#%%\n"
    }
   },
   "outputs": [
    {
     "data": {
      "text/plain": "Sex                0\nAge                0\nTime_at_address    0\nRes_status         0\nTelephone          0\nOccupation         0\nJob_status         0\nTime_employed      0\nTime_bank          0\nLiab_ref           0\nAcc_ref            0\nHome_Expn          0\nBalance            0\nDecision           0\ndtype: int64"
     },
     "execution_count": 5,
     "metadata": {},
     "output_type": "execute_result"
    }
   ],
   "source": [
    "# finding out null data => missing data\n",
    "dataset.isnull().sum()\n",
    "\n",
    "# inference => no missing data"
   ]
  },
  {
   "cell_type": "code",
   "execution_count": 6,
   "metadata": {
    "pycharm": {
     "name": "#%%\n"
    }
   },
   "outputs": [
    {
     "data": {
      "text/plain": "(429, 14)"
     },
     "execution_count": 6,
     "metadata": {},
     "output_type": "execute_result"
    }
   ],
   "source": [
    "dataset.shape\n",
    "\n",
    "# before calculating correlation, we shall one hot encode Sex, Res_Status, Telephone, Occupation, Job Status, Acc_ref, Decision"
   ]
  },
  {
   "cell_type": "code",
   "execution_count": 7,
   "metadata": {
    "pycharm": {
     "name": "#%%\n"
    }
   },
   "outputs": [],
   "source": [
    "# one hot encoding\n",
    "onehot_encoder = OneHotEncoder(handle_unknown='ignore')\n",
    "\n",
    "# label encoder\n",
    "label_encoder = LabelEncoder()"
   ]
  },
  {
   "cell_type": "code",
   "execution_count": 8,
   "metadata": {
    "pycharm": {
     "name": "#%%\n"
    }
   },
   "outputs": [
    {
     "name": "stdout",
     "output_type": "stream",
     "text": [
      "Sex:  2\n"
     ]
    }
   ],
   "source": [
    "# sex\n",
    "print('Sex: ', dataset['Sex'].nunique())\n",
    "\n",
    "new_dataset['Sex'] = label_encoder.fit_transform(dataset['Sex'])"
   ]
  },
  {
   "cell_type": "code",
   "execution_count": 9,
   "metadata": {
    "pycharm": {
     "name": "#%%\n"
    }
   },
   "outputs": [
    {
     "name": "stdout",
     "output_type": "stream",
     "text": [
      "Res_status:  2\n"
     ]
    }
   ],
   "source": [
    "# Res_Status\n",
    "print('Res_status: ', dataset['Res_status'].nunique())\n",
    "\n",
    "dataset['Res_status'] = label_encoder.fit_transform(dataset['Res_status'])"
   ]
  },
  {
   "cell_type": "code",
   "execution_count": 10,
   "metadata": {
    "pycharm": {
     "name": "#%%\n"
    }
   },
   "outputs": [
    {
     "name": "stdout",
     "output_type": "stream",
     "text": [
      "Telephone:  2\n"
     ]
    }
   ],
   "source": [
    "# Telephone\n",
    "print('Telephone: ', dataset['Telephone'].nunique())\n",
    "\n",
    "dataset['Telephone'] = label_encoder.fit_transform(dataset['Telephone'])"
   ]
  },
  {
   "cell_type": "code",
   "execution_count": 11,
   "metadata": {
    "pycharm": {
     "name": "#%%\n"
    }
   },
   "outputs": [
    {
     "name": "stdout",
     "output_type": "stream",
     "text": [
      "Acc_ref:  2\n"
     ]
    }
   ],
   "source": [
    "# Acc_ref\n",
    "print('Acc_ref: ', dataset['Acc_ref'].nunique())\n",
    "\n",
    "dataset['Acc_ref'] = label_encoder.fit_transform(dataset['Acc_ref'])"
   ]
  },
  {
   "cell_type": "code",
   "execution_count": 12,
   "metadata": {},
   "outputs": [
    {
     "name": "stdout",
     "output_type": "stream",
     "text": [
      "Liab_ref:  2\n"
     ]
    }
   ],
   "source": [
    "# Liab_ref\n",
    "print('Liab_ref: ', dataset['Liab_ref'].nunique())\n",
    "\n",
    "dataset['Liab_ref'] = label_encoder.fit_transform(dataset['Liab_ref'])"
   ]
  },
  {
   "cell_type": "code",
   "execution_count": 13,
   "metadata": {
    "pycharm": {
     "name": "#%%\n"
    }
   },
   "outputs": [
    {
     "name": "stdout",
     "output_type": "stream",
     "text": [
      "object\n",
      "Decision:  2\n"
     ]
    }
   ],
   "source": [
    "# Decision\n",
    "print(dataset['Decision'].dtype)\n",
    "print('Decision: ', dataset['Decision'].nunique())\n",
    "\n",
    "dataset['Decision'] = label_encoder.fit_transform(dataset['Decision'])"
   ]
  },
  {
   "cell_type": "code",
   "execution_count": 14,
   "metadata": {
    "pycharm": {
     "name": "#%%\n"
    }
   },
   "outputs": [
    {
     "name": "stdout",
     "output_type": "stream",
     "text": [
      "Job_status:  ['unemploye' 'governmen' 'private_s' 'self_empl' 'retired' 'student'\n",
      " 'military']\n"
     ]
    }
   ],
   "source": [
    "# Job_status\n",
    "\n",
    "print('Job_status: ', dataset['Job_status'].unique())"
   ]
  },
  {
   "cell_type": "code",
   "execution_count": 15,
   "metadata": {
    "pycharm": {
     "name": "#%%\n"
    }
   },
   "outputs": [
    {
     "name": "stdout",
     "output_type": "stream",
     "text": [
      "Occupation:  ['unemploye' 'labourer' 'creative_' 'driver' 'professio' 'manager'\n",
      " 'guard_etc' 'executive' 'office_st' 'productio' 'semi_pro' 'sales']\n"
     ]
    }
   ],
   "source": [
    "# Occupation\n",
    "print('Occupation: ', dataset['Occupation'].unique())\n",
    "\n",
    "# dataset['Occupation'] = label_encoder.fit_transform(dataset['Res_Status'])"
   ]
  },
  {
   "cell_type": "code",
   "execution_count": 16,
   "metadata": {},
   "outputs": [],
   "source": [
    "features_array = onehot_encoder.fit_transform(dataset[['Job_status', 'Occupation']]).toarray()"
   ]
  },
  {
   "cell_type": "code",
   "execution_count": 17,
   "metadata": {},
   "outputs": [
    {
     "data": {
      "text/plain": "['governmen',\n 'military',\n 'private_s',\n 'retired',\n 'self_empl',\n 'student',\n 'unemploye',\n 'creative_',\n 'driver',\n 'executive',\n 'guard_etc',\n 'labourer',\n 'manager',\n 'office_st',\n 'productio',\n 'professio',\n 'sales',\n 'semi_pro',\n 'unemploye']"
     },
     "execution_count": 17,
     "metadata": {},
     "output_type": "execute_result"
    }
   ],
   "source": [
    "feature_labels = ['governmen', 'military', 'private_s', 'retired', 'self_empl',\n",
    "        'student', 'unemploye', 'creative_', 'driver', 'executive', 'guard_etc', 'labourer',\n",
    "        'manager', 'office_st', 'productio', 'professio', 'sales',\n",
    "        'semi_pro', 'unemploye']\n",
    "feature_labels"
   ]
  },
  {
   "cell_type": "code",
   "execution_count": 18,
   "metadata": {},
   "outputs": [],
   "source": [
    "features = pd.DataFrame(features_array, columns = feature_labels)"
   ]
  },
  {
   "cell_type": "code",
   "execution_count": 19,
   "metadata": {},
   "outputs": [],
   "source": [
    "dataset = pd.concat([dataset, features], axis=1)"
   ]
  },
  {
   "cell_type": "code",
   "execution_count": 20,
   "metadata": {},
   "outputs": [],
   "source": [
    "dataset.drop(['Occupation','Job_status'], axis=1, inplace=True)"
   ]
  },
  {
   "cell_type": "code",
   "execution_count": 21,
   "metadata": {},
   "outputs": [
    {
     "data": {
      "text/plain": "Index(['Sex', 'Age', 'Time_at_address', 'Res_status', 'Telephone',\n       'Time_employed', 'Time_bank', 'Liab_ref', 'Acc_ref', 'Home_Expn',\n       'Balance', 'Decision', 'governmen', 'military', 'private_s', 'retired',\n       'self_empl', 'student', 'unemploye', 'creative_', 'driver', 'executive',\n       'guard_etc', 'labourer', 'manager', 'office_st', 'productio',\n       'professio', 'sales', 'semi_pro', 'unemploye'],\n      dtype='object')"
     },
     "execution_count": 21,
     "metadata": {},
     "output_type": "execute_result"
    }
   ],
   "source": [
    "dataset.columns"
   ]
  },
  {
   "cell_type": "code",
   "execution_count": 22,
   "metadata": {},
   "outputs": [
    {
     "data": {
      "text/plain": "                      Sex       Age  Time_at_address  Res_status  Telephone  \\\nSex              1.000000  0.025167        -0.031594    0.121713   0.121713   \nAge              0.025167  1.000000         0.217342   -0.080265  -0.080265   \nTime_at_address -0.031594  0.217342         1.000000   -0.100614  -0.100614   \nRes_status       0.121713 -0.080265        -0.100614    1.000000   1.000000   \nTelephone        0.121713 -0.080265        -0.100614    1.000000   1.000000   \nTime_employed    0.077239  0.426890         0.278849   -0.074690  -0.074690   \nTime_bank       -0.072303  0.208736         0.202083   -0.132413  -0.132413   \nLiab_ref         0.010508  0.049109        -0.049978    0.018827   0.018827   \nAcc_ref          0.095826 -0.040445        -0.144258   -0.000201  -0.000201   \nHome_Expn        0.115355 -0.072254        -0.267470   -0.006477  -0.006477   \nBalance         -0.045248  0.101819         0.072235   -0.068829  -0.068829   \nDecision         0.052564 -0.181241        -0.163298    0.139104   0.139104   \ngovernmen       -0.071354  0.011700         0.032959    0.006508   0.006508   \nmilitary         0.033287 -0.054508        -0.022068   -0.026127  -0.026127   \nprivate_s        0.043589 -0.247584        -0.083958   -0.021999  -0.021999   \nretired          0.021153  0.309407         0.271421   -0.033319  -0.033319   \nself_empl        0.087138  0.114273        -0.058537   -0.007264  -0.007264   \nstudent         -0.018208 -0.076762         0.030354    0.045143   0.045143   \nunemploye       -0.077631  0.203320         0.020707    0.042843   0.042843   \ncreative_        0.092333 -0.100224        -0.043791    0.029843   0.029843   \ndriver           0.056538 -0.061793         0.036117    0.011242   0.011242   \nexecutive        0.033932  0.195693         0.194672   -0.013801  -0.013801   \nguard_etc        0.022947  0.028675        -0.074592   -0.059316  -0.059316   \nlabourer        -0.008220 -0.035318        -0.027105    0.103196   0.103196   \nmanager          0.141564  0.056127        -0.062565   -0.007468  -0.007468   \noffice_st       -0.239058 -0.085265         0.060743   -0.141542  -0.141542   \nproductio        0.089171 -0.025142         0.007001    0.015006   0.015006   \nprofessio       -0.028788 -0.008012        -0.023361    0.058154   0.058154   \nsales           -0.116177 -0.061906         0.018662   -0.043244  -0.043244   \nsemi_pro         0.057602 -0.002900        -0.069254    0.012631   0.012631   \nunemploye       -0.085110  0.210038         0.028853    0.048437   0.048437   \n\n                 Time_employed  Time_bank  Liab_ref   Acc_ref  Home_Expn  ...  \\\nSex                   0.077239  -0.072303  0.010508  0.095826   0.115355  ...   \nAge                   0.426890   0.208736  0.049109 -0.040445  -0.072254  ...   \nTime_at_address       0.278849   0.202083 -0.049978 -0.144258  -0.267470  ...   \nRes_status           -0.074690  -0.132413  0.018827 -0.000201  -0.006477  ...   \nTelephone            -0.074690  -0.132413  0.018827 -0.000201  -0.006477  ...   \nTime_employed         1.000000   0.291542  0.122561 -0.025000  -0.110933  ...   \nTime_bank             0.291542   1.000000  0.051000 -0.158334  -0.111761  ...   \nLiab_ref              0.122561   0.051000  1.000000  0.033197   0.127133  ...   \nAcc_ref              -0.025000  -0.158334  0.033197  1.000000   0.096426  ...   \nHome_Expn            -0.110933  -0.111761  0.127133  0.096426   1.000000  ...   \nBalance               0.112719   0.153435 -0.013128 -0.065739   0.080366  ...   \nDecision             -0.339833  -0.455942 -0.068508  0.106354   0.087311  ...   \ngovernmen             0.135908   0.097365 -0.041223 -0.066981   0.059496  ...   \nmilitary             -0.027837  -0.003413  0.052702 -0.013490  -0.005677  ...   \nprivate_s            -0.172712  -0.115185  0.037822  0.089868   0.035104  ...   \nretired               0.265212   0.155554 -0.022658 -0.038472  -0.149999  ...   \nself_empl             0.045330   0.030708  0.084938  0.010466   0.076962  ...   \nstudent              -0.042492  -0.035080 -0.012399 -0.030307  -0.043405  ...   \nunemploye            -0.047159  -0.031069 -0.093314 -0.043119  -0.142259  ...   \ncreative_            -0.005600   0.103602 -0.034575 -0.036148  -0.088680  ...   \ndriver               -0.064149  -0.085321  0.041735  0.135115  -0.032013  ...   \nexecutive             0.158402   0.070908 -0.047445  0.023691  -0.022788  ...   \nguard_etc            -0.048504  -0.079085  0.051444 -0.017403   0.070586  ...   \nlabourer             -0.076296  -0.102461  0.044265  0.029235  -0.024372  ...   \nmanager               0.085916  -0.004365  0.041821  0.254292   0.121765  ...   \noffice_st             0.045731   0.115238 -0.005693 -0.071914  -0.017424  ...   \nproductio            -0.005221  -0.035694  0.037271 -0.036777   0.048673  ...   \nprofessio             0.065455   0.030341  0.030484 -0.063317   0.112318  ...   \nsales                -0.080398  -0.087884 -0.057168 -0.077889  -0.049655  ...   \nsemi_pro              0.001919   0.042998 -0.003053 -0.019012   0.094591  ...   \nunemploye            -0.042615  -0.026283 -0.086354 -0.041226  -0.139506  ...   \n\n                 executive  guard_etc  labourer   manager  office_st  \\\nSex               0.033932   0.022947 -0.008220  0.141564  -0.239058   \nAge               0.195693   0.028675 -0.035318  0.056127  -0.085265   \nTime_at_address   0.194672  -0.074592 -0.027105 -0.062565   0.060743   \nRes_status       -0.013801  -0.059316  0.103196 -0.007468  -0.141542   \nTelephone        -0.013801  -0.059316  0.103196 -0.007468  -0.141542   \nTime_employed     0.158402  -0.048504 -0.076296  0.085916   0.045731   \nTime_bank         0.070908  -0.079085 -0.102461 -0.004365   0.115238   \nLiab_ref         -0.047445   0.051444  0.044265  0.041821  -0.005693   \nAcc_ref           0.023691  -0.017403  0.029235  0.254292  -0.071914   \nHome_Expn        -0.022788   0.070586 -0.024372  0.121765  -0.017424   \nBalance           0.153182  -0.025923 -0.053978 -0.023879  -0.008416   \nDecision         -0.067796   0.131258  0.107222  0.029066  -0.133674   \ngovernmen        -0.079377  -0.036600  0.019390 -0.080452   0.179558   \nmilitary         -0.010689  -0.014407 -0.015924 -0.012773  -0.017357   \nprivate_s        -0.190084  -0.203628  0.081608  0.130195  -0.004043   \nretired           0.623377  -0.041086 -0.045412 -0.036426  -0.049501   \nself_empl         0.010833   0.515114 -0.073270 -0.013948  -0.110322   \nstudent           0.491076  -0.032366 -0.035774 -0.028695  -0.038995   \nunemploye        -0.061715  -0.083181 -0.061647 -0.073747  -0.100218   \ncreative_        -0.115540  -0.155727 -0.172127 -0.138066  -0.187623   \ndriver           -0.043525  -0.058664 -0.064842 -0.052011  -0.070679   \nexecutive         1.000000  -0.065908 -0.072849 -0.058433  -0.079407   \nguard_etc        -0.065908   1.000000 -0.098187 -0.078758  -0.107027   \nlabourer         -0.072849  -0.098187  1.000000 -0.087051  -0.118297   \nmanager          -0.058433  -0.078758 -0.087051  1.000000  -0.094888   \noffice_st        -0.079407  -0.107027 -0.118297 -0.094888   1.000000   \nproductio        -0.075700  -0.102030 -0.112774 -0.090458  -0.122927   \nprofessio        -0.050169  -0.067618 -0.074739 -0.059950  -0.081468   \nsales            -0.061715  -0.083181 -0.091941 -0.073747  -0.100218   \nsemi_pro         -0.048900  -0.065908 -0.072849 -0.058433  -0.079407   \nunemploye        -0.060636  -0.081726 -0.090332 -0.072457  -0.098465   \n\n                 productio  professio     sales  semi_pro  unemploye  \nSex               0.089171  -0.028788 -0.116177  0.057602  -0.085110  \nAge              -0.025142  -0.008012 -0.061906 -0.002900   0.210038  \nTime_at_address   0.007001  -0.023361  0.018662 -0.069254   0.028853  \nRes_status        0.015006   0.058154 -0.043244  0.012631   0.048437  \nTelephone         0.015006   0.058154 -0.043244  0.012631   0.048437  \nTime_employed    -0.005221   0.065455 -0.080398  0.001919  -0.042615  \nTime_bank        -0.035694   0.030341 -0.087884  0.042998  -0.026283  \nLiab_ref          0.037271   0.030484 -0.057168 -0.003053  -0.086354  \nAcc_ref          -0.036777  -0.063317 -0.077889 -0.019012  -0.041226  \nHome_Expn         0.048673   0.112318 -0.049655  0.094591  -0.139506  \nBalance          -0.028536   0.004505 -0.028959  0.138420  -0.020692  \nDecision         -0.028458  -0.165153  0.033932 -0.134504   0.173276  \ngovernmen        -0.050329   0.191944 -0.089877  0.117460  -0.133296  \nmilitary         -0.016547  -0.010966 -0.013490 -0.010689  -0.013254  \nprivate_s         0.175375  -0.066073  0.163973 -0.030814  -0.348558  \nretired          -0.047189  -0.031274 -0.038472 -0.030483  -0.037799  \nself_empl        -0.105172  -0.069701 -0.053673 -0.028552  -0.084243  \nstudent          -0.037174  -0.024637 -0.030307 -0.024013  -0.029777  \nunemploye        -0.095539  -0.063317 -0.077889 -0.061715   0.982505  \ncreative_        -0.178863  -0.118538 -0.145820 -0.115540  -0.143269  \ndriver           -0.067379  -0.044654 -0.054932 -0.043525  -0.053971  \nexecutive        -0.075700  -0.050169 -0.061715 -0.048900  -0.060636  \nguard_etc        -0.102030  -0.067618 -0.083181 -0.065908  -0.081726  \nlabourer         -0.112774  -0.074739 -0.091941 -0.072849  -0.090332  \nmanager          -0.090458  -0.059950 -0.073747 -0.058433  -0.072457  \noffice_st        -0.122927  -0.081468 -0.100218 -0.079407  -0.098465  \nproductio         1.000000  -0.077664 -0.095539 -0.075700  -0.093867  \nprofessio        -0.077664   1.000000 -0.063317 -0.050169  -0.062209  \nsales            -0.095539  -0.063317  1.000000 -0.061715  -0.076527  \nsemi_pro         -0.075700  -0.050169 -0.061715  1.000000  -0.060636  \nunemploye        -0.093867  -0.062209 -0.076527 -0.060636   1.000000  \n\n[31 rows x 31 columns]",
      "text/html": "<div>\n<style scoped>\n    .dataframe tbody tr th:only-of-type {\n        vertical-align: middle;\n    }\n\n    .dataframe tbody tr th {\n        vertical-align: top;\n    }\n\n    .dataframe thead th {\n        text-align: right;\n    }\n</style>\n<table border=\"1\" class=\"dataframe\">\n  <thead>\n    <tr style=\"text-align: right;\">\n      <th></th>\n      <th>Sex</th>\n      <th>Age</th>\n      <th>Time_at_address</th>\n      <th>Res_status</th>\n      <th>Telephone</th>\n      <th>Time_employed</th>\n      <th>Time_bank</th>\n      <th>Liab_ref</th>\n      <th>Acc_ref</th>\n      <th>Home_Expn</th>\n      <th>...</th>\n      <th>executive</th>\n      <th>guard_etc</th>\n      <th>labourer</th>\n      <th>manager</th>\n      <th>office_st</th>\n      <th>productio</th>\n      <th>professio</th>\n      <th>sales</th>\n      <th>semi_pro</th>\n      <th>unemploye</th>\n    </tr>\n  </thead>\n  <tbody>\n    <tr>\n      <th>Sex</th>\n      <td>1.000000</td>\n      <td>0.025167</td>\n      <td>-0.031594</td>\n      <td>0.121713</td>\n      <td>0.121713</td>\n      <td>0.077239</td>\n      <td>-0.072303</td>\n      <td>0.010508</td>\n      <td>0.095826</td>\n      <td>0.115355</td>\n      <td>...</td>\n      <td>0.033932</td>\n      <td>0.022947</td>\n      <td>-0.008220</td>\n      <td>0.141564</td>\n      <td>-0.239058</td>\n      <td>0.089171</td>\n      <td>-0.028788</td>\n      <td>-0.116177</td>\n      <td>0.057602</td>\n      <td>-0.085110</td>\n    </tr>\n    <tr>\n      <th>Age</th>\n      <td>0.025167</td>\n      <td>1.000000</td>\n      <td>0.217342</td>\n      <td>-0.080265</td>\n      <td>-0.080265</td>\n      <td>0.426890</td>\n      <td>0.208736</td>\n      <td>0.049109</td>\n      <td>-0.040445</td>\n      <td>-0.072254</td>\n      <td>...</td>\n      <td>0.195693</td>\n      <td>0.028675</td>\n      <td>-0.035318</td>\n      <td>0.056127</td>\n      <td>-0.085265</td>\n      <td>-0.025142</td>\n      <td>-0.008012</td>\n      <td>-0.061906</td>\n      <td>-0.002900</td>\n      <td>0.210038</td>\n    </tr>\n    <tr>\n      <th>Time_at_address</th>\n      <td>-0.031594</td>\n      <td>0.217342</td>\n      <td>1.000000</td>\n      <td>-0.100614</td>\n      <td>-0.100614</td>\n      <td>0.278849</td>\n      <td>0.202083</td>\n      <td>-0.049978</td>\n      <td>-0.144258</td>\n      <td>-0.267470</td>\n      <td>...</td>\n      <td>0.194672</td>\n      <td>-0.074592</td>\n      <td>-0.027105</td>\n      <td>-0.062565</td>\n      <td>0.060743</td>\n      <td>0.007001</td>\n      <td>-0.023361</td>\n      <td>0.018662</td>\n      <td>-0.069254</td>\n      <td>0.028853</td>\n    </tr>\n    <tr>\n      <th>Res_status</th>\n      <td>0.121713</td>\n      <td>-0.080265</td>\n      <td>-0.100614</td>\n      <td>1.000000</td>\n      <td>1.000000</td>\n      <td>-0.074690</td>\n      <td>-0.132413</td>\n      <td>0.018827</td>\n      <td>-0.000201</td>\n      <td>-0.006477</td>\n      <td>...</td>\n      <td>-0.013801</td>\n      <td>-0.059316</td>\n      <td>0.103196</td>\n      <td>-0.007468</td>\n      <td>-0.141542</td>\n      <td>0.015006</td>\n      <td>0.058154</td>\n      <td>-0.043244</td>\n      <td>0.012631</td>\n      <td>0.048437</td>\n    </tr>\n    <tr>\n      <th>Telephone</th>\n      <td>0.121713</td>\n      <td>-0.080265</td>\n      <td>-0.100614</td>\n      <td>1.000000</td>\n      <td>1.000000</td>\n      <td>-0.074690</td>\n      <td>-0.132413</td>\n      <td>0.018827</td>\n      <td>-0.000201</td>\n      <td>-0.006477</td>\n      <td>...</td>\n      <td>-0.013801</td>\n      <td>-0.059316</td>\n      <td>0.103196</td>\n      <td>-0.007468</td>\n      <td>-0.141542</td>\n      <td>0.015006</td>\n      <td>0.058154</td>\n      <td>-0.043244</td>\n      <td>0.012631</td>\n      <td>0.048437</td>\n    </tr>\n    <tr>\n      <th>Time_employed</th>\n      <td>0.077239</td>\n      <td>0.426890</td>\n      <td>0.278849</td>\n      <td>-0.074690</td>\n      <td>-0.074690</td>\n      <td>1.000000</td>\n      <td>0.291542</td>\n      <td>0.122561</td>\n      <td>-0.025000</td>\n      <td>-0.110933</td>\n      <td>...</td>\n      <td>0.158402</td>\n      <td>-0.048504</td>\n      <td>-0.076296</td>\n      <td>0.085916</td>\n      <td>0.045731</td>\n      <td>-0.005221</td>\n      <td>0.065455</td>\n      <td>-0.080398</td>\n      <td>0.001919</td>\n      <td>-0.042615</td>\n    </tr>\n    <tr>\n      <th>Time_bank</th>\n      <td>-0.072303</td>\n      <td>0.208736</td>\n      <td>0.202083</td>\n      <td>-0.132413</td>\n      <td>-0.132413</td>\n      <td>0.291542</td>\n      <td>1.000000</td>\n      <td>0.051000</td>\n      <td>-0.158334</td>\n      <td>-0.111761</td>\n      <td>...</td>\n      <td>0.070908</td>\n      <td>-0.079085</td>\n      <td>-0.102461</td>\n      <td>-0.004365</td>\n      <td>0.115238</td>\n      <td>-0.035694</td>\n      <td>0.030341</td>\n      <td>-0.087884</td>\n      <td>0.042998</td>\n      <td>-0.026283</td>\n    </tr>\n    <tr>\n      <th>Liab_ref</th>\n      <td>0.010508</td>\n      <td>0.049109</td>\n      <td>-0.049978</td>\n      <td>0.018827</td>\n      <td>0.018827</td>\n      <td>0.122561</td>\n      <td>0.051000</td>\n      <td>1.000000</td>\n      <td>0.033197</td>\n      <td>0.127133</td>\n      <td>...</td>\n      <td>-0.047445</td>\n      <td>0.051444</td>\n      <td>0.044265</td>\n      <td>0.041821</td>\n      <td>-0.005693</td>\n      <td>0.037271</td>\n      <td>0.030484</td>\n      <td>-0.057168</td>\n      <td>-0.003053</td>\n      <td>-0.086354</td>\n    </tr>\n    <tr>\n      <th>Acc_ref</th>\n      <td>0.095826</td>\n      <td>-0.040445</td>\n      <td>-0.144258</td>\n      <td>-0.000201</td>\n      <td>-0.000201</td>\n      <td>-0.025000</td>\n      <td>-0.158334</td>\n      <td>0.033197</td>\n      <td>1.000000</td>\n      <td>0.096426</td>\n      <td>...</td>\n      <td>0.023691</td>\n      <td>-0.017403</td>\n      <td>0.029235</td>\n      <td>0.254292</td>\n      <td>-0.071914</td>\n      <td>-0.036777</td>\n      <td>-0.063317</td>\n      <td>-0.077889</td>\n      <td>-0.019012</td>\n      <td>-0.041226</td>\n    </tr>\n    <tr>\n      <th>Home_Expn</th>\n      <td>0.115355</td>\n      <td>-0.072254</td>\n      <td>-0.267470</td>\n      <td>-0.006477</td>\n      <td>-0.006477</td>\n      <td>-0.110933</td>\n      <td>-0.111761</td>\n      <td>0.127133</td>\n      <td>0.096426</td>\n      <td>1.000000</td>\n      <td>...</td>\n      <td>-0.022788</td>\n      <td>0.070586</td>\n      <td>-0.024372</td>\n      <td>0.121765</td>\n      <td>-0.017424</td>\n      <td>0.048673</td>\n      <td>0.112318</td>\n      <td>-0.049655</td>\n      <td>0.094591</td>\n      <td>-0.139506</td>\n    </tr>\n    <tr>\n      <th>Balance</th>\n      <td>-0.045248</td>\n      <td>0.101819</td>\n      <td>0.072235</td>\n      <td>-0.068829</td>\n      <td>-0.068829</td>\n      <td>0.112719</td>\n      <td>0.153435</td>\n      <td>-0.013128</td>\n      <td>-0.065739</td>\n      <td>0.080366</td>\n      <td>...</td>\n      <td>0.153182</td>\n      <td>-0.025923</td>\n      <td>-0.053978</td>\n      <td>-0.023879</td>\n      <td>-0.008416</td>\n      <td>-0.028536</td>\n      <td>0.004505</td>\n      <td>-0.028959</td>\n      <td>0.138420</td>\n      <td>-0.020692</td>\n    </tr>\n    <tr>\n      <th>Decision</th>\n      <td>0.052564</td>\n      <td>-0.181241</td>\n      <td>-0.163298</td>\n      <td>0.139104</td>\n      <td>0.139104</td>\n      <td>-0.339833</td>\n      <td>-0.455942</td>\n      <td>-0.068508</td>\n      <td>0.106354</td>\n      <td>0.087311</td>\n      <td>...</td>\n      <td>-0.067796</td>\n      <td>0.131258</td>\n      <td>0.107222</td>\n      <td>0.029066</td>\n      <td>-0.133674</td>\n      <td>-0.028458</td>\n      <td>-0.165153</td>\n      <td>0.033932</td>\n      <td>-0.134504</td>\n      <td>0.173276</td>\n    </tr>\n    <tr>\n      <th>governmen</th>\n      <td>-0.071354</td>\n      <td>0.011700</td>\n      <td>0.032959</td>\n      <td>0.006508</td>\n      <td>0.006508</td>\n      <td>0.135908</td>\n      <td>0.097365</td>\n      <td>-0.041223</td>\n      <td>-0.066981</td>\n      <td>0.059496</td>\n      <td>...</td>\n      <td>-0.079377</td>\n      <td>-0.036600</td>\n      <td>0.019390</td>\n      <td>-0.080452</td>\n      <td>0.179558</td>\n      <td>-0.050329</td>\n      <td>0.191944</td>\n      <td>-0.089877</td>\n      <td>0.117460</td>\n      <td>-0.133296</td>\n    </tr>\n    <tr>\n      <th>military</th>\n      <td>0.033287</td>\n      <td>-0.054508</td>\n      <td>-0.022068</td>\n      <td>-0.026127</td>\n      <td>-0.026127</td>\n      <td>-0.027837</td>\n      <td>-0.003413</td>\n      <td>0.052702</td>\n      <td>-0.013490</td>\n      <td>-0.005677</td>\n      <td>...</td>\n      <td>-0.010689</td>\n      <td>-0.014407</td>\n      <td>-0.015924</td>\n      <td>-0.012773</td>\n      <td>-0.017357</td>\n      <td>-0.016547</td>\n      <td>-0.010966</td>\n      <td>-0.013490</td>\n      <td>-0.010689</td>\n      <td>-0.013254</td>\n    </tr>\n    <tr>\n      <th>private_s</th>\n      <td>0.043589</td>\n      <td>-0.247584</td>\n      <td>-0.083958</td>\n      <td>-0.021999</td>\n      <td>-0.021999</td>\n      <td>-0.172712</td>\n      <td>-0.115185</td>\n      <td>0.037822</td>\n      <td>0.089868</td>\n      <td>0.035104</td>\n      <td>...</td>\n      <td>-0.190084</td>\n      <td>-0.203628</td>\n      <td>0.081608</td>\n      <td>0.130195</td>\n      <td>-0.004043</td>\n      <td>0.175375</td>\n      <td>-0.066073</td>\n      <td>0.163973</td>\n      <td>-0.030814</td>\n      <td>-0.348558</td>\n    </tr>\n    <tr>\n      <th>retired</th>\n      <td>0.021153</td>\n      <td>0.309407</td>\n      <td>0.271421</td>\n      <td>-0.033319</td>\n      <td>-0.033319</td>\n      <td>0.265212</td>\n      <td>0.155554</td>\n      <td>-0.022658</td>\n      <td>-0.038472</td>\n      <td>-0.149999</td>\n      <td>...</td>\n      <td>0.623377</td>\n      <td>-0.041086</td>\n      <td>-0.045412</td>\n      <td>-0.036426</td>\n      <td>-0.049501</td>\n      <td>-0.047189</td>\n      <td>-0.031274</td>\n      <td>-0.038472</td>\n      <td>-0.030483</td>\n      <td>-0.037799</td>\n    </tr>\n    <tr>\n      <th>self_empl</th>\n      <td>0.087138</td>\n      <td>0.114273</td>\n      <td>-0.058537</td>\n      <td>-0.007264</td>\n      <td>-0.007264</td>\n      <td>0.045330</td>\n      <td>0.030708</td>\n      <td>0.084938</td>\n      <td>0.010466</td>\n      <td>0.076962</td>\n      <td>...</td>\n      <td>0.010833</td>\n      <td>0.515114</td>\n      <td>-0.073270</td>\n      <td>-0.013948</td>\n      <td>-0.110322</td>\n      <td>-0.105172</td>\n      <td>-0.069701</td>\n      <td>-0.053673</td>\n      <td>-0.028552</td>\n      <td>-0.084243</td>\n    </tr>\n    <tr>\n      <th>student</th>\n      <td>-0.018208</td>\n      <td>-0.076762</td>\n      <td>0.030354</td>\n      <td>0.045143</td>\n      <td>0.045143</td>\n      <td>-0.042492</td>\n      <td>-0.035080</td>\n      <td>-0.012399</td>\n      <td>-0.030307</td>\n      <td>-0.043405</td>\n      <td>...</td>\n      <td>0.491076</td>\n      <td>-0.032366</td>\n      <td>-0.035774</td>\n      <td>-0.028695</td>\n      <td>-0.038995</td>\n      <td>-0.037174</td>\n      <td>-0.024637</td>\n      <td>-0.030307</td>\n      <td>-0.024013</td>\n      <td>-0.029777</td>\n    </tr>\n    <tr>\n      <th>unemploye</th>\n      <td>-0.077631</td>\n      <td>0.203320</td>\n      <td>0.020707</td>\n      <td>0.042843</td>\n      <td>0.042843</td>\n      <td>-0.047159</td>\n      <td>-0.031069</td>\n      <td>-0.093314</td>\n      <td>-0.043119</td>\n      <td>-0.142259</td>\n      <td>...</td>\n      <td>-0.061715</td>\n      <td>-0.083181</td>\n      <td>-0.061647</td>\n      <td>-0.073747</td>\n      <td>-0.100218</td>\n      <td>-0.095539</td>\n      <td>-0.063317</td>\n      <td>-0.077889</td>\n      <td>-0.061715</td>\n      <td>0.982505</td>\n    </tr>\n    <tr>\n      <th>creative_</th>\n      <td>0.092333</td>\n      <td>-0.100224</td>\n      <td>-0.043791</td>\n      <td>0.029843</td>\n      <td>0.029843</td>\n      <td>-0.005600</td>\n      <td>0.103602</td>\n      <td>-0.034575</td>\n      <td>-0.036148</td>\n      <td>-0.088680</td>\n      <td>...</td>\n      <td>-0.115540</td>\n      <td>-0.155727</td>\n      <td>-0.172127</td>\n      <td>-0.138066</td>\n      <td>-0.187623</td>\n      <td>-0.178863</td>\n      <td>-0.118538</td>\n      <td>-0.145820</td>\n      <td>-0.115540</td>\n      <td>-0.143269</td>\n    </tr>\n    <tr>\n      <th>driver</th>\n      <td>0.056538</td>\n      <td>-0.061793</td>\n      <td>0.036117</td>\n      <td>0.011242</td>\n      <td>0.011242</td>\n      <td>-0.064149</td>\n      <td>-0.085321</td>\n      <td>0.041735</td>\n      <td>0.135115</td>\n      <td>-0.032013</td>\n      <td>...</td>\n      <td>-0.043525</td>\n      <td>-0.058664</td>\n      <td>-0.064842</td>\n      <td>-0.052011</td>\n      <td>-0.070679</td>\n      <td>-0.067379</td>\n      <td>-0.044654</td>\n      <td>-0.054932</td>\n      <td>-0.043525</td>\n      <td>-0.053971</td>\n    </tr>\n    <tr>\n      <th>executive</th>\n      <td>0.033932</td>\n      <td>0.195693</td>\n      <td>0.194672</td>\n      <td>-0.013801</td>\n      <td>-0.013801</td>\n      <td>0.158402</td>\n      <td>0.070908</td>\n      <td>-0.047445</td>\n      <td>0.023691</td>\n      <td>-0.022788</td>\n      <td>...</td>\n      <td>1.000000</td>\n      <td>-0.065908</td>\n      <td>-0.072849</td>\n      <td>-0.058433</td>\n      <td>-0.079407</td>\n      <td>-0.075700</td>\n      <td>-0.050169</td>\n      <td>-0.061715</td>\n      <td>-0.048900</td>\n      <td>-0.060636</td>\n    </tr>\n    <tr>\n      <th>guard_etc</th>\n      <td>0.022947</td>\n      <td>0.028675</td>\n      <td>-0.074592</td>\n      <td>-0.059316</td>\n      <td>-0.059316</td>\n      <td>-0.048504</td>\n      <td>-0.079085</td>\n      <td>0.051444</td>\n      <td>-0.017403</td>\n      <td>0.070586</td>\n      <td>...</td>\n      <td>-0.065908</td>\n      <td>1.000000</td>\n      <td>-0.098187</td>\n      <td>-0.078758</td>\n      <td>-0.107027</td>\n      <td>-0.102030</td>\n      <td>-0.067618</td>\n      <td>-0.083181</td>\n      <td>-0.065908</td>\n      <td>-0.081726</td>\n    </tr>\n    <tr>\n      <th>labourer</th>\n      <td>-0.008220</td>\n      <td>-0.035318</td>\n      <td>-0.027105</td>\n      <td>0.103196</td>\n      <td>0.103196</td>\n      <td>-0.076296</td>\n      <td>-0.102461</td>\n      <td>0.044265</td>\n      <td>0.029235</td>\n      <td>-0.024372</td>\n      <td>...</td>\n      <td>-0.072849</td>\n      <td>-0.098187</td>\n      <td>1.000000</td>\n      <td>-0.087051</td>\n      <td>-0.118297</td>\n      <td>-0.112774</td>\n      <td>-0.074739</td>\n      <td>-0.091941</td>\n      <td>-0.072849</td>\n      <td>-0.090332</td>\n    </tr>\n    <tr>\n      <th>manager</th>\n      <td>0.141564</td>\n      <td>0.056127</td>\n      <td>-0.062565</td>\n      <td>-0.007468</td>\n      <td>-0.007468</td>\n      <td>0.085916</td>\n      <td>-0.004365</td>\n      <td>0.041821</td>\n      <td>0.254292</td>\n      <td>0.121765</td>\n      <td>...</td>\n      <td>-0.058433</td>\n      <td>-0.078758</td>\n      <td>-0.087051</td>\n      <td>1.000000</td>\n      <td>-0.094888</td>\n      <td>-0.090458</td>\n      <td>-0.059950</td>\n      <td>-0.073747</td>\n      <td>-0.058433</td>\n      <td>-0.072457</td>\n    </tr>\n    <tr>\n      <th>office_st</th>\n      <td>-0.239058</td>\n      <td>-0.085265</td>\n      <td>0.060743</td>\n      <td>-0.141542</td>\n      <td>-0.141542</td>\n      <td>0.045731</td>\n      <td>0.115238</td>\n      <td>-0.005693</td>\n      <td>-0.071914</td>\n      <td>-0.017424</td>\n      <td>...</td>\n      <td>-0.079407</td>\n      <td>-0.107027</td>\n      <td>-0.118297</td>\n      <td>-0.094888</td>\n      <td>1.000000</td>\n      <td>-0.122927</td>\n      <td>-0.081468</td>\n      <td>-0.100218</td>\n      <td>-0.079407</td>\n      <td>-0.098465</td>\n    </tr>\n    <tr>\n      <th>productio</th>\n      <td>0.089171</td>\n      <td>-0.025142</td>\n      <td>0.007001</td>\n      <td>0.015006</td>\n      <td>0.015006</td>\n      <td>-0.005221</td>\n      <td>-0.035694</td>\n      <td>0.037271</td>\n      <td>-0.036777</td>\n      <td>0.048673</td>\n      <td>...</td>\n      <td>-0.075700</td>\n      <td>-0.102030</td>\n      <td>-0.112774</td>\n      <td>-0.090458</td>\n      <td>-0.122927</td>\n      <td>1.000000</td>\n      <td>-0.077664</td>\n      <td>-0.095539</td>\n      <td>-0.075700</td>\n      <td>-0.093867</td>\n    </tr>\n    <tr>\n      <th>professio</th>\n      <td>-0.028788</td>\n      <td>-0.008012</td>\n      <td>-0.023361</td>\n      <td>0.058154</td>\n      <td>0.058154</td>\n      <td>0.065455</td>\n      <td>0.030341</td>\n      <td>0.030484</td>\n      <td>-0.063317</td>\n      <td>0.112318</td>\n      <td>...</td>\n      <td>-0.050169</td>\n      <td>-0.067618</td>\n      <td>-0.074739</td>\n      <td>-0.059950</td>\n      <td>-0.081468</td>\n      <td>-0.077664</td>\n      <td>1.000000</td>\n      <td>-0.063317</td>\n      <td>-0.050169</td>\n      <td>-0.062209</td>\n    </tr>\n    <tr>\n      <th>sales</th>\n      <td>-0.116177</td>\n      <td>-0.061906</td>\n      <td>0.018662</td>\n      <td>-0.043244</td>\n      <td>-0.043244</td>\n      <td>-0.080398</td>\n      <td>-0.087884</td>\n      <td>-0.057168</td>\n      <td>-0.077889</td>\n      <td>-0.049655</td>\n      <td>...</td>\n      <td>-0.061715</td>\n      <td>-0.083181</td>\n      <td>-0.091941</td>\n      <td>-0.073747</td>\n      <td>-0.100218</td>\n      <td>-0.095539</td>\n      <td>-0.063317</td>\n      <td>1.000000</td>\n      <td>-0.061715</td>\n      <td>-0.076527</td>\n    </tr>\n    <tr>\n      <th>semi_pro</th>\n      <td>0.057602</td>\n      <td>-0.002900</td>\n      <td>-0.069254</td>\n      <td>0.012631</td>\n      <td>0.012631</td>\n      <td>0.001919</td>\n      <td>0.042998</td>\n      <td>-0.003053</td>\n      <td>-0.019012</td>\n      <td>0.094591</td>\n      <td>...</td>\n      <td>-0.048900</td>\n      <td>-0.065908</td>\n      <td>-0.072849</td>\n      <td>-0.058433</td>\n      <td>-0.079407</td>\n      <td>-0.075700</td>\n      <td>-0.050169</td>\n      <td>-0.061715</td>\n      <td>1.000000</td>\n      <td>-0.060636</td>\n    </tr>\n    <tr>\n      <th>unemploye</th>\n      <td>-0.085110</td>\n      <td>0.210038</td>\n      <td>0.028853</td>\n      <td>0.048437</td>\n      <td>0.048437</td>\n      <td>-0.042615</td>\n      <td>-0.026283</td>\n      <td>-0.086354</td>\n      <td>-0.041226</td>\n      <td>-0.139506</td>\n      <td>...</td>\n      <td>-0.060636</td>\n      <td>-0.081726</td>\n      <td>-0.090332</td>\n      <td>-0.072457</td>\n      <td>-0.098465</td>\n      <td>-0.093867</td>\n      <td>-0.062209</td>\n      <td>-0.076527</td>\n      <td>-0.060636</td>\n      <td>1.000000</td>\n    </tr>\n  </tbody>\n</table>\n<p>31 rows × 31 columns</p>\n</div>"
     },
     "execution_count": 22,
     "metadata": {},
     "output_type": "execute_result"
    }
   ],
   "source": [
    "# data prepared for correlation\n",
    "\n",
    "corr = dataset.corr()\n",
    "corr"
   ]
  },
  {
   "cell_type": "code",
   "execution_count": 23,
   "metadata": {},
   "outputs": [],
   "source": [
    "# dropping columns based on correlations\n",
    "\n",
    "# also dropping Time_at_address as it plays trivial role in decision making\n",
    "\n",
    "dataset.drop(['Telephone', 'Time_at_address'], axis=1, inplace=True)"
   ]
  },
  {
   "cell_type": "code",
   "execution_count": 24,
   "metadata": {},
   "outputs": [
    {
     "data": {
      "text/plain": "Index(['Sex', 'Age', 'Res_status', 'Time_employed', 'Time_bank', 'Liab_ref',\n       'Acc_ref', 'Home_Expn', 'Balance', 'Decision', 'governmen', 'military',\n       'private_s', 'retired', 'self_empl', 'student', 'unemploye',\n       'creative_', 'driver', 'executive', 'guard_etc', 'labourer', 'manager',\n       'office_st', 'productio', 'professio', 'sales', 'semi_pro',\n       'unemploye'],\n      dtype='object')"
     },
     "execution_count": 24,
     "metadata": {},
     "output_type": "execute_result"
    }
   ],
   "source": [
    "dataset.columns\n",
    "\n",
    "# inference => we have 33 variables"
   ]
  },
  {
   "cell_type": "code",
   "execution_count": 24,
   "metadata": {},
   "outputs": [],
   "source": []
  },
  {
   "cell_type": "code",
   "execution_count": 25,
   "metadata": {},
   "outputs": [
    {
     "data": {
      "text/plain": "   Sex        Age  Res_status  Time_employed  Time_bank  Liab_ref  Acc_ref  \\\n0    1  50.750000           0              0          0         0        0   \n1    1  19.670000           1              0          0         1        0   \n2    0  52.830002           0              5         14         0        0   \n3    1  22.670000           1              2          0         0        0   \n4    1  29.250000           0              0          0         0        0   \n\n   Home_Expn  Balance  Decision  ...  executive  guard_etc  labourer  manager  \\\n0        145        0         1  ...        0.0        0.0       0.0      0.0   \n1        140        0         1  ...        0.0        0.0       1.0      0.0   \n2          0     2200         0  ...        0.0        0.0       0.0      0.0   \n3          0        0         0  ...        0.0        0.0       0.0      0.0   \n4        228        0         1  ...        0.0        0.0       0.0      0.0   \n\n   office_st  productio  professio  sales  semi_pro  unemploye  \n0        0.0        0.0        0.0    0.0       0.0        1.0  \n1        0.0        0.0        0.0    0.0       0.0        0.0  \n2        0.0        0.0        0.0    0.0       0.0        0.0  \n3        0.0        0.0        0.0    0.0       0.0        0.0  \n4        0.0        0.0        0.0    0.0       0.0        0.0  \n\n[5 rows x 29 columns]",
      "text/html": "<div>\n<style scoped>\n    .dataframe tbody tr th:only-of-type {\n        vertical-align: middle;\n    }\n\n    .dataframe tbody tr th {\n        vertical-align: top;\n    }\n\n    .dataframe thead th {\n        text-align: right;\n    }\n</style>\n<table border=\"1\" class=\"dataframe\">\n  <thead>\n    <tr style=\"text-align: right;\">\n      <th></th>\n      <th>Sex</th>\n      <th>Age</th>\n      <th>Res_status</th>\n      <th>Time_employed</th>\n      <th>Time_bank</th>\n      <th>Liab_ref</th>\n      <th>Acc_ref</th>\n      <th>Home_Expn</th>\n      <th>Balance</th>\n      <th>Decision</th>\n      <th>...</th>\n      <th>executive</th>\n      <th>guard_etc</th>\n      <th>labourer</th>\n      <th>manager</th>\n      <th>office_st</th>\n      <th>productio</th>\n      <th>professio</th>\n      <th>sales</th>\n      <th>semi_pro</th>\n      <th>unemploye</th>\n    </tr>\n  </thead>\n  <tbody>\n    <tr>\n      <th>0</th>\n      <td>1</td>\n      <td>50.750000</td>\n      <td>0</td>\n      <td>0</td>\n      <td>0</td>\n      <td>0</td>\n      <td>0</td>\n      <td>145</td>\n      <td>0</td>\n      <td>1</td>\n      <td>...</td>\n      <td>0.0</td>\n      <td>0.0</td>\n      <td>0.0</td>\n      <td>0.0</td>\n      <td>0.0</td>\n      <td>0.0</td>\n      <td>0.0</td>\n      <td>0.0</td>\n      <td>0.0</td>\n      <td>1.0</td>\n    </tr>\n    <tr>\n      <th>1</th>\n      <td>1</td>\n      <td>19.670000</td>\n      <td>1</td>\n      <td>0</td>\n      <td>0</td>\n      <td>1</td>\n      <td>0</td>\n      <td>140</td>\n      <td>0</td>\n      <td>1</td>\n      <td>...</td>\n      <td>0.0</td>\n      <td>0.0</td>\n      <td>1.0</td>\n      <td>0.0</td>\n      <td>0.0</td>\n      <td>0.0</td>\n      <td>0.0</td>\n      <td>0.0</td>\n      <td>0.0</td>\n      <td>0.0</td>\n    </tr>\n    <tr>\n      <th>2</th>\n      <td>0</td>\n      <td>52.830002</td>\n      <td>0</td>\n      <td>5</td>\n      <td>14</td>\n      <td>0</td>\n      <td>0</td>\n      <td>0</td>\n      <td>2200</td>\n      <td>0</td>\n      <td>...</td>\n      <td>0.0</td>\n      <td>0.0</td>\n      <td>0.0</td>\n      <td>0.0</td>\n      <td>0.0</td>\n      <td>0.0</td>\n      <td>0.0</td>\n      <td>0.0</td>\n      <td>0.0</td>\n      <td>0.0</td>\n    </tr>\n    <tr>\n      <th>3</th>\n      <td>1</td>\n      <td>22.670000</td>\n      <td>1</td>\n      <td>2</td>\n      <td>0</td>\n      <td>0</td>\n      <td>0</td>\n      <td>0</td>\n      <td>0</td>\n      <td>0</td>\n      <td>...</td>\n      <td>0.0</td>\n      <td>0.0</td>\n      <td>0.0</td>\n      <td>0.0</td>\n      <td>0.0</td>\n      <td>0.0</td>\n      <td>0.0</td>\n      <td>0.0</td>\n      <td>0.0</td>\n      <td>0.0</td>\n    </tr>\n    <tr>\n      <th>4</th>\n      <td>1</td>\n      <td>29.250000</td>\n      <td>0</td>\n      <td>0</td>\n      <td>0</td>\n      <td>0</td>\n      <td>0</td>\n      <td>228</td>\n      <td>0</td>\n      <td>1</td>\n      <td>...</td>\n      <td>0.0</td>\n      <td>0.0</td>\n      <td>0.0</td>\n      <td>0.0</td>\n      <td>0.0</td>\n      <td>0.0</td>\n      <td>0.0</td>\n      <td>0.0</td>\n      <td>0.0</td>\n      <td>0.0</td>\n    </tr>\n  </tbody>\n</table>\n<p>5 rows × 29 columns</p>\n</div>"
     },
     "execution_count": 25,
     "metadata": {},
     "output_type": "execute_result"
    }
   ],
   "source": [
    "dataset.head()"
   ]
  },
  {
   "cell_type": "code",
   "execution_count": 25,
   "metadata": {},
   "outputs": [],
   "source": []
  },
  {
   "cell_type": "code",
   "execution_count": 26,
   "metadata": {},
   "outputs": [],
   "source": [
    "X = dataset[['Sex', 'Age', 'Res_status', 'Time_employed', 'Time_bank', 'Liab_ref',\n",
    "       'Acc_ref', 'Home_Expn', 'Balance', 'governmen', 'military',\n",
    "       'private_s', 'retired', 'self_empl', 'student', 'unemploye',\n",
    "       'creative_', 'driver', 'executive', 'guard_etc', 'labourer', 'manager',\n",
    "       'office_st', 'productio', 'professio', 'sales', 'semi_pro',\n",
    "       'unemploye']]\n",
    "\n",
    "y = dataset[['Decision']]"
   ]
  },
  {
   "cell_type": "code",
   "execution_count": 27,
   "metadata": {},
   "outputs": [],
   "source": [
    "X_train, X_test, y_train, y_test = train_test_split(X, y, test_size=0.20)"
   ]
  },
  {
   "cell_type": "code",
   "execution_count": 28,
   "metadata": {},
   "outputs": [
    {
     "name": "stderr",
     "output_type": "stream",
     "text": [
      "C:\\Users\\devsh\\AppData\\Local\\Programs\\Python\\Python37\\lib\\site-packages\\sklearn\\utils\\validation.py:993: DataConversionWarning: A column-vector y was passed when a 1d array was expected. Please change the shape of y to (n_samples, ), for example using ravel().\n",
      "  y = column_or_1d(y, warn=True)\n",
      "C:\\Users\\devsh\\AppData\\Local\\Programs\\Python\\Python37\\lib\\site-packages\\sklearn\\linear_model\\_logistic.py:818: ConvergenceWarning: lbfgs failed to converge (status=1):\n",
      "STOP: TOTAL NO. of ITERATIONS REACHED LIMIT.\n",
      "\n",
      "Increase the number of iterations (max_iter) or scale the data as shown in:\n",
      "    https://scikit-learn.org/stable/modules/preprocessing.html\n",
      "Please also refer to the documentation for alternative solver options:\n",
      "    https://scikit-learn.org/stable/modules/linear_model.html#logistic-regression\n",
      "  extra_warning_msg=_LOGISTIC_SOLVER_CONVERGENCE_MSG,\n"
     ]
    },
    {
     "data": {
      "text/plain": "0.7972027972027972"
     },
     "execution_count": 28,
     "metadata": {},
     "output_type": "execute_result"
    }
   ],
   "source": [
    "# applying logistic regression\n",
    "logistic_regression = LogisticRegression()\n",
    "regression_model = logistic_regression.fit(X_train,y_train)\n",
    "\n",
    "regression_model.score(X, y)"
   ]
  },
  {
   "cell_type": "code",
   "execution_count": 29,
   "metadata": {},
   "outputs": [],
   "source": [
    "predictions = logistic_regression.predict(X_test)"
   ]
  },
  {
   "cell_type": "code",
   "execution_count": 29,
   "metadata": {},
   "outputs": [],
   "source": []
  },
  {
   "cell_type": "code",
   "execution_count": 30,
   "metadata": {},
   "outputs": [
    {
     "name": "stdout",
     "output_type": "stream",
     "text": [
      "Mean Absolute Error: 0.16279069767441862\n",
      "Mean Squared Error: 0.16279069767441862\n",
      "Root Mean Squared Error: 0.4034732923929645\n"
     ]
    }
   ],
   "source": [
    "# calculating the statistical metrics\n",
    "\n",
    "print('Mean Absolute Error:', metrics.mean_absolute_error(y_test, predictions))\n",
    "print('Mean Squared Error:', metrics.mean_squared_error(y_test, predictions))\n",
    "print('Root Mean Squared Error:', np.sqrt(metrics.mean_squared_error(y_test, predictions)))"
   ]
  },
  {
   "cell_type": "code",
   "execution_count": 31,
   "metadata": {},
   "outputs": [
    {
     "name": "stdout",
     "output_type": "stream",
     "text": [
      "Confusion Matrix : \n",
      " [[21 12]\n",
      " [ 2 51]]\n"
     ]
    }
   ],
   "source": [
    "#Confusion matrix:\n",
    "print(\"Confusion Matrix : \\n\", confusion_matrix(y_test, predictions))"
   ]
  },
  {
   "cell_type": "code",
   "execution_count": 33,
   "metadata": {
    "pycharm": {
     "name": "#%%\n"
    }
   },
   "outputs": [
    {
     "name": "stdout",
     "output_type": "stream",
     "text": [
      "R squared value :  0.31160663236134944\n"
     ]
    }
   ],
   "source": [
    "r2 = r2_score(y_test, predictions)\n",
    "print(\"R squared value : \", r2)"
   ]
  },
  {
   "cell_type": "code",
   "execution_count": 71,
   "outputs": [
    {
     "data": {
      "text/plain": "LinregressResult(slope=0.5986277873070323, intercept=0.3636363636363638, rvalue=0.6576844658854166, pvalue=6.012999211574679e-12, stderr=0.07481072828931758, intercept_stderr=0.05872899808288119)"
     },
     "execution_count": 71,
     "metadata": {},
     "output_type": "execute_result"
    }
   ],
   "source": [
    "from scipy.stats import linregress\n",
    "linregress(y_test.to_numpy().ravel(), np.array(predictions))\n"
   ],
   "metadata": {
    "collapsed": false,
    "pycharm": {
     "name": "#%%\n"
    }
   }
  }
 ],
 "metadata": {
  "kernelspec": {
   "display_name": "Python 3 (ipykernel)",
   "language": "python",
   "name": "python3"
  },
  "language_info": {
   "codemirror_mode": {
    "name": "ipython",
    "version": 3
   },
   "file_extension": ".py",
   "mimetype": "text/x-python",
   "name": "python",
   "nbconvert_exporter": "python",
   "pygments_lexer": "ipython3",
   "version": "3.7.8rc1"
  }
 },
 "nbformat": 4,
 "nbformat_minor": 1
}